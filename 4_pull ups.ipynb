{
 "cells": [
  {
   "cell_type": "code",
   "execution_count": 1,
   "id": "ed07d5d7",
   "metadata": {},
   "outputs": [],
   "source": [
    "import cv2"
   ]
  },
  {
   "cell_type": "code",
   "execution_count": 2,
   "id": "449b1528",
   "metadata": {},
   "outputs": [],
   "source": [
    "import numpy as np"
   ]
  },
  {
   "cell_type": "code",
   "execution_count": 3,
   "id": "36d27d5c",
   "metadata": {},
   "outputs": [],
   "source": [
    "img= np.zeros((600,1000,3),np.uint8)"
   ]
  },
  {
   "cell_type": "code",
   "execution_count": 12,
   "id": "58cb8192",
   "metadata": {
    "scrolled": true
   },
   "outputs": [
    {
     "data": {
      "text/plain": [
       "True"
      ]
     },
     "execution_count": 12,
     "metadata": {},
     "output_type": "execute_result"
    }
   ],
   "source": [
    "#1\n",
    "img= np.zeros((600,1000,3),np.uint8)\n",
    "#base \n",
    "img1= cv2.rectangle(img,(0,500),(999,600),(0,55,0),-1)\n",
    "#left line\n",
    "img1= cv2.line(img,(185,1),(185,190),(255,255,255),10)\n",
    "# right line\n",
    "img1= cv2.line(img,(815,190),(815,1),(255,255,255),10)\n",
    "#left and right connect\n",
    "img1= cv2.line(img,(1,190),(999,190),(255,255,255),10)\n",
    "# face\n",
    "img1=cv2.circle(img,(500,250),40,(255,255,255),-1)\n",
    "img1=cv2.circle(img,(500,363),70,(255,255,255),-1)\n",
    "#legs\n",
    "img1=cv2.rectangle(img,(480,420),(500,500),(255,255,255),-1)\n",
    "img1=cv2.rectangle(img,(505,420),(525,500),(255,255,255),-1)\n",
    "#hands\n",
    "img1=cv2.rectangle(img,(410,330),(430,420),(0,69,139),-1) #lefthand\n",
    "img1=cv2.rectangle(img,(570,330),(590,420),(0,69,139),-1) #right hand\n",
    "#cv2.imwrite(r\"D:\\data science\\Open CV\\CV PROJ\\pull ups folder\\i1.jpg\",img1)"
   ]
  },
  {
   "cell_type": "code",
   "execution_count": 13,
   "id": "a312a1f4",
   "metadata": {},
   "outputs": [
    {
     "data": {
      "text/plain": [
       "True"
      ]
     },
     "execution_count": 13,
     "metadata": {},
     "output_type": "execute_result"
    }
   ],
   "source": [
    "#2\n",
    "img= np.zeros((600,1000,3),np.uint8)\n",
    "#base \n",
    "img2= cv2.rectangle(img,(0,500),(999,600),(0,55,0),-1)\n",
    "#left line\n",
    "img2= cv2.line(img,(185,1),(185,190),(255,255,255),10)\n",
    "# right line\n",
    "img2= cv2.line(img,(815,190),(815,1),(255,255,255),10)\n",
    "#left and right connect\n",
    "img2=cv2.line(img,(1,190),(999,190),(255,255,255),10)\n",
    "# face\n",
    "img2=cv2.circle(img,(500,250),40,(255,255,255),-1)\n",
    "img2=cv2.circle(img,(500,363),70,(255,255,255),-1)\n",
    "#legs\n",
    "img2=cv2.rectangle(img,(480,420),(500,500),(255,255,255),-1)\n",
    "img2=cv2.rectangle(img,(505,420),(525,500),(255,255,255),-1)\n",
    "#hands\n",
    "img2=cv2.rectangle(img,(410,250),(430,340),(0,69,139),-1) #lefthand\n",
    "img2=cv2.rectangle(img,(570,250),(590,340),(0,69,139),-1) #right hand\n",
    "#cv2.imwrite(r\"D:\\data science\\Open CV\\CV PROJ\\pull ups folder\\i2.jpg\",img2)"
   ]
  },
  {
   "cell_type": "code",
   "execution_count": 14,
   "id": "5221a0a4",
   "metadata": {},
   "outputs": [
    {
     "data": {
      "text/plain": [
       "True"
      ]
     },
     "execution_count": 14,
     "metadata": {},
     "output_type": "execute_result"
    }
   ],
   "source": [
    "#3\n",
    "img= np.zeros((600,1000,3),np.uint8)\n",
    "#base \n",
    "img3= cv2.rectangle(img,(0,500),(999,600),(0,55,0),-1)\n",
    "#left line\n",
    "img3= cv2.line(img,(185,1),(185,190),(255,255,255),10)\n",
    "# right line\n",
    "img3= cv2.line(img,(815,190),(815,1),(255,255,255),10)\n",
    "#left and right connect\n",
    "img3= cv2.line(img,(1,190),(999,190),(255,255,255),10)\n",
    "# face\n",
    "img3=cv2.circle(img,(500,203),40,(255,255,255),-1)\n",
    "img3=cv2.circle(img,(500,310),70,(255,255,255),-1)\n",
    "#legs\n",
    "img3=cv2.rectangle(img,(480,378),(500,460),(255,255,255),-1)\n",
    "img3=cv2.rectangle(img,(505,378),(525,460),(255,255,255),-1)\n",
    "#hands\n",
    "img3=cv2.rectangle(img,(410,190),(430,315),(0,69,139),-1) #lefthand\n",
    "img3=cv2.rectangle(img,(570,190),(590,315),(0,69,139),-1) #right hand\n",
    "#cv2.imwrite(r\"D:\\data science\\Open CV\\CV PROJ\\pull ups folder\\i3.jpg\",img3)"
   ]
  },
  {
   "cell_type": "code",
   "execution_count": 15,
   "id": "8fe86d04",
   "metadata": {},
   "outputs": [
    {
     "data": {
      "text/plain": [
       "True"
      ]
     },
     "execution_count": 15,
     "metadata": {},
     "output_type": "execute_result"
    }
   ],
   "source": [
    "#4\n",
    "img= np.zeros((600,1000,3),np.uint8)\n",
    "#base \n",
    "img4= cv2.rectangle(img,(0,500),(999,600),(0,55,0),-1)\n",
    "#left line\n",
    "img4= cv2.line(img,(185,1),(185,190),(255,255,255),10)\n",
    "# right line\n",
    "img4= cv2.line(img,(815,190),(815,1),(255,255,255),10)\n",
    "#left and right connect\n",
    "img4= cv2.line(img,(1,190),(999,190),(255,255,255),10)\n",
    "# face\n",
    "img4=cv2.circle(img,(500,100),40,(255,255,255),-1)\n",
    "img4=cv2.circle(img,(500,207),70,(255,255,255),-1)\n",
    "#legs\n",
    "img4=cv2.rectangle(img,(480,270),(500,352),(255,255,255),-1)\n",
    "img4=cv2.rectangle(img,(505,270),(525,352),(255,255,255),-1)\n",
    "#hands\n",
    "img4=cv2.rectangle(img,(410,160),(430,210),(0,69,139),-1) #lefthand\n",
    "img4=cv2.rectangle(img,(570,160),(590,210),(0,69,139),-1) #right hand\n",
    "#cv2.imwrite(r\"D:\\data science\\Open CV\\CV PROJ\\pull ups folder\\i4.jpg\",img4)"
   ]
  },
  {
   "cell_type": "code",
   "execution_count": 16,
   "id": "89eba225",
   "metadata": {},
   "outputs": [
    {
     "data": {
      "text/plain": [
       "True"
      ]
     },
     "execution_count": 16,
     "metadata": {},
     "output_type": "execute_result"
    }
   ],
   "source": [
    "#5\n",
    "img= np.zeros((600,1000,3),np.uint8)\n",
    "#base \n",
    "img5= cv2.rectangle(img,(0,500),(999,600),(0,55,0),-1)\n",
    "#left line\n",
    "img5= cv2.line(img,(185,1),(185,190),(255,255,255),10)\n",
    "# right line\n",
    "img5= cv2.line(img,(815,190),(815,1),(255,255,255),10)\n",
    "#left and right connect\n",
    "img5= cv2.line(img,(1,190),(999,190),(255,255,255),10)\n",
    "# face\n",
    "img5=cv2.circle(img,(500,50),40,(255,255,255),-1)\n",
    "img5=cv2.circle(img,(500,157),70,(255,255,255),-1)\n",
    "#legs\n",
    "img5=cv2.rectangle(img,(480,225),(500,307),(255,255,255),-1)\n",
    "img5=cv2.rectangle(img,(505,225),(525,307),(255,255,255),-1)\n",
    "#hands\n",
    "img5=cv2.rectangle(img,(410,150),(430,190),(0,69,139),-1) #lefthand\n",
    "img5=cv2.rectangle(img,(570,150),(590,190),(0,69,139),-1) #right hand\n",
    "#cv2.imwrite(r\"D:\\data science\\Open CV\\CV PROJ\\pull ups folder\\i5.jpg\",img5)"
   ]
  },
  {
   "cell_type": "code",
   "execution_count": 17,
   "id": "d8489e8a",
   "metadata": {},
   "outputs": [
    {
     "data": {
      "text/plain": [
       "True"
      ]
     },
     "execution_count": 17,
     "metadata": {},
     "output_type": "execute_result"
    }
   ],
   "source": [
    "#6\n",
    "img= np.zeros((600,1000,3),np.uint8)\n",
    "#base \n",
    "img6= cv2.rectangle(img,(0,500),(999,600),(0,55,0),-1)\n",
    "#left line\n",
    "img6= cv2.line(img,(185,1),(185,190),(255,255,255),10)\n",
    "# right line\n",
    "img6= cv2.line(img,(815,190),(815,1),(255,255,255),10)\n",
    "#left and right connect\n",
    "img6= cv2.line(img,(1,190),(999,190),(255,255,255),10)\n",
    "# face\n",
    "img6=cv2.circle(img,(500,100),40,(255,255,255),-1)\n",
    "img6=cv2.circle(img,(500,207),70,(255,255,255),-1)\n",
    "#legs\n",
    "img6=cv2.rectangle(img,(480,270),(500,352),(255,255,255),-1)\n",
    "img6=cv2.rectangle(img,(505,270),(525,352),(255,255,255),-1)\n",
    "#hands\n",
    "img6=cv2.rectangle(img,(410,160),(430,210),(0,69,139),-1) #lefthand\n",
    "img6=cv2.rectangle(img,(570,160),(590,210),(0,69,139),-1) #right hand\n",
    "#cv2.imwrite(r\"D:\\data science\\Open CV\\CV PROJ\\pull ups folder\\i6.jpg\",img6) "
   ]
  },
  {
   "cell_type": "code",
   "execution_count": 18,
   "id": "659431e0",
   "metadata": {},
   "outputs": [
    {
     "data": {
      "text/plain": [
       "True"
      ]
     },
     "execution_count": 18,
     "metadata": {},
     "output_type": "execute_result"
    }
   ],
   "source": [
    "#7\n",
    "img= np.zeros((600,1000,3),np.uint8)\n",
    "#base \n",
    "img7= cv2.rectangle(img,(0,500),(999,600),(0,55,0),-1)\n",
    "#left line\n",
    "img7= cv2.line(img,(185,1),(185,190),(255,255,255),10)\n",
    "# right line\n",
    "img7= cv2.line(img,(815,190),(815,1),(255,255,255),10)\n",
    "#left and right connect\n",
    "img7= cv2.line(img,(1,190),(999,190),(255,255,255),10)\n",
    "# face\n",
    "img7=cv2.circle(img,(500,203),40,(255,255,255),-1)\n",
    "img7=cv2.circle(img,(500,310),70,(255,255,255),-1)\n",
    "#legs\n",
    "img7=cv2.rectangle(img,(480,378),(500,460),(255,255,255),-1)\n",
    "img7=cv2.rectangle(img,(505,378),(525,460),(255,255,255),-1)\n",
    "#hands\n",
    "img7=cv2.rectangle(img,(410,190),(430,315),(0,69,139),-1) #lefthand\n",
    "img7=cv2.rectangle(img,(570,190),(590,315),(0,69,139),-1) #right hand\n",
    "#cv2.imwrite(r\"D:\\data science\\Open CV\\CV PROJ\\pull ups folder\\i7.jpg\",img7)"
   ]
  },
  {
   "cell_type": "code",
   "execution_count": 19,
   "id": "2b1d8f5a",
   "metadata": {},
   "outputs": [
    {
     "data": {
      "text/plain": [
       "True"
      ]
     },
     "execution_count": 19,
     "metadata": {},
     "output_type": "execute_result"
    }
   ],
   "source": [
    "#8\n",
    "img= np.zeros((600,1000,3),np.uint8)\n",
    "#base \n",
    "img8= cv2.rectangle(img,(0,500),(999,600),(0,55,0),-1)\n",
    "#left line\n",
    "img8= cv2.line(img,(185,1),(185,190),(255,255,255),10)\n",
    "# right line\n",
    "img8= cv2.line(img,(815,190),(815,1),(255,255,255),10)\n",
    "#left and right connect\n",
    "img8= cv2.line(img,(1,190),(999,190),(255,255,255),10)\n",
    "# face\n",
    "img8=cv2.circle(img,(500,250),40,(255,255,255),-1)\n",
    "img8=cv2.circle(img,(500,363),70,(255,255,255),-1)\n",
    "#legs\n",
    "img8=cv2.rectangle(img,(480,420),(500,500),(255,255,255),-1)\n",
    "img8=cv2.rectangle(img,(505,420),(525,500),(255,255,255),-1)\n",
    "#hands\n",
    "img8=cv2.rectangle(img,(410,330),(430,420),(0,69,139),-1) #lefthand\n",
    "img8=cv2.rectangle(img,(570,330),(590,420),(0,69,139),-1) #right hand\n",
    "#cv2.imwrite(r\"D:\\data science\\Open CV\\CV PROJ\\pull ups folder\\i8.jpg\",img8)"
   ]
  },
  {
   "cell_type": "code",
   "execution_count": 20,
   "id": "a7b34841",
   "metadata": {},
   "outputs": [
    {
     "data": {
      "text/plain": [
       "True"
      ]
     },
     "execution_count": 20,
     "metadata": {},
     "output_type": "execute_result"
    }
   ],
   "source": [
    "#2\n",
    "#9\n",
    "img= np.zeros((600,1000,3),np.uint8)\n",
    "#base \n",
    "img9= cv2.rectangle(img,(0,500),(999,600),(0,55,0),-1)\n",
    "#left line\n",
    "img9= cv2.line(img,(185,1),(185,190),(255,255,255),10)\n",
    "# right line\n",
    "img9= cv2.line(img,(815,190),(815,1),(255,255,255),10)\n",
    "#left and right connect\n",
    "img9=cv2.line(img,(1,190),(999,190),(255,255,255),10)\n",
    "# face\n",
    "img9=cv2.circle(img,(500,250),40,(255,255,255),-1)\n",
    "img9=cv2.circle(img,(500,363),70,(255,255,255),-1)\n",
    "#legs\n",
    "img9=cv2.rectangle(img,(480,420),(500,500),(255,255,255),-1)\n",
    "img9=cv2.rectangle(img,(505,420),(525,500),(255,255,255),-1)\n",
    "#hands\n",
    "img9=cv2.rectangle(img,(410,250),(430,340),(0,69,139),-1) #lefthand\n",
    "img9=cv2.rectangle(img,(570,250),(590,340),(0,69,139),-1) #right hand\n",
    "#cv2.imwrite(r\"D:\\data science\\Open CV\\CV PROJ\\pull ups folder\\i9.jpg\",img9)"
   ]
  },
  {
   "cell_type": "code",
   "execution_count": 21,
   "id": "75db3876",
   "metadata": {},
   "outputs": [
    {
     "data": {
      "text/plain": [
       "True"
      ]
     },
     "execution_count": 21,
     "metadata": {},
     "output_type": "execute_result"
    }
   ],
   "source": [
    "#3\n",
    "#10\n",
    "img= np.zeros((600,1000,3),np.uint8)\n",
    "#base \n",
    "img10= cv2.rectangle(img,(0,500),(999,600),(0,55,0),-1)\n",
    "#left line\n",
    "img10= cv2.line(img,(185,1),(185,190),(255,255,255),10)\n",
    "# right line\n",
    "img10= cv2.line(img,(815,190),(815,1),(255,255,255),10)\n",
    "#left and right connect\n",
    "img10= cv2.line(img,(1,190),(999,190),(255,255,255),10)\n",
    "# face\n",
    "img10=cv2.circle(img,(500,203),40,(255,255,255),-1)\n",
    "img10=cv2.circle(img,(500,310),70,(255,255,255),-1)\n",
    "#legs\n",
    "img10=cv2.rectangle(img,(480,378),(500,460),(255,255,255),-1)\n",
    "img10=cv2.rectangle(img,(505,378),(525,460),(255,255,255),-1)\n",
    "#hands\n",
    "img10=cv2.rectangle(img,(410,190),(430,315),(0,69,139),-1) #lefthand\n",
    "img10=cv2.rectangle(img,(570,190),(590,315),(0,69,139),-1) #right hand\n",
    "#cv2.imwrite(r\"D:\\data science\\Open CV\\CV PROJ\\pull ups folder\\i10.jpg\",img10)"
   ]
  },
  {
   "cell_type": "code",
   "execution_count": 22,
   "id": "4caf8d25",
   "metadata": {},
   "outputs": [
    {
     "data": {
      "text/plain": [
       "True"
      ]
     },
     "execution_count": 22,
     "metadata": {},
     "output_type": "execute_result"
    }
   ],
   "source": [
    "#4\n",
    "#11\n",
    "img= np.zeros((600,1000,3),np.uint8)\n",
    "#base \n",
    "img11= cv2.rectangle(img,(0,500),(999,600),(0,55,0),-1)\n",
    "#left line\n",
    "img11= cv2.line(img,(185,1),(185,190),(255,255,255),10)\n",
    "# right line\n",
    "img11= cv2.line(img,(815,190),(815,1),(255,255,255),10)\n",
    "#left and right connect\n",
    "img11= cv2.line(img,(1,190),(999,190),(255,255,255),10)\n",
    "# face\n",
    "img11=cv2.circle(img,(500,100),40,(255,255,255),-1)\n",
    "img11=cv2.circle(img,(500,207),70,(255,255,255),-1)\n",
    "#legs\n",
    "img11=cv2.rectangle(img,(480,270),(500,352),(255,255,255),-1)\n",
    "img11=cv2.rectangle(img,(505,270),(525,352),(255,255,255),-1)\n",
    "#hands\n",
    "img11=cv2.rectangle(img,(410,160),(430,210),(0,69,139),-1) #lefthand\n",
    "img11=cv2.rectangle(img,(570,160),(590,210),(0,69,139),-1) #right hand\n",
    "#cv2.imwrite(r\"D:\\data science\\Open CV\\CV PROJ\\pull ups folder\\i11.jpg\",img11)"
   ]
  },
  {
   "cell_type": "code",
   "execution_count": 23,
   "id": "0513a205",
   "metadata": {},
   "outputs": [
    {
     "data": {
      "text/plain": [
       "True"
      ]
     },
     "execution_count": 23,
     "metadata": {},
     "output_type": "execute_result"
    }
   ],
   "source": [
    "#5\n",
    "#12\n",
    "img= np.zeros((600,1000,3),np.uint8)\n",
    "#base \n",
    "img12= cv2.rectangle(img,(0,500),(999,600),(0,55,0),-1)\n",
    "#left line\n",
    "img12= cv2.line(img,(185,1),(185,190),(255,255,255),10)\n",
    "# right line\n",
    "img12= cv2.line(img,(815,190),(815,1),(255,255,255),10)\n",
    "#left and right connect\n",
    "img12= cv2.line(img,(1,190),(999,190),(255,255,255),10)\n",
    "# face\n",
    "img12=cv2.circle(img,(500,50),40,(255,255,255),-1)\n",
    "img12=cv2.circle(img,(500,157),70,(255,255,255),-1)\n",
    "#legs\n",
    "img12=cv2.rectangle(img,(480,225),(500,307),(255,255,255),-1)\n",
    "img12=cv2.rectangle(img,(505,225),(525,307),(255,255,255),-1)\n",
    "#hands\n",
    "img12=cv2.rectangle(img,(410,150),(430,190),(0,69,139),-1) #lefthand\n",
    "img12=cv2.rectangle(img,(570,150),(590,190),(0,69,139),-1) #right hand\n",
    "#cv2.imwrite(r\"D:\\data science\\Open CV\\CV PROJ\\pull ups folder\\i12.jpg\",img12)"
   ]
  },
  {
   "cell_type": "code",
   "execution_count": 24,
   "id": "9429e66b",
   "metadata": {},
   "outputs": [
    {
     "data": {
      "text/plain": [
       "True"
      ]
     },
     "execution_count": 24,
     "metadata": {},
     "output_type": "execute_result"
    }
   ],
   "source": [
    "#6\n",
    "#13\n",
    "img= np.zeros((600,1000,3),np.uint8)\n",
    "#base \n",
    "img13= cv2.rectangle(img,(0,500),(999,600),(0,55,0),-1)\n",
    "#left line\n",
    "img13= cv2.line(img,(185,1),(185,190),(255,255,255),10)\n",
    "# right line\n",
    "img13= cv2.line(img,(815,190),(815,1),(255,255,255),10)\n",
    "#left and right connect\n",
    "img13= cv2.line(img,(1,190),(999,190),(255,255,255),10)\n",
    "# face\n",
    "img13=cv2.circle(img,(500,100),40,(255,255,255),-1)\n",
    "img13=cv2.circle(img,(500,207),70,(255,255,255),-1)\n",
    "#legs\n",
    "img13=cv2.rectangle(img,(480,270),(500,352),(255,255,255),-1)\n",
    "img13=cv2.rectangle(img,(505,270),(525,352),(255,255,255),-1)\n",
    "#hands\n",
    "img13=cv2.rectangle(img,(410,160),(430,210),(0,69,139),-1) #lefthand\n",
    "img13=cv2.rectangle(img,(570,160),(590,210),(0,69,139),-1) #right hand\n",
    "#cv2.imwrite(r\"D:\\data science\\Open CV\\CV PROJ\\pull ups folder\\i13.jpg\",img13) "
   ]
  },
  {
   "cell_type": "code",
   "execution_count": 25,
   "id": "662f5f84",
   "metadata": {},
   "outputs": [
    {
     "data": {
      "text/plain": [
       "True"
      ]
     },
     "execution_count": 25,
     "metadata": {},
     "output_type": "execute_result"
    }
   ],
   "source": [
    "#7\n",
    "#14\n",
    "img= np.zeros((600,1000,3),np.uint8)\n",
    "#base \n",
    "img14= cv2.rectangle(img,(0,500),(999,600),(0,55,0),-1)\n",
    "#left line\n",
    "img14= cv2.line(img,(185,1),(185,190),(255,255,255),10)\n",
    "# right line\n",
    "img14= cv2.line(img,(815,190),(815,1),(255,255,255),10)\n",
    "#left and right connect\n",
    "img14= cv2.line(img,(1,190),(999,190),(255,255,255),10)\n",
    "# face\n",
    "img14=cv2.circle(img,(500,203),40,(255,255,255),-1)\n",
    "img14=cv2.circle(img,(500,310),70,(255,255,255),-1)\n",
    "#legs\n",
    "img14=cv2.rectangle(img,(480,378),(500,460),(255,255,255),-1)\n",
    "img14=cv2.rectangle(img,(505,378),(525,460),(255,255,255),-1)\n",
    "#hands\n",
    "img14=cv2.rectangle(img,(410,190),(430,315),(0,69,139),-1) #lefthand\n",
    "img14=cv2.rectangle(img,(570,190),(590,315),(0,69,139),-1) #right hand\n",
    "#cv2.imwrite(r\"D:\\data science\\Open CV\\CV PROJ\\pull ups folder\\i14.jpg\",img14)"
   ]
  },
  {
   "cell_type": "code",
   "execution_count": 26,
   "id": "adae0a37",
   "metadata": {},
   "outputs": [
    {
     "data": {
      "text/plain": [
       "True"
      ]
     },
     "execution_count": 26,
     "metadata": {},
     "output_type": "execute_result"
    }
   ],
   "source": [
    "#1\n",
    "#15\n",
    "img= np.zeros((600,1000,3),np.uint8)\n",
    "#base \n",
    "img15= cv2.rectangle(img,(0,500),(999,600),(0,55,0),-1)\n",
    "#left line\n",
    "img15= cv2.line(img,(185,1),(185,190),(255,255,255),10)\n",
    "# right line\n",
    "img15= cv2.line(img,(815,190),(815,1),(255,255,255),10)\n",
    "#left and right connect\n",
    "img15= cv2.line(img,(1,190),(999,190),(255,255,255),10)\n",
    "# face\n",
    "img15=cv2.circle(img,(500,250),40,(255,255,255),-1)\n",
    "img15=cv2.circle(img,(500,363),70,(255,255,255),-1)\n",
    "#legs\n",
    "img15=cv2.rectangle(img,(480,420),(500,500),(255,255,255),-1)\n",
    "img15=cv2.rectangle(img,(505,420),(525,500),(255,255,255),-1)\n",
    "#hands\n",
    "img15=cv2.rectangle(img,(410,330),(430,420),(0,69,139),-1) #lefthand\n",
    "img15=cv2.rectangle(img,(570,330),(590,420),(0,69,139),-1) #right hand\n",
    "#cv2.imwrite(r\"D:\\data science\\Open CV\\CV PROJ\\pull ups folder\\i15.jpg\",img15)"
   ]
  },
  {
   "cell_type": "code",
   "execution_count": 27,
   "id": "eb6041fb",
   "metadata": {},
   "outputs": [
    {
     "data": {
      "text/plain": [
       "True"
      ]
     },
     "execution_count": 27,
     "metadata": {},
     "output_type": "execute_result"
    }
   ],
   "source": [
    "#2\n",
    "#16\n",
    "img= np.zeros((600,1000,3),np.uint8)\n",
    "#base \n",
    "img16= cv2.rectangle(img,(0,500),(999,600),(0,55,0),-1)\n",
    "#left line\n",
    "img16= cv2.line(img,(185,1),(185,190),(255,255,255),10)\n",
    "# right line\n",
    "img16= cv2.line(img,(815,190),(815,1),(255,255,255),10)\n",
    "#left and right connect\n",
    "img16=cv2.line(img,(1,190),(999,190),(255,255,255),10)\n",
    "# face\n",
    "img16=cv2.circle(img,(500,250),40,(255,255,255),-1)\n",
    "img16=cv2.circle(img,(500,363),70,(255,255,255),-1)\n",
    "#legs\n",
    "img16=cv2.rectangle(img,(480,420),(500,500),(255,255,255),-1)\n",
    "img16=cv2.rectangle(img,(505,420),(525,500),(255,255,255),-1)\n",
    "#hands\n",
    "img16=cv2.rectangle(img,(410,250),(430,340),(0,69,139),-1) #lefthand\n",
    "img16=cv2.rectangle(img,(570,250),(590,340),(0,69,139),-1) #right hand\n",
    "#cv2.imwrite(r\"D:\\data science\\Open CV\\CV PROJ\\pull ups folder\\i16.jpg\",img16)"
   ]
  },
  {
   "cell_type": "code",
   "execution_count": 28,
   "id": "99a73aee",
   "metadata": {},
   "outputs": [
    {
     "data": {
      "text/plain": [
       "True"
      ]
     },
     "execution_count": 28,
     "metadata": {},
     "output_type": "execute_result"
    }
   ],
   "source": [
    "#3\n",
    "#17\n",
    "img= np.zeros((600,1000,3),np.uint8)\n",
    "#base \n",
    "img17= cv2.rectangle(img,(0,500),(999,600),(0,55,0),-1)\n",
    "#left line\n",
    "img17= cv2.line(img,(185,1),(185,190),(255,255,255),10)\n",
    "# right line\n",
    "img17= cv2.line(img,(815,190),(815,1),(255,255,255),10)\n",
    "#left and right connect\n",
    "img17= cv2.line(img,(1,190),(999,190),(255,255,255),10)\n",
    "# face\n",
    "img17=cv2.circle(img,(500,203),40,(255,255,255),-1)\n",
    "img17=cv2.circle(img,(500,310),70,(255,255,255),-1)\n",
    "#legs\n",
    "img17=cv2.rectangle(img,(480,378),(500,460),(255,255,255),-1)\n",
    "img17=cv2.rectangle(img,(505,378),(525,460),(255,255,255),-1)\n",
    "#hands\n",
    "img17=cv2.rectangle(img,(410,190),(430,315),(0,69,139),-1) #lefthand\n",
    "img17=cv2.rectangle(img,(570,190),(590,315),(0,69,139),-1) #right hand\n",
    "#cv2.imwrite(r\"D:\\data science\\Open CV\\CV PROJ\\pull ups folder\\i17.jpg\",img17)"
   ]
  },
  {
   "cell_type": "code",
   "execution_count": 29,
   "id": "9e7269cc",
   "metadata": {},
   "outputs": [
    {
     "data": {
      "text/plain": [
       "True"
      ]
     },
     "execution_count": 29,
     "metadata": {},
     "output_type": "execute_result"
    }
   ],
   "source": [
    "#4\n",
    "#18\n",
    "img= np.zeros((600,1000,3),np.uint8)\n",
    "#base \n",
    "img18= cv2.rectangle(img,(0,500),(999,600),(0,55,0),-1)\n",
    "#left line\n",
    "img18= cv2.line(img,(185,1),(185,190),(255,255,255),10)\n",
    "# right line\n",
    "img18= cv2.line(img,(815,190),(815,1),(255,255,255),10)\n",
    "#left and right connect\n",
    "img18= cv2.line(img,(1,190),(999,190),(255,255,255),10)\n",
    "4# face\n",
    "img18=cv2.circle(img,(500,100),40,(255,255,255),-1)\n",
    "img18=cv2.circle(img,(500,207),70,(255,255,255),-1)\n",
    "#legs\n",
    "img18=cv2.rectangle(img,(480,270),(500,352),(255,255,255),-1)\n",
    "img18=cv2.rectangle(img,(505,270),(525,352),(255,255,255),-1)\n",
    "#hands\n",
    "img18=cv2.rectangle(img,(410,160),(430,210),(0,69,139),-1) #lefthand\n",
    "img18=cv2.rectangle(img,(570,160),(590,210),(0,69,139),-1) #right hand\n",
    "#cv2.imwrite(r\"D:\\data science\\Open CV\\CV PROJ\\pull ups folder\\i18.jpg\",img18)"
   ]
  },
  {
   "cell_type": "code",
   "execution_count": 30,
   "id": "f7a195f3",
   "metadata": {},
   "outputs": [
    {
     "data": {
      "text/plain": [
       "True"
      ]
     },
     "execution_count": 30,
     "metadata": {},
     "output_type": "execute_result"
    }
   ],
   "source": [
    "#5\n",
    "#19\n",
    "img= np.zeros((600,1000,3),np.uint8)\n",
    "#base \n",
    "img19= cv2.rectangle(img,(0,500),(999,600),(0,55,0),-1)\n",
    "#left line\n",
    "img19= cv2.line(img,(185,1),(185,190),(255,255,255),10)\n",
    "# right line\n",
    "img19= cv2.line(img,(815,190),(815,1),(255,255,255),10)\n",
    "#left and right connect\n",
    "img19= cv2.line(img,(1,190),(999,190),(255,255,255),10)\n",
    "# face\n",
    "img19=cv2.circle(img,(500,50),40,(255,255,255),-1)\n",
    "img19=cv2.circle(img,(500,157),70,(255,255,255),-1)\n",
    "#legs\n",
    "img19=cv2.rectangle(img,(480,225),(500,307),(255,255,255),-1)\n",
    "img19=cv2.rectangle(img,(505,225),(525,307),(255,255,255),-1)\n",
    "#hands\n",
    "img19=cv2.rectangle(img,(410,150),(430,190),(0,69,139),-1) #lefthand\n",
    "img19=cv2.rectangle(img,(570,150),(590,190),(0,69,139),-1) #right hand\n",
    "#cv2.imwrite(r\"D:\\data science\\Open CV\\CV PROJ\\pull ups folder\\i19.jpg\",img19)"
   ]
  },
  {
   "cell_type": "code",
   "execution_count": 31,
   "id": "a994f0f5",
   "metadata": {},
   "outputs": [
    {
     "data": {
      "text/plain": [
       "True"
      ]
     },
     "execution_count": 31,
     "metadata": {},
     "output_type": "execute_result"
    }
   ],
   "source": [
    "#6\n",
    "#20\n",
    "img= np.zeros((600,1000,3),np.uint8)\n",
    "#base \n",
    "img20= cv2.rectangle(img,(0,500),(999,600),(0,55,0),-1)\n",
    "#left line\n",
    "img20= cv2.line(img,(185,1),(185,190),(255,255,255),10)\n",
    "# right line\n",
    "img20= cv2.line(img,(815,190),(815,1),(255,255,255),10)\n",
    "#left and right connect\n",
    "img20= cv2.line(img,(1,190),(999,190),(255,255,255),10)\n",
    "# face\n",
    "img20=cv2.circle(img,(500,100),40,(255,255,255),-1)\n",
    "img20=cv2.circle(img,(500,207),70,(255,255,255),-1)\n",
    "#legs\n",
    "img20=cv2.rectangle(img,(480,270),(500,352),(255,255,255),-1)\n",
    "img20=cv2.rectangle(img,(505,270),(525,352),(255,255,255),-1)\n",
    "#hands\n",
    "img20=cv2.rectangle(img,(410,160),(430,210),(0,69,139),-1) #lefthand\n",
    "img20=cv2.rectangle(img,(570,160),(590,210),(0,69,139),-1) #right hand\n",
    "#cv2.imwrite(r\"D:\\data science\\Open CV\\CV PROJ\\pull ups folder\\i20.jpg\",img20) "
   ]
  },
  {
   "cell_type": "code",
   "execution_count": null,
   "id": "b4b248f4",
   "metadata": {},
   "outputs": [],
   "source": []
  },
  {
   "cell_type": "code",
   "execution_count": 32,
   "id": "86bf307e",
   "metadata": {},
   "outputs": [],
   "source": [
    "count=1\n",
    "while True:\n",
    "    imgf=cv2.imread(r\"D:\\data science\\Open CV\\CV PROJ\\pull ups folder\\i{}.jpg\".format(count))\n",
    "    cv2.imshow(\"gif\",imgf)\n",
    "    if cv2.waitKey(300) & 255 == ord('q'):\n",
    "        break\n",
    "    count=count+1\n",
    "    if count== 21:\n",
    "        count=1\n",
    "cv2.destroyAllWindows()"
   ]
  },
  {
   "cell_type": "code",
   "execution_count": null,
   "id": "54f406f6",
   "metadata": {},
   "outputs": [],
   "source": []
  },
  {
   "cell_type": "code",
   "execution_count": null,
   "id": "5acc8729",
   "metadata": {},
   "outputs": [],
   "source": []
  },
  {
   "cell_type": "code",
   "execution_count": 41,
   "id": "68d31bfe",
   "metadata": {},
   "outputs": [],
   "source": [
    "cv2.imshow(\"img\",img1)\n",
    "cv2.waitKey()\n",
    "cv2.destroyAllWindows()"
   ]
  },
  {
   "cell_type": "code",
   "execution_count": null,
   "id": "faf86dab",
   "metadata": {},
   "outputs": [],
   "source": []
  },
  {
   "cell_type": "code",
   "execution_count": null,
   "id": "5b8048bc",
   "metadata": {},
   "outputs": [],
   "source": []
  },
  {
   "cell_type": "code",
   "execution_count": 84,
   "id": "a5a7f86b",
   "metadata": {},
   "outputs": [],
   "source": []
  },
  {
   "cell_type": "code",
   "execution_count": null,
   "id": "822c5c41",
   "metadata": {},
   "outputs": [],
   "source": []
  },
  {
   "cell_type": "code",
   "execution_count": null,
   "id": "b439f751",
   "metadata": {},
   "outputs": [],
   "source": []
  },
  {
   "cell_type": "code",
   "execution_count": null,
   "id": "c2f06f34",
   "metadata": {},
   "outputs": [],
   "source": []
  },
  {
   "cell_type": "code",
   "execution_count": null,
   "id": "266b68e1",
   "metadata": {},
   "outputs": [],
   "source": []
  }
 ],
 "metadata": {
  "kernelspec": {
   "display_name": "Python 3 (ipykernel)",
   "language": "python",
   "name": "python3"
  },
  "language_info": {
   "codemirror_mode": {
    "name": "ipython",
    "version": 3
   },
   "file_extension": ".py",
   "mimetype": "text/x-python",
   "name": "python",
   "nbconvert_exporter": "python",
   "pygments_lexer": "ipython3",
   "version": "3.9.13"
  }
 },
 "nbformat": 4,
 "nbformat_minor": 5
}
