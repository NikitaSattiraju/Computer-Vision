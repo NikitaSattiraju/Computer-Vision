{
 "cells": [
  {
   "cell_type": "code",
   "execution_count": 1,
   "id": "7bd664df",
   "metadata": {},
   "outputs": [],
   "source": [
    "import numpy as np\n",
    "import cv2"
   ]
  },
  {
   "cell_type": "code",
   "execution_count": 52,
   "id": "5bc882aa",
   "metadata": {},
   "outputs": [],
   "source": [
    "#1\n",
    "#base \n",
    "img1= np.zeros((600,1000,3),np.uint8)\n",
    "img1= cv2.rectangle(img1,(0,500),(999,600),(153,204,255),-1)\n",
    "\n",
    "# face\n",
    "img1=cv2.circle(img1,(500,250),40,(255,255,255),-1)\n",
    "img1=cv2.circle(img1,(500,363),70,(255,255,255),-1)\n",
    "\n",
    "\n",
    "\n",
    "\n",
    "#legs\n",
    "img1=cv2.rectangle(img1,(480,420),(500,500),(255,255,255),-1)\n",
    "img1=cv2.rectangle(img1,(505,420),(525,500),(255,255,255),-1)\n",
    "#hands\n",
    "img1=cv2.rectangle(img1,(410,330),(430,420),(0,69,139),-1) #lefthand\n",
    "img1=cv2.rectangle(img1,(570,330),(590,420),(0,69,139),-1) \n",
    "cv2.putText(img1,\"\"\"     Sad    Reality\"\"\",(250,550),cv2.FONT_HERSHEY_TRIPLEX,1.5,(0,0,0),5)\n",
    "cv2.imshow(\"img\",img1)\n",
    "cv2.waitKey()\n",
    "cv2.destroyAllWindows()"
   ]
  },
  {
   "cell_type": "code",
   "execution_count": 53,
   "id": "9bc107af",
   "metadata": {},
   "outputs": [
    {
     "data": {
      "text/plain": [
       "True"
      ]
     },
     "execution_count": 53,
     "metadata": {},
     "output_type": "execute_result"
    }
   ],
   "source": [
    "cv2.imwrite(r\"C:\\Users\\admin\\Cv Project\\CV PROJ\\entry\\i7.jpg\",img1)"
   ]
  },
  {
   "cell_type": "code",
   "execution_count": 46,
   "id": "fefea59d",
   "metadata": {},
   "outputs": [],
   "source": [
    "#1\n",
    "#base \n",
    "img1= np.zeros((600,1000,3),np.uint8)\n",
    "img2= cv2.rectangle(img1,(0,500),(999,600),(153,204,255),-1)\n",
    "\n",
    "# face\n",
    "img2=cv2.circle(img1,(500,250),40,(255,255,255),-1)\n",
    "img2=cv2.line(img1,(500,345),(500,400),(255,255,255),100)\n",
    "\n",
    "#abs l\n",
    "img2=cv2.line(img1,(475,367),(495,367),(0,0,0),5)\n",
    "img2=cv2.line(img1,(475,387),(495,387),(0,0,0),5)\n",
    "img2=cv2.line(img1,(475,407),(495,407),(0,0,0),5)\n",
    "#abs r\n",
    "img2=cv2.line(img1,(505,367),(525,367),(0,0,0),5)\n",
    "img2=cv2.line(img1,(505,387),(525,387),(0,0,0),5)\n",
    "img2=cv2.line(img1,(505,407),(525,407),(0,0,0),5)\n",
    "#legs\n",
    "img2=cv2.rectangle(img1,(465,420),(495,500),(255,255,255),-1)\n",
    "img2=cv2.rectangle(img1,(510,420),(540,500),(255,255,255),-1)\n",
    "#hands\n",
    "img2=cv2.rectangle(img1,(415,330),(445,420),(0,69,139),-1) #lefthand\n",
    "img2=cv2.rectangle(img1,(550,325),(600,350),(0,69,139),-1)\n",
    "img2=cv2.circle(img1,(570,330),20,(0,69,139),-1)\n",
    "img2=cv2.line(img1,(590,250),(600,335),(0,69,139),30)\n",
    "img2=cv2.circle(img1,(430,340),20,(0,69,139),-1)\n",
    "img2=cv2.circle(img1,(430,360),13,(0,69,139),-1)\n",
    "img2=cv2.circle(img1,(430,420),15,(0,69,139),-1)\n",
    "cv2.putText(img1,\"\"\"Expectations After 1 Month\"\"\",(250,550),cv2.FONT_HERSHEY_TRIPLEX,1.5,(0,0,0),5)\n",
    "cv2.imshow(\"img\",img2)\n",
    "cv2.waitKey()\n",
    "cv2.destroyAllWindows()"
   ]
  },
  {
   "cell_type": "code",
   "execution_count": 47,
   "id": "963e53b5",
   "metadata": {},
   "outputs": [
    {
     "data": {
      "text/plain": [
       "True"
      ]
     },
     "execution_count": 47,
     "metadata": {},
     "output_type": "execute_result"
    }
   ],
   "source": [
    "cv2.imwrite(r\"C:\\Users\\admin\\Cv Project\\CV PROJ\\entry\\i2.jpg\",img2)"
   ]
  },
  {
   "cell_type": "code",
   "execution_count": 48,
   "id": "0375b2c9",
   "metadata": {},
   "outputs": [],
   "source": [
    "#1\n",
    "#base \n",
    "img1= np.zeros((600,1000,3),np.uint8)\n",
    "img3= cv2.rectangle(img1,(0,500),(999,600),(153,204,255),-1)\n",
    "\n",
    "# face\n",
    "img3=cv2.circle(img1,(500,250),40,(255,255,255),-1)\n",
    "img3=cv2.line(img1,(500,345),(500,400),(255,255,255),100)\n",
    "\n",
    "#abs l\n",
    "img3=cv2.line(img1,(475,367),(495,367),(0,0,0),5)\n",
    "img3=cv2.line(img1,(475,387),(495,387),(0,0,0),5)\n",
    "img3=cv2.line(img1,(475,407),(495,407),(0,0,0),5)\n",
    "#abs r\n",
    "img3=cv2.line(img1,(505,367),(525,367),(0,0,0),5)\n",
    "img3=cv2.line(img1,(505,387),(525,387),(0,0,0),5)\n",
    "img3=cv2.line(img1,(505,407),(525,407),(0,0,0),5)\n",
    "#legs\n",
    "img3=cv2.rectangle(img1,(465,420),(495,500),(255,255,255),-1)\n",
    "img3=cv2.rectangle(img1,(510,420),(540,500),(255,255,255),-1)\n",
    "#hands\n",
    "img3=cv2.rectangle(img1,(415,330),(445,420),(0,69,139),-1) #lefthand\n",
    "img3=cv2.rectangle(img1,(550,325),(600,350),(0,69,139),-1)\n",
    "\n",
    "img3=cv2.line(img1,(590,250),(600,335),(0,69,139),30)\n",
    "img3=cv2.circle(img1,(430,340),20,(0,69,139),-1)\n",
    "img3=cv2.circle(img1,(430,360),13,(0,69,139),-1)\n",
    "img3=cv2.circle(img1,(430,420),15,(0,69,139),-1)\n",
    "cv2.putText(img1,\"\"\"Expectations After 1 Month\"\"\",(250,550),cv2.FONT_HERSHEY_TRIPLEX,1.5,(0,0,0),5)\n",
    "cv2.imshow(\"img\",img3)\n",
    "cv2.waitKey()\n",
    "cv2.destroyAllWindows()"
   ]
  },
  {
   "cell_type": "code",
   "execution_count": 49,
   "id": "a7982a6a",
   "metadata": {},
   "outputs": [
    {
     "data": {
      "text/plain": [
       "True"
      ]
     },
     "execution_count": 49,
     "metadata": {},
     "output_type": "execute_result"
    }
   ],
   "source": [
    "cv2.imwrite(r\"C:\\Users\\admin\\Cv Project\\CV PROJ\\entry\\i3.jpg\",img3)"
   ]
  },
  {
   "cell_type": "code",
   "execution_count": 2,
   "id": "0b0209bf",
   "metadata": {},
   "outputs": [],
   "source": [
    "count=1\n",
    "while True:\n",
    "    imgf=cv2.imread(r\"C:\\Users\\admin\\finalcvproj\\images\\i{}.jpg\".format(count))\n",
    "    cv2.imshow(\"gif\",imgf)\n",
    "    if cv2.waitKey(400) & 255 ==ord(\"q\"):\n",
    "        break\n",
    "    count=count+1\n",
    "    if count==45:\n",
    "        count=1\n",
    "cv2.destroyAllWindows()"
   ]
  },
  {
   "cell_type": "code",
   "execution_count": null,
   "id": "f3774d9e",
   "metadata": {},
   "outputs": [],
   "source": []
  },
  {
   "cell_type": "code",
   "execution_count": null,
   "id": "97c09fc8",
   "metadata": {},
   "outputs": [],
   "source": []
  }
 ],
 "metadata": {
  "kernelspec": {
   "display_name": "Python 3 (ipykernel)",
   "language": "python",
   "name": "python3"
  },
  "language_info": {
   "codemirror_mode": {
    "name": "ipython",
    "version": 3
   },
   "file_extension": ".py",
   "mimetype": "text/x-python",
   "name": "python",
   "nbconvert_exporter": "python",
   "pygments_lexer": "ipython3",
   "version": "3.9.13"
  }
 },
 "nbformat": 4,
 "nbformat_minor": 5
}
