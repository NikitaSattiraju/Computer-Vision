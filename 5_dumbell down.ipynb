{
 "cells": [
  {
   "cell_type": "code",
   "execution_count": 1,
   "id": "bba5ee5a",
   "metadata": {},
   "outputs": [],
   "source": [
    "import cv2"
   ]
  },
  {
   "cell_type": "code",
   "execution_count": 2,
   "id": "943e517b",
   "metadata": {},
   "outputs": [],
   "source": [
    "import numpy as np"
   ]
  },
  {
   "cell_type": "code",
   "execution_count": 3,
   "id": "0cdace7b",
   "metadata": {},
   "outputs": [],
   "source": [
    "img= np.zeros((600,1000,3),np.uint8)"
   ]
  },
  {
   "cell_type": "code",
   "execution_count": 4,
   "id": "a5f279bb",
   "metadata": {},
   "outputs": [],
   "source": [
    "#1\n",
    "#base \n",
    "img= np.zeros((600,1000,3),np.uint8)\n",
    "img1= cv2.rectangle(img,(0,500),(999,600),(0,55,0),-1)\n",
    "\n",
    "# face\n",
    "img1=cv2.circle(img,(500,250),40,(255,255,255),-1)\n",
    "img1=cv2.circle(img,(500,363),70,(255,255,255),-1)\n",
    "#legs\n",
    "img1=cv2.rectangle(img,(480,420),(500,500),(255,255,255),-1)\n",
    "img1=cv2.rectangle(img,(505,420),(525,500),(255,255,255),-1)\n",
    "#hands\n",
    "img1=cv2.rectangle(img,(410,330),(430,420),(0,69,139),-1) #lefthand\n",
    "img1=cv2.rectangle(img,(570,330),(590,420),(0,69,139),-1) #right hand\n",
    "#dumbles long\n",
    "# img1=cv2.line(img1,(330,420),(670,420),(0,255,0),5)\n",
    "#LEFT HAND dumbell\n",
    "img1= cv2.line(img,(380,420),(460,420),(140,160,180),5)\n",
    "img1=cv2.circle(img,(380,420),15,(140,160,180),-1)\n",
    "img1=cv2.circle(img,(460,420),15,(140,160,180),-1)\n",
    "#RIGHT HAND dumbell\n",
    "img1= cv2.line(img,(540,420),(620,420),(140,160,180),5)\n",
    "img1=cv2.circle(img,(540,420),15,(140,160,180),-1)\n",
    "img1=cv2.circle(img,(620,420),15,(140,160,180),-1)\n",
    "#cv2.imwrite(r\"D:\\data science\\Open CV\\CV PROJ\\dumbell folder\\i1.jpg\",img1)"
   ]
  },
  {
   "cell_type": "code",
   "execution_count": 6,
   "id": "cc7f9665",
   "metadata": {},
   "outputs": [],
   "source": [
    "#2\n",
    "#base \n",
    "img= np.zeros((600,1000,3),np.uint8)\n",
    "img2= cv2.rectangle(img,(0,500),(999,600),(0,55,0),-1)\n",
    "# face\n",
    "img2=cv2.circle(img,(500,250),40,(255,255,255),-1)\n",
    "img2=cv2.circle(img,(500,363),70,(255,255,255),-1)\n",
    "#legs\n",
    "img2=cv2.rectangle(img,(480,420),(500,500),(255,255,255),-1)\n",
    "img2=cv2.rectangle(img,(505,420),(525,500),(255,255,255),-1)\n",
    "#hands\n",
    "img2=cv2.rectangle(img,(410,330),(430,420),(0,69,139),-1) #lefthand\n",
    "img2=cv2.rectangle(img,(570,330),(590,375),(0,69,139),-1) #right hand\n",
    "#LEFT HAND dumbell\n",
    "img2= cv2.line(img,(380,420),(460,420),(140,160,180),5)\n",
    "img2=cv2.circle(img,(380,420),15,(140,160,180),-1)\n",
    "img2=cv2.circle(img,(460,420),15,(140,160,180),-1)\n",
    "#RIGHT HAND dumbell\n",
    "img2= cv2.line(img,(540,375),(620,375),(140,160,180),5)\n",
    "img2=cv2.circle(img,(540,375),15,(140,160,180),-1)\n",
    "img2=cv2.circle(img,(620,375),15,(140,160,180),-1)\n",
    "#cv2.imwrite(r\"D:\\data science\\Open CV\\CV PROJ\\dumbell folder\\i2.jpg\",img2)"
   ]
  },
  {
   "cell_type": "code",
   "execution_count": 8,
   "id": "fb530202",
   "metadata": {},
   "outputs": [],
   "source": [
    "#3\n",
    "#base \n",
    "img= np.zeros((600,1000,3),np.uint8)\n",
    "img3= cv2.rectangle(img,(0,500),(999,600),(0,55,0),-1)\n",
    "\n",
    "# face\n",
    "img3=cv2.circle(img,(500,250),40,(255,255,255),-1)\n",
    "img3=cv2.circle(img,(500,363),70,(255,255,255),-1)\n",
    "#legs\n",
    "img3=cv2.rectangle(img,(480,420),(500,500),(255,255,255),-1)\n",
    "img3=cv2.rectangle(img,(505,420),(525,500),(255,255,255),-1)\n",
    "#hands\n",
    "img3=cv2.rectangle(img,(410,330),(430,420),(0,69,139),-1) #lefthand\n",
    "img3=cv2.rectangle(img,(570,330),(590,420),(0,69,139),-1) #right hand\n",
    "#dumbles long\n",
    "# img1=cv2.line(img1,(330,420),(670,420),(0,255,0),5)\n",
    "#LEFT HAND dumbell\n",
    "img3= cv2.line(img,(380,420),(460,420),(140,160,180),5)\n",
    "img3=cv2.circle(img,(380,420),15,(140,160,180),-1)\n",
    "img3=cv2.circle(img,(460,420),15,(140,160,180),-1)\n",
    "#RIGHT HAND dumbell\n",
    "img3= cv2.line(img,(540,420),(620,420),(140,160,180),5)\n",
    "img3=cv2.circle(img,(540,420),15,(140,160,180),-1)\n",
    "img3=cv2.circle(img,(620,420),15,(140,160,180),-1)\n",
    "#cv2.imwrite(r\"D:\\data science\\Open CV\\CV PROJ\\dumbell folder\\i3.jpg\",img3)"
   ]
  },
  {
   "cell_type": "code",
   "execution_count": 13,
   "id": "5600293f",
   "metadata": {},
   "outputs": [],
   "source": [
    "#4\n",
    "#base \n",
    "img= np.zeros((600,1000,3),np.uint8)\n",
    "img4= cv2.rectangle(img,(0,500),(999,600),(0,55,0),-1)\n",
    "\n",
    "# face\n",
    "img4=cv2.circle(img,(500,250),40,(255,255,255),-1)\n",
    "img4=cv2.circle(img,(500,363),70,(255,255,255),-1)\n",
    "#legs\n",
    "img4=cv2.rectangle(img,(480,420),(500,500),(255,255,255),-1)\n",
    "img4=cv2.rectangle(img,(505,420),(525,500),(255,255,255),-1)\n",
    "#hands\n",
    "img4=cv2.rectangle(img,(410,330),(430,375),(0,69,139),-1) #lefthand\n",
    "img4=cv2.rectangle(img,(570,330),(590,420),(0,69,139),-1) #right hand\n",
    "#dumbles long\n",
    "# img1=cv2.line(img1,(330,420),(670,420),(0,255,0),5)\n",
    "#LEFT HAND dumbell\n",
    "img4= cv2.line(img,(380,375),(460,375),(140,160,180),5)\n",
    "img4=cv2.circle(img,(380,375),15,(140,160,180),-1)\n",
    "img4=cv2.circle(img,(460,375),15,(140,160,180),-1)\n",
    "#RIGHT HAND dumbell\n",
    "img4= cv2.line(img,(540,420),(620,420),(140,160,180),5)\n",
    "img4=cv2.circle(img,(540,420),15,(140,160,180),-1)\n",
    "img4=cv2.circle(img,(620,420),15,(140,160,180),-1)\n",
    "#cv2.imwrite(r\"D:\\data science\\Open CV\\CV PROJ\\dumbell folder\\i4.jpg\",img4)"
   ]
  },
  {
   "cell_type": "code",
   "execution_count": 11,
   "id": "ef2231b6",
   "metadata": {},
   "outputs": [],
   "source": [
    "#5\n",
    "#base \n",
    "img= np.zeros((600,1000,3),np.uint8)\n",
    "img5= cv2.rectangle(img,(0,500),(999,600),(0,55,0),-1)\n",
    "\n",
    "# face\n",
    "img5=cv2.circle(img,(500,250),40,(255,255,255),-1)\n",
    "img5=cv2.circle(img,(500,363),70,(255,255,255),-1)\n",
    "#legs\n",
    "img5=cv2.rectangle(img,(480,420),(500,500),(255,255,255),-1)\n",
    "img5=cv2.rectangle(img,(505,420),(525,500),(255,255,255),-1)\n",
    "#hands\n",
    "img5=cv2.rectangle(img,(410,330),(430,420),(0,69,139),-1) #lefthand\n",
    "img5=cv2.rectangle(img,(570,330),(590,420),(0,69,139),-1) #right hand\n",
    "#dumbles long\n",
    "# img1=cv2.line(img1,(330,420),(670,420),(0,255,0),5)\n",
    "#LEFT HAND dumbell\n",
    "img5= cv2.line(img,(380,420),(460,420),(140,160,180),5)\n",
    "img5=cv2.circle(img,(380,420),15,(140,160,180),-1)\n",
    "img5=cv2.circle(img,(460,420),15,(140,160,180),-1)\n",
    "#RIGHT HAND dumbell\n",
    "img5= cv2.line(img,(540,420),(620,420),(140,160,180),5)\n",
    "img5=cv2.circle(img,(540,420),15,(140,160,180),-1)\n",
    "img5=cv2.circle(img,(620,420),15,(140,160,180),-1)\n",
    "#cv2.imwrite(r\"D:\\data science\\Open CV\\CV PROJ\\dumbell folder\\i5.jpg\",img5)"
   ]
  },
  {
   "cell_type": "markdown",
   "id": "59f11e49",
   "metadata": {},
   "source": []
  },
  {
   "cell_type": "code",
   "execution_count": null,
   "id": "03d678bd",
   "metadata": {},
   "outputs": [],
   "source": []
  },
  {
   "cell_type": "code",
   "execution_count": 9,
   "id": "fd64daf2",
   "metadata": {},
   "outputs": [],
   "source": [
    "count=1\n",
    "while True:\n",
    "    imgf=cv2.imread(r\"D:\\data science\\Open CV\\CV PROJ\\dumbell folder\\i{}.jpg\".format(count))\n",
    "    cv2.imshow(\"gif\",imgf)\n",
    "    if cv2.waitKey(300) & 255 == ord('q'):\n",
    "        break\n",
    "    count=count+1\n",
    "    if count== 5:\n",
    "        count=1\n",
    "cv2.destroyAllWindows()"
   ]
  },
  {
   "cell_type": "code",
   "execution_count": null,
   "id": "38bc6266",
   "metadata": {},
   "outputs": [],
   "source": []
  },
  {
   "cell_type": "code",
   "execution_count": null,
   "id": "f4f49a48",
   "metadata": {},
   "outputs": [],
   "source": []
  },
  {
   "cell_type": "code",
   "execution_count": 14,
   "id": "03239ae3",
   "metadata": {},
   "outputs": [],
   "source": [
    "cv2.imshow(\"img\",img4)\n",
    "cv2.waitKey()\n",
    "cv2.destroyAllWindows()"
   ]
  },
  {
   "cell_type": "code",
   "execution_count": null,
   "id": "0d401b9d",
   "metadata": {},
   "outputs": [],
   "source": []
  }
 ],
 "metadata": {
  "kernelspec": {
   "display_name": "Python 3 (ipykernel)",
   "language": "python",
   "name": "python3"
  },
  "language_info": {
   "codemirror_mode": {
    "name": "ipython",
    "version": 3
   },
   "file_extension": ".py",
   "mimetype": "text/x-python",
   "name": "python",
   "nbconvert_exporter": "python",
   "pygments_lexer": "ipython3",
   "version": "3.9.13"
  }
 },
 "nbformat": 4,
 "nbformat_minor": 5
}
