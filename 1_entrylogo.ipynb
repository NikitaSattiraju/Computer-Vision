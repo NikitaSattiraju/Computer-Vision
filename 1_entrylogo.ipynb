{
 "cells": [
  {
   "cell_type": "code",
   "execution_count": 1,
   "id": "4ec20add",
   "metadata": {},
   "outputs": [],
   "source": [
    "import numpy as np\n",
    "import cv2\n"
   ]
  },
  {
   "cell_type": "code",
   "execution_count": 2,
   "id": "982beac7",
   "metadata": {},
   "outputs": [
    {
     "data": {
      "text/plain": [
       "True"
      ]
     },
     "execution_count": 2,
     "metadata": {},
     "output_type": "execute_result"
    }
   ],
   "source": [
    "img1= np.zeros((600,1000,3),np.uint8)\n",
    "img1= cv2.rectangle(img1,(0,500),(999,600),(153,150,150),-1)\n",
    "\n",
    "# face\n",
    "img1=cv2.circle(img1,(500,250),40,(255,255,255),-1)\n",
    "img1=cv2.circle(img1,(500,363),70,(255,255,255),-1)\n",
    "\n",
    "\n",
    "\n",
    "\n",
    "\n",
    "#legs\n",
    "img1=cv2.line(img1,(500,420),(475,450),(255,255,255),25)\n",
    "img1=cv2.line(img1,(475,450),(505,500),(255,255,255),25)\n",
    "img1=cv2.rectangle(img1,(510,420),(535,500),(255,255,255),-1)\n",
    "#hands\n",
    "img1=cv2.rectangle(img1,(370,330),(435,350),(0,69,139),-1) #lefthand\n",
    "img1=cv2.rectangle(img1,(570,330),(590,420),(0,69,139),-1) \n",
    "\n",
    "img1=cv2.line(img1,(365,300),(365,500),(255,255,255),3)\n",
    "img1=cv2.line(img1,(390,300),(390,500),(255,255,255),3)\n",
    "img1=cv2.rectangle(img1,(370,220),(390,500),(255,255,255),-1)\n",
    "img1=cv2.rectangle(img1,(370,260),(390,330),(0,0,0),-1)\n",
    "img1=cv2.rectangle(img1,(370,360),(390,390),(0,0,0),-1)\n",
    "img1=cv2.rectangle(img1,(370,420),(390,450),(0,0,0),-1)\n",
    "#board\n",
    "img1=cv2.circle(img1,(380,220),70,(0,0,255),-1)\n",
    "img1=cv2.circle(img1,(380,220),75,(255,255,255),5)\n",
    "cv2.putText(img1,\"\"\"New \"\"\",(330,185),cv2.FONT_HERSHEY_TRIPLEX,0.8,(0,0,0),2)\n",
    "\n",
    "cv2.imshow(\"img\",img1)\n",
    "cv2.waitKey()\n",
    "cv2.destroyAllWindows()\n",
    "cv2.imwrite(r\"C:\\Users\\admin\\Cv Project\\CV PROJ\\entry\\i1.jpg\",img1)"
   ]
  },
  {
   "cell_type": "code",
   "execution_count": 119,
   "id": "94d9a5d2",
   "metadata": {},
   "outputs": [
    {
     "data": {
      "text/plain": [
       "True"
      ]
     },
     "execution_count": 119,
     "metadata": {},
     "output_type": "execute_result"
    }
   ],
   "source": [
    "img1= np.zeros((600,1000,3),np.uint8)\n",
    "img2= cv2.rectangle(img1,(0,500),(999,600),(153,150,150),-1)\n",
    "\n",
    "# face\n",
    "img2=cv2.circle(img1,(500,250),40,(255,255,255),-1)\n",
    "img2=cv2.circle(img1,(500,363),70,(255,255,255),-1)\n",
    "\n",
    "\n",
    "\n",
    "\n",
    "\n",
    "#legs\n",
    "img2=cv2.line(img1,(500,420),(475,450),(255,255,255),25)\n",
    "img2=cv2.line(img1,(475,450),(505,500),(255,255,255),25)\n",
    "img2=cv2.rectangle(img1,(510,420),(535,500),(255,255,255),-1)\n",
    "#hands\n",
    "img2=cv2.rectangle(img1,(370,330),(435,350),(0,69,139),-1) #lefthand\n",
    "img2=cv2.rectangle(img1,(570,330),(590,420),(0,69,139),-1) \n",
    "\n",
    "img2=cv2.line(img1,(365,300),(365,500),(255,255,255),3)\n",
    "img2=cv2.line(img1,(390,300),(390,500),(255,255,255),3)\n",
    "img2=cv2.rectangle(img1,(370,220),(390,500),(255,255,255),-1)\n",
    "img2=cv2.rectangle(img1,(370,260),(390,330),(0,0,0),-1)\n",
    "img2=cv2.rectangle(img1,(370,360),(390,390),(0,0,0),-1)\n",
    "img2=cv2.rectangle(img1,(370,420),(390,450),(0,0,0),-1)\n",
    "#board\n",
    "img2=cv2.circle(img1,(380,220),70,(0,0,255),-1)\n",
    "img2=cv2.circle(img1,(380,220),75,(255,255,255),5)\n",
    "cv2.putText(img1,\"\"\"New \"\"\",(330,185),cv2.FONT_HERSHEY_TRIPLEX,0.8,(0,0,0),2)\n",
    "cv2.putText(img1,\"\"\"Year\"\"\",(370,205),cv2.FONT_HERSHEY_SIMPLEX,0.8,(0,0,0),2)\n",
    "cv2.imshow(\"img\",img2)\n",
    "cv2.waitKey()\n",
    "cv2.destroyAllWindows()\n",
    "cv2.imwrite(r\"C:\\Users\\admin\\Cv Project\\CV PROJ\\entry\\i2.jpg\",img2)"
   ]
  },
  {
   "cell_type": "code",
   "execution_count": 125,
   "id": "d999dcee",
   "metadata": {},
   "outputs": [
    {
     "data": {
      "text/plain": [
       "True"
      ]
     },
     "execution_count": 125,
     "metadata": {},
     "output_type": "execute_result"
    }
   ],
   "source": [
    "img1= np.zeros((600,1000,3),np.uint8)\n",
    "img3= cv2.rectangle(img1,(0,500),(999,600),(153,150,150),-1)\n",
    "\n",
    "# face\n",
    "img3=cv2.circle(img1,(500,250),40,(255,255,255),-1)\n",
    "img3=cv2.circle(img1,(500,363),70,(255,255,255),-1)\n",
    "\n",
    "\n",
    "\n",
    "\n",
    "\n",
    "#legs\n",
    "img3=cv2.line(img1,(500,420),(475,450),(255,255,255),25)\n",
    "img3=cv2.line(img1,(475,450),(505,500),(255,255,255),25)\n",
    "img3=cv2.rectangle(img1,(510,420),(535,500),(255,255,255),-1)\n",
    "#hands\n",
    "img3=cv2.rectangle(img1,(370,330),(435,350),(0,69,139),-1) #lefthand\n",
    "img3=cv2.rectangle(img1,(570,330),(590,420),(0,69,139),-1) \n",
    "\n",
    "img3=cv2.line(img1,(365,300),(365,500),(255,255,255),3)\n",
    "img3=cv2.line(img1,(390,300),(390,500),(255,255,255),3)\n",
    "img3=cv2.rectangle(img1,(370,220),(390,500),(255,255,255),-1)\n",
    "img3=cv2.rectangle(img1,(370,260),(390,330),(0,0,0),-1)\n",
    "img3=cv2.rectangle(img1,(370,360),(390,390),(0,0,0),-1)\n",
    "img3=cv2.rectangle(img1,(370,420),(390,450),(0,0,0),-1)\n",
    "#board\n",
    "img3=cv2.circle(img1,(380,220),70,(0,0,255),-1)\n",
    "img3=cv2.circle(img1,(380,220),75,(255,255,255),5)\n",
    "cv2.putText(img1,\"\"\"New \"\"\",(330,185),cv2.FONT_HERSHEY_TRIPLEX,0.8,(0,0,0),2)\n",
    "cv2.putText(img1,\"\"\"Year\"\"\",(370,205),cv2.FONT_HERSHEY_SIMPLEX,0.8,(0,0,0),2)\n",
    "cv2.putText(img1,\"\"\"Resolution\"\"\",(320,230),cv2.FONT_HERSHEY_TRIPLEX,0.7,(0,0,0),2)\n",
    "cv2.imshow(\"img\",img3)\n",
    "cv2.waitKey()\n",
    "cv2.destroyAllWindows()\n",
    "cv2.imwrite(r\"C:\\Users\\admin\\Cv Project\\CV PROJ\\entry\\i3.jpg\",img3)"
   ]
  },
  {
   "cell_type": "code",
   "execution_count": 36,
   "id": "199cd80d",
   "metadata": {},
   "outputs": [
    {
     "data": {
      "text/plain": [
       "True"
      ]
     },
     "execution_count": 36,
     "metadata": {},
     "output_type": "execute_result"
    }
   ],
   "source": [
    "img1= np.zeros((600,1000,3),np.uint8)\n",
    "img4= cv2.rectangle(img1,(0,500),(999,600),(153,150,150),-1)\n",
    "\n",
    "# face\n",
    "img4=cv2.circle(img1,(500,250),40,(255,255,255),-1)\n",
    "img4=cv2.circle(img1,(500,363),70,(255,255,255),-1)\n",
    "\n",
    "\n",
    "\n",
    "\n",
    "\n",
    "#legs\n",
    "img4=cv2.line(img1,(500,420),(475,450),(255,255,255),25)\n",
    "img4=cv2.line(img1,(475,450),(505,500),(255,255,255),25)\n",
    "img4=cv2.rectangle(img1,(510,420),(535,500),(255,255,255),-1)\n",
    "#hands\n",
    "img4=cv2.rectangle(img1,(370,330),(435,350),(0,69,139),-1) #lefthand\n",
    "img4=cv2.rectangle(img1,(570,330),(590,420),(0,69,139),-1) \n",
    "\n",
    "img4=cv2.line(img1,(365,150),(365,500),(255,255,255),3)\n",
    "img4=cv2.line(img1,(390,150),(390,500),(255,255,255),3)\n",
    "img4=cv2.rectangle(img1,(370,220),(390,500),(255,255,255),-1)\n",
    "img4=cv2.rectangle(img1,(370,260),(390,330),(0,0,0),-1)\n",
    "img4=cv2.rectangle(img1,(370,360),(390,390),(0,0,0),-1)\n",
    "img4=cv2.rectangle(img1,(370,420),(390,450),(0,0,0),-1)\n",
    "#board\n",
    "img4=cv2.circle(img1,(380,150),100,(0,0,255),-1)\n",
    "img4=cv2.circle(img1,(380,150),105,(255,255,255),5)\n",
    "cv2.putText(img1,\"\"\"New \"\"\",(340,105),cv2.FONT_HERSHEY_TRIPLEX,1.0,(0,0,0),2)\n",
    "cv2.putText(img1,\"\"\"Year\"\"\",(340,135),cv2.FONT_HERSHEY_SIMPLEX,1.0,(0,0,0),2)\n",
    "cv2.putText(img1,\"\"\"Resolution\"\"\",(290,160),cv2.FONT_HERSHEY_TRIPLEX,1.0,(0,0,0),2)\n",
    "cv2.putText(img1,\"\"\"Imagination\"\"\",(295,185),cv2.FONT_HERSHEY_TRIPLEX,0.8,(0,0,0),2)\n",
    "cv2.imshow(\"img\",img4)\n",
    "cv2.waitKey()\n",
    "cv2.destroyAllWindows()\n",
    "cv2.imwrite(r\"C:\\Users\\admin\\Cv Project\\CV PROJ\\entry\\i4.jpg\",img4)"
   ]
  },
  {
   "cell_type": "code",
   "execution_count": null,
   "id": "d065963b",
   "metadata": {},
   "outputs": [],
   "source": []
  },
  {
   "cell_type": "code",
   "execution_count": null,
   "id": "64fa5976",
   "metadata": {},
   "outputs": [],
   "source": []
  }
 ],
 "metadata": {
  "kernelspec": {
   "display_name": "Python 3 (ipykernel)",
   "language": "python",
   "name": "python3"
  },
  "language_info": {
   "codemirror_mode": {
    "name": "ipython",
    "version": 3
   },
   "file_extension": ".py",
   "mimetype": "text/x-python",
   "name": "python",
   "nbconvert_exporter": "python",
   "pygments_lexer": "ipython3",
   "version": "3.9.13"
  }
 },
 "nbformat": 4,
 "nbformat_minor": 5
}
