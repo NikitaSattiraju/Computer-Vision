{
 "cells": [
  {
   "cell_type": "code",
   "execution_count": 1,
   "id": "f9114360",
   "metadata": {},
   "outputs": [],
   "source": [
    "import cv2"
   ]
  },
  {
   "cell_type": "code",
   "execution_count": 2,
   "id": "40f8c38d",
   "metadata": {},
   "outputs": [],
   "source": [
    "import numpy as np"
   ]
  },
  {
   "cell_type": "code",
   "execution_count": 3,
   "id": "4d2258e8",
   "metadata": {},
   "outputs": [],
   "source": [
    "img= np.zeros((600,1000,3),np.uint8)"
   ]
  },
  {
   "cell_type": "code",
   "execution_count": 9,
   "id": "981b99c7",
   "metadata": {},
   "outputs": [
    {
     "data": {
      "text/plain": [
       "True"
      ]
     },
     "execution_count": 9,
     "metadata": {},
     "output_type": "execute_result"
    }
   ],
   "source": [
    "#1\n",
    "img= np.zeros((600,1000,3),np.uint8)\n",
    "#base\n",
    "img1= cv2.rectangle(img,(0,500),(999,600),(0,55,0),-1)\n",
    "#PUNCHING BAG line\n",
    "img1= cv2.line(img,(778,1),(778,230),(255,255,255),2)\n",
    "#Punching bag\n",
    "img1=cv2.circle(img,(778,230),40,(0,0,255),-1)\n",
    "img1= cv2.rectangle(img,(739,233),(818,348),(0,0,255),-1)\n",
    "img1=cv2.circle(img,(778,348),40,(0,0,255),-1)\n",
    "#MAN\n",
    "#HEAD\n",
    "img1=cv2.circle(img,(635,258),40,(255,255,255),-1)\n",
    "img1=cv2.circle(img,(635,358),58,(255,255,255),-1)\n",
    "#LEGS\n",
    "img1=cv2.rectangle(img,(630,417),(647,496),(255,255,255),-1)\n",
    "#SHORT HANDS \n",
    "img1=cv2.rectangle(img,(633,347),(702,367),(0,69,139),-1)\n",
    "img1=cv2.rectangle(img,(633,315),(653,367),(0,69,139),-1)\n",
    "img1=cv2.rectangle(img,(639,315),(653,367),(0,69,139),-1)\n",
    "img1=cv2.circle(img,(702,355),15,(0,0,255),-1)\n",
    "#cv2.imwrite(r\"D:\\data science\\Open CV\\CV PROJ\\punching bag folder\\i1.jpg\",img1)"
   ]
  },
  {
   "cell_type": "code",
   "execution_count": 34,
   "id": "7a9e9dd6",
   "metadata": {},
   "outputs": [],
   "source": [
    "cv2.imshow(\"img\",img1)\n",
    "cv2.waitKey()\n",
    "cv2.destroyAllWindows()"
   ]
  },
  {
   "cell_type": "code",
   "execution_count": 10,
   "id": "9009fbab",
   "metadata": {},
   "outputs": [
    {
     "data": {
      "text/plain": [
       "True"
      ]
     },
     "execution_count": 10,
     "metadata": {},
     "output_type": "execute_result"
    }
   ],
   "source": [
    "#2\n",
    "img= np.zeros((600,1000,3),np.uint8)\n",
    "#base\n",
    "img2= cv2.rectangle(img,(0,500),(999,600),(0,55,0),-1)\n",
    "#PUNCHING BAG line\n",
    "img2= cv2.line(img,(778,1),(778,230),(255,255,255),2)\n",
    "#Punching bag\n",
    "img2=cv2.circle(img,(778,230),40,(0,0,255),-1)\n",
    "img2= cv2.rectangle(img,(739,233),(818,348),(0,0,255),-1)\n",
    "img2=cv2.circle(img,(778,348),40,(0,0,255),-1)\n",
    "#MAN\n",
    "#HEAD\n",
    "img2=cv2.circle(img,(635,258),40,(255,255,255),-1)\n",
    "img2=cv2.circle(img,(635,358),58,(255,255,255),-1)\n",
    "#LEGS\n",
    "img2=cv2.rectangle(img,(630,417),(647,496),(255,255,255),-1)\n",
    "#hands\n",
    "img2=cv2.rectangle(img,(633,327),(737,309),(0,69,139),-1)\n",
    "img2=cv2.circle(img,(739,318),15,(0,0,255),-1)\n",
    "#cv2.imwrite(r\"D:\\data science\\Open CV\\CV PROJ\\punching bag folder\\i2.jpg\",img2)"
   ]
  },
  {
   "cell_type": "code",
   "execution_count": 11,
   "id": "a448cad3",
   "metadata": {},
   "outputs": [
    {
     "data": {
      "text/plain": [
       "True"
      ]
     },
     "execution_count": 11,
     "metadata": {},
     "output_type": "execute_result"
    }
   ],
   "source": [
    "#3\n",
    "img= np.zeros((600,1000,3),np.uint8)\n",
    "#CROSS\n",
    "#base\n",
    "img3= cv2.rectangle(img,(0,500),(999,600),(0,55,0),-1)\n",
    "#line\n",
    "img3= cv2.line(img,(778,1),(795,230),(255,255,255),2)\n",
    "#BAG\n",
    "img3=cv2.circle(img,(795,230),40,(0,0,255),-1)\n",
    "img3= cv2.line(img,(798,230),(811,348),(0,0,255),80)\n",
    "img3=cv2.circle(img,(810,348),40,(0,0,255),-1)\n",
    "#MAN\n",
    "#HEAD\n",
    "img3=cv2.circle(img,(635,258),40,(255,255,255),-1)\n",
    "img3=cv2.circle(img,(635,358),58,(255,255,255),-1)\n",
    "#LEGS\n",
    "img3=cv2.rectangle(img,(630,417),(647,496),(255,255,255),-1)\n",
    "#hands\n",
    "#LONG HANDS\n",
    "img3=cv2.rectangle(img,(633,327),(737,309),(0,69,139),-1)\n",
    "img3=cv2.circle(img,(739,318),15,(0,0,255),-1)\n",
    "#cv2.imwrite(r\"D:\\data science\\Open CV\\CV PROJ\\punching bag folder\\i3.jpg\",img3)"
   ]
  },
  {
   "cell_type": "code",
   "execution_count": null,
   "id": "aa16c8bb",
   "metadata": {},
   "outputs": [],
   "source": []
  },
  {
   "cell_type": "code",
   "execution_count": 12,
   "id": "c4efbab9",
   "metadata": {},
   "outputs": [
    {
     "data": {
      "text/plain": [
       "True"
      ]
     },
     "execution_count": 12,
     "metadata": {},
     "output_type": "execute_result"
    }
   ],
   "source": [
    "#4\n",
    "img= np.zeros((600,1000,3),np.uint8)\n",
    "#base\n",
    "img4= cv2.rectangle(img,(0,500),(999,600),(0,55,0),-1)\n",
    "#PUNCHING BAG line\n",
    "img4= cv2.line(img,(778,1),(778,230),(255,255,255),2)\n",
    "#Punching bag\n",
    "img4=cv2.circle(img,(778,230),40,(0,0,255),-1)\n",
    "img4= cv2.rectangle(img,(739,233),(818,348),(0,0,255),-1)\n",
    "img4=cv2.circle(img,(778,348),40,(0,0,255),-1)\n",
    "#MAN\n",
    "#HEAD\n",
    "img4=cv2.circle(img,(635,258),40,(255,255,255),-1)\n",
    "img4=cv2.circle(img,(635,358),58,(255,255,255),-1)\n",
    "#LEGS\n",
    "img4=cv2.rectangle(img,(630,417),(647,496),(255,255,255),-1)\n",
    "#hands\n",
    "#SHORT HANDS \n",
    "img1=cv2.rectangle(img,(633,347),(702,367),(0,69,139),-1)\n",
    "img1=cv2.rectangle(img,(633,315),(653,367),(0,69,139),-1)\n",
    "img1=cv2.rectangle(img,(639,315),(653,367),(0,69,139),-1)\n",
    "img1=cv2.circle(img,(702,355),15,(0,0,255),-1)\n",
    "#cv2.imwrite(r\"D:\\data science\\Open CV\\CV PROJ\\punching bag folder\\i4.jpg\",img4)"
   ]
  },
  {
   "cell_type": "code",
   "execution_count": 13,
   "id": "68a008fc",
   "metadata": {},
   "outputs": [
    {
     "data": {
      "text/plain": [
       "True"
      ]
     },
     "execution_count": 13,
     "metadata": {},
     "output_type": "execute_result"
    }
   ],
   "source": [
    "#5\n",
    "img= np.zeros((600,1000,3),np.uint8)\n",
    "#CROSS\n",
    "#base\n",
    "img5= cv2.rectangle(img,(0,500),(999,600),(0,55,0),-1)\n",
    "#line\n",
    "img5= cv2.line(img,(778,1),(795,230),(255,255,255),2)\n",
    "#BAG\n",
    "\n",
    "img5= cv2.line(img,(792,230),(775,348),(0,0,255),80)\n",
    "\n",
    "#MAN\n",
    "#HEAD\n",
    "img5=cv2.circle(img,(635,258),40,(255,255,255),-1)\n",
    "img5=cv2.circle(img,(635,358),58,(255,255,255),-1)\n",
    "#LEGS\n",
    "img5=cv2.rectangle(img,(630,417),(647,496),(255,255,255),-1)\n",
    "#hands\n",
    "#SHORT HANDS \n",
    "img1=cv2.rectangle(img,(633,347),(702,367),(0,69,139),-1)\n",
    "img1=cv2.rectangle(img,(633,315),(653,367),(0,69,139),-1)\n",
    "img1=cv2.rectangle(img,(639,315),(653,367),(0,69,139),-1)\n",
    "img1=cv2.circle(img,(702,355),15,(0,0,255),-1)\n",
    "#cv2.imwrite(r\"D:\\data science\\Open CV\\CV PROJ\\punching bag folder\\i5.jpg\",img5)"
   ]
  },
  {
   "cell_type": "code",
   "execution_count": 14,
   "id": "66a18251",
   "metadata": {},
   "outputs": [
    {
     "data": {
      "text/plain": [
       "True"
      ]
     },
     "execution_count": 14,
     "metadata": {},
     "output_type": "execute_result"
    }
   ],
   "source": [
    "#1\n",
    "#6\n",
    "img= np.zeros((600,1000,3),np.uint8)\n",
    "#base\n",
    "img6= cv2.rectangle(img,(0,500),(999,600),(0,55,0),-1)\n",
    "#PUNCHING BAG line\n",
    "img6= cv2.line(img,(778,1),(778,230),(255,255,255),2)\n",
    "#Punching bag\n",
    "img6=cv2.circle(img,(778,230),40,(0,0,255),-1)\n",
    "img6= cv2.rectangle(img,(739,233),(818,348),(0,0,255),-1)\n",
    "img6=cv2.circle(img,(778,348),40,(0,0,255),-1)\n",
    "#MAN\n",
    "#HEAD\n",
    "img6=cv2.circle(img,(635,258),40,(255,255,255),-1)\n",
    "img6=cv2.circle(img,(635,358),58,(255,255,255),-1)\n",
    "#LEGS\n",
    "img6=cv2.rectangle(img,(630,417),(647,496),(255,255,255),-1)\n",
    "#SHORT HANDS \n",
    "img6=cv2.rectangle(img,(633,347),(702,367),(0,69,139),-1)\n",
    "img6=cv2.rectangle(img,(633,315),(653,367),(0,69,139),-1)\n",
    "img6=cv2.rectangle(img,(639,315),(653,367),(0,69,139),-1)\n",
    "img6=cv2.circle(img,(702,355),15,(0,0,255),-1)\n",
    "#cv2.imwrite(r\"D:\\data science\\Open CV\\CV PROJ\\punching bag folder\\i6.jpg\",img6)"
   ]
  },
  {
   "cell_type": "code",
   "execution_count": 15,
   "id": "08f8cf27",
   "metadata": {},
   "outputs": [
    {
     "data": {
      "text/plain": [
       "True"
      ]
     },
     "execution_count": 15,
     "metadata": {},
     "output_type": "execute_result"
    }
   ],
   "source": [
    "#2\n",
    "#7\n",
    "img= np.zeros((600,1000,3),np.uint8)\n",
    "#base\n",
    "img7= cv2.rectangle(img,(0,500),(999,600),(0,55,0),-1)\n",
    "#PUNCHING BAG line\n",
    "img7= cv2.line(img,(778,1),(778,230),(255,255,255),2)\n",
    "#Punching bag\n",
    "img7=cv2.circle(img,(778,230),40,(0,0,255),-1)\n",
    "img7= cv2.rectangle(img,(739,233),(818,348),(0,0,255),-1)\n",
    "img7=cv2.circle(img,(778,348),40,(0,0,255),-1)\n",
    "#MAN\n",
    "#HEAD\n",
    "img7=cv2.circle(img,(635,258),40,(255,255,255),-1)\n",
    "img7=cv2.circle(img,(635,358),58,(255,255,255),-1)\n",
    "#LEGS\n",
    "img7=cv2.rectangle(img,(630,417),(647,496),(255,255,255),-1)\n",
    "#hands\n",
    "img7=cv2.rectangle(img,(633,327),(737,309),(0,69,139),-1)\n",
    "img7=cv2.circle(img,(739,318),15,(0,0,255),-1)\n",
    "#cv2.imwrite(r\"D:\\data science\\Open CV\\CV PROJ\\punching bag folder\\i7.jpg\",img7)"
   ]
  },
  {
   "cell_type": "code",
   "execution_count": 16,
   "id": "176b7d0d",
   "metadata": {},
   "outputs": [
    {
     "data": {
      "text/plain": [
       "True"
      ]
     },
     "execution_count": 16,
     "metadata": {},
     "output_type": "execute_result"
    }
   ],
   "source": [
    "#3\n",
    "#8\n",
    "img= np.zeros((600,1000,3),np.uint8)\n",
    "#CROSS\n",
    "#base\n",
    "img8= cv2.rectangle(img,(0,500),(999,600),(0,55,0),-1)\n",
    "#line\n",
    "img8= cv2.line(img,(778,1),(795,230),(255,255,255),2)\n",
    "#BAG\n",
    "img8=cv2.circle(img,(795,230),40,(0,0,255),-1)\n",
    "img8= cv2.line(img,(798,230),(811,348),(0,0,255),80)\n",
    "img8=cv2.circle(img,(810,348),40,(0,0,255),-1)\n",
    "#MAN\n",
    "#HEAD\n",
    "img8=cv2.circle(img,(635,258),40,(255,255,255),-1)\n",
    "img8=cv2.circle(img,(635,358),58,(255,255,255),-1)\n",
    "#LEGS\n",
    "img8=cv2.rectangle(img,(630,417),(647,496),(255,255,255),-1)\n",
    "#hands\n",
    "#LONG HANDS\n",
    "img8=cv2.rectangle(img,(633,327),(737,309),(0,69,139),-1)\n",
    "img8=cv2.circle(img,(739,318),15,(0,0,255),-1)\n",
    "#cv2.imwrite(r\"D:\\data science\\Open CV\\CV PROJ\\punching bag folder\\i8.jpg\",img8)"
   ]
  },
  {
   "cell_type": "code",
   "execution_count": 17,
   "id": "7bc76f69",
   "metadata": {},
   "outputs": [
    {
     "data": {
      "text/plain": [
       "True"
      ]
     },
     "execution_count": 17,
     "metadata": {},
     "output_type": "execute_result"
    }
   ],
   "source": [
    "#4\n",
    "#9\n",
    "img= np.zeros((600,1000,3),np.uint8)\n",
    "#base\n",
    "img9= cv2.rectangle(img,(0,500),(999,600),(0,55,0),-1)\n",
    "#PUNCHING BAG line\n",
    "img9= cv2.line(img,(778,1),(778,230),(255,255,255),2)\n",
    "#Punching bag\n",
    "img9=cv2.circle(img,(778,230),40,(0,0,255),-1)\n",
    "img9= cv2.rectangle(img,(739,233),(818,348),(0,0,255),-1)\n",
    "img9=cv2.circle(img,(778,348),40,(0,0,255),-1)\n",
    "#MAN\n",
    "#HEAD\n",
    "img9=cv2.circle(img,(635,258),40,(255,255,255),-1)\n",
    "img9=cv2.circle(img,(635,358),58,(255,255,255),-1)\n",
    "#LEGS\n",
    "img9=cv2.rectangle(img,(630,417),(647,496),(255,255,255),-1)\n",
    "#hands\n",
    "#SHORT HANDS \n",
    "img9=cv2.rectangle(img,(633,347),(702,367),(0,69,139),-1)\n",
    "img9=cv2.rectangle(img,(633,315),(653,367),(0,69,139),-1)\n",
    "img9=cv2.rectangle(img,(639,315),(653,367),(0,69,139),-1)\n",
    "img9=cv2.circle(img,(702,355),15,(0,0,255),-1)\n",
    "#cv2.imwrite(r\"D:\\data science\\Open CV\\CV PROJ\\punching bag folder\\i9.jpg\",img9)"
   ]
  },
  {
   "cell_type": "code",
   "execution_count": 18,
   "id": "072c0279",
   "metadata": {},
   "outputs": [
    {
     "data": {
      "text/plain": [
       "True"
      ]
     },
     "execution_count": 18,
     "metadata": {},
     "output_type": "execute_result"
    }
   ],
   "source": [
    "#5\n",
    "#10\n",
    "img= np.zeros((600,1000,3),np.uint8)\n",
    "#CROSS\n",
    "#base\n",
    "img10= cv2.rectangle(img,(0,500),(999,600),(0,55,0),-1)\n",
    "#line\n",
    "img10= cv2.line(img,(778,1),(795,230),(255,255,255),2)\n",
    "#BAG\n",
    "\n",
    "img10= cv2.line(img,(792,230),(775,348),(0,0,255),80)\n",
    "\n",
    "#MAN\n",
    "#HEAD\n",
    "img10=cv2.circle(img,(635,258),40,(255,255,255),-1)\n",
    "img10=cv2.circle(img,(635,358),58,(255,255,255),-1)\n",
    "#LEGS\n",
    "img10=cv2.rectangle(img,(630,417),(647,496),(255,255,255),-1)\n",
    "#hands\n",
    "#SHORT HANDS \n",
    "img10=cv2.rectangle(img,(633,347),(702,367),(0,69,139),-1)\n",
    "img10=cv2.rectangle(img,(633,315),(653,367),(0,69,139),-1)\n",
    "img10=cv2.rectangle(img,(639,315),(653,367),(0,69,139),-1)\n",
    "img10=cv2.circle(img,(702,355),15,(0,0,255),-1)\n",
    "#cv2.imwrite(r\"D:\\data science\\Open CV\\CV PROJ\\punching bag folder\\i10.jpg\",img10)"
   ]
  },
  {
   "cell_type": "code",
   "execution_count": 19,
   "id": "abb53a2d",
   "metadata": {},
   "outputs": [
    {
     "data": {
      "text/plain": [
       "True"
      ]
     },
     "execution_count": 19,
     "metadata": {},
     "output_type": "execute_result"
    }
   ],
   "source": [
    "#1\n",
    "#11\n",
    "img= np.zeros((600,1000,3),np.uint8)\n",
    "#base\n",
    "img11= cv2.rectangle(img,(0,500),(999,600),(0,55,0),-1)\n",
    "#PUNCHING BAG line\n",
    "img11= cv2.line(img,(778,1),(778,230),(255,255,255),2)\n",
    "#Punching bag\n",
    "img11=cv2.circle(img,(778,230),40,(0,0,255),-1)\n",
    "img11= cv2.rectangle(img,(739,233),(818,348),(0,0,255),-1)\n",
    "img11=cv2.circle(img,(778,348),40,(0,0,255),-1)\n",
    "#MAN\n",
    "#HEAD\n",
    "img11=cv2.circle(img,(635,258),40,(255,255,255),-1)\n",
    "img11=cv2.circle(img,(635,358),58,(255,255,255),-1)\n",
    "#LEGS\n",
    "img11=cv2.rectangle(img,(630,417),(647,496),(255,255,255),-1)\n",
    "#SHORT HANDS \n",
    "img11=cv2.rectangle(img,(633,347),(702,367),(0,69,139),-1)\n",
    "img11=cv2.rectangle(img,(633,315),(653,367),(0,69,139),-1)\n",
    "img11=cv2.rectangle(img,(639,315),(653,367),(0,69,139),-1)\n",
    "img11=cv2.circle(img,(702,355),15,(0,0,255),-1)\n",
    "#cv2.imwrite(r\"D:\\data science\\Open CV\\CV PROJ\\punching bag folder\\i11.jpg\",img11)"
   ]
  },
  {
   "cell_type": "code",
   "execution_count": 20,
   "id": "ce1719c7",
   "metadata": {},
   "outputs": [
    {
     "data": {
      "text/plain": [
       "True"
      ]
     },
     "execution_count": 20,
     "metadata": {},
     "output_type": "execute_result"
    }
   ],
   "source": [
    "#2\n",
    "#12\n",
    "img= np.zeros((600,1000,3),np.uint8)\n",
    "#base\n",
    "img12= cv2.rectangle(img,(0,500),(999,600),(0,55,0),-1)\n",
    "#PUNCHING BAG line\n",
    "img12= cv2.line(img,(778,1),(778,230),(255,255,255),2)\n",
    "#Punching bag\n",
    "img12=cv2.circle(img,(778,230),40,(0,0,255),-1)\n",
    "img12= cv2.rectangle(img,(739,233),(818,348),(0,0,255),-1)\n",
    "img12=cv2.circle(img,(778,348),40,(0,0,255),-1)\n",
    "#MAN\n",
    "#HEAD\n",
    "img12=cv2.circle(img,(635,258),40,(255,255,255),-1)\n",
    "img12=cv2.circle(img,(635,358),58,(255,255,255),-1)\n",
    "#LEGS\n",
    "img12=cv2.rectangle(img,(630,417),(647,496),(255,255,255),-1)\n",
    "#hands\n",
    "img12=cv2.rectangle(img,(633,327),(737,309),(0,69,139),-1)\n",
    "img12=cv2.circle(img,(739,318),15,(0,0,255),-1)\n",
    "#cv2.imwrite(r\"D:\\data science\\Open CV\\CV PROJ\\punching bag folder\\i12.jpg\",img12)"
   ]
  },
  {
   "cell_type": "code",
   "execution_count": 21,
   "id": "abb98e9e",
   "metadata": {},
   "outputs": [
    {
     "data": {
      "text/plain": [
       "True"
      ]
     },
     "execution_count": 21,
     "metadata": {},
     "output_type": "execute_result"
    }
   ],
   "source": [
    "#3\n",
    "#13\n",
    "img= np.zeros((600,1000,3),np.uint8)\n",
    "#CROSS\n",
    "#base\n",
    "img13= cv2.rectangle(img,(0,500),(999,600),(0,55,0),-1)\n",
    "#line\n",
    "img13= cv2.line(img,(778,1),(795,230),(255,255,255),2)\n",
    "#BAG\n",
    "img13=cv2.circle(img,(795,230),40,(0,0,255),-1)\n",
    "img13= cv2.line(img,(798,230),(811,348),(0,0,255),80)\n",
    "img13=cv2.circle(img,(810,348),40,(0,0,255),-1)\n",
    "#MAN\n",
    "#HEAD\n",
    "img13=cv2.circle(img,(635,258),40,(255,255,255),-1)\n",
    "img13=cv2.circle(img,(635,358),58,(255,255,255),-1)\n",
    "#LEGS\n",
    "img13=cv2.rectangle(img,(630,417),(647,496),(255,255,255),-1)\n",
    "#hands\n",
    "#LONG HANDS\n",
    "img13=cv2.rectangle(img,(633,327),(737,309),(0,69,139),-1)\n",
    "img13=cv2.circle(img,(739,318),15,(0,0,255),-1)\n",
    "#cv2.imwrite(r\"D:\\data science\\Open CV\\CV PROJ\\punching bag folder\\i13.jpg\",img13)"
   ]
  },
  {
   "cell_type": "code",
   "execution_count": 22,
   "id": "3b5d436a",
   "metadata": {},
   "outputs": [
    {
     "data": {
      "text/plain": [
       "True"
      ]
     },
     "execution_count": 22,
     "metadata": {},
     "output_type": "execute_result"
    }
   ],
   "source": [
    "#4\n",
    "#14\n",
    "img= np.zeros((600,1000,3),np.uint8)\n",
    "#base\n",
    "img14= cv2.rectangle(img,(0,500),(999,600),(0,55,0),-1)\n",
    "#PUNCHING BAG line\n",
    "img14= cv2.line(img,(778,1),(778,230),(255,255,255),2)\n",
    "#Punching bag\n",
    "img14=cv2.circle(img,(778,230),40,(0,0,255),-1)\n",
    "img14= cv2.rectangle(img,(739,233),(818,348),(0,0,255),-1)\n",
    "img14=cv2.circle(img,(778,348),40,(0,0,255),-1)\n",
    "#MAN\n",
    "#HEAD\n",
    "img14=cv2.circle(img,(635,258),40,(255,255,255),-1)\n",
    "img14=cv2.circle(img,(635,358),58,(255,255,255),-1)\n",
    "#LEGS\n",
    "img14=cv2.rectangle(img,(630,417),(647,496),(255,255,255),-1)\n",
    "#hands\n",
    "#SHORT HANDS \n",
    "img14=cv2.rectangle(img,(633,347),(702,367),(0,69,139),-1)\n",
    "img14=cv2.rectangle(img,(633,315),(653,367),(0,69,139),-1)\n",
    "img14=cv2.rectangle(img,(639,315),(653,367),(0,69,139),-1)\n",
    "img14=cv2.circle(img,(702,355),15,(0,0,255),-1)\n",
    "#cv2.imwrite(r\"D:\\data science\\Open CV\\CV PROJ\\punching bag folder\\i14.jpg\",img14)"
   ]
  },
  {
   "cell_type": "code",
   "execution_count": 23,
   "id": "120a7687",
   "metadata": {},
   "outputs": [
    {
     "data": {
      "text/plain": [
       "True"
      ]
     },
     "execution_count": 23,
     "metadata": {},
     "output_type": "execute_result"
    }
   ],
   "source": [
    "#5\n",
    "#15\n",
    "img= np.zeros((600,1000,3),np.uint8)\n",
    "#CROSS\n",
    "#base\n",
    "img15= cv2.rectangle(img,(0,500),(999,600),(0,55,0),-1)\n",
    "#line\n",
    "img15= cv2.line(img,(778,1),(795,230),(255,255,255),2)\n",
    "#BAG\n",
    "\n",
    "img15= cv2.line(img,(792,230),(775,348),(0,0,255),80)\n",
    "\n",
    "#MAN\n",
    "#HEAD\n",
    "img15=cv2.circle(img,(635,258),40,(255,255,255),-1)\n",
    "img15=cv2.circle(img,(635,358),58,(255,255,255),-1)\n",
    "#LEGS\n",
    "img15=cv2.rectangle(img,(630,417),(647,496),(255,255,255),-1)\n",
    "#hands\n",
    "#SHORT HANDS \n",
    "img15=cv2.rectangle(img,(633,347),(702,367),(0,69,139),-1)\n",
    "img15=cv2.rectangle(img,(633,315),(653,367),(0,69,139),-1)\n",
    "img15=cv2.rectangle(img,(639,315),(653,367),(0,69,139),-1)\n",
    "img15=cv2.circle(img,(702,355),15,(0,0,255),-1)\n",
    "#cv2.imwrite(r\"D:\\data science\\Open CV\\CV PROJ\\punching bag folder\\i15.jpg\",img15)"
   ]
  },
  {
   "cell_type": "code",
   "execution_count": null,
   "id": "9d674102",
   "metadata": {},
   "outputs": [],
   "source": []
  },
  {
   "cell_type": "code",
   "execution_count": 116,
   "id": "58cb1260",
   "metadata": {},
   "outputs": [],
   "source": [
    "cv2.imshow(\"img\",img5)\n",
    "cv2.waitKey()\n",
    "cv2.destroyAllWindows()"
   ]
  },
  {
   "cell_type": "code",
   "execution_count": 24,
   "id": "4834f253",
   "metadata": {},
   "outputs": [],
   "source": [
    "count=1\n",
    "while True:\n",
    "    imgf=cv2.imread(r\"D:\\data science\\Open CV\\CV PROJ\\punching bag folder\\i{}.jpg\".format(count))\n",
    "    cv2.imshow(\"gif\",imgf)\n",
    "    if cv2.waitKey(300) & 255 == ord('q'):\n",
    "        break\n",
    "    count=count+1\n",
    "    if count== 16:\n",
    "        count=1\n",
    "cv2.destroyAllWindows()"
   ]
  },
  {
   "cell_type": "code",
   "execution_count": null,
   "id": "fbd5b248",
   "metadata": {},
   "outputs": [],
   "source": []
  },
  {
   "cell_type": "code",
   "execution_count": null,
   "id": "6e9aa88d",
   "metadata": {},
   "outputs": [],
   "source": []
  },
  {
   "cell_type": "code",
   "execution_count": null,
   "id": "e3e1436b",
   "metadata": {},
   "outputs": [],
   "source": [
    "cv2.imshow(\"img\",img1)\n",
    "cv2.waitKey()\n",
    "cv2.destroyAllWindows()"
   ]
  },
  {
   "cell_type": "code",
   "execution_count": null,
   "id": "46c8c146",
   "metadata": {},
   "outputs": [],
   "source": []
  },
  {
   "cell_type": "code",
   "execution_count": null,
   "id": "4f2c95fd",
   "metadata": {},
   "outputs": [],
   "source": []
  },
  {
   "cell_type": "code",
   "execution_count": null,
   "id": "826faddc",
   "metadata": {},
   "outputs": [],
   "source": []
  },
  {
   "cell_type": "code",
   "execution_count": null,
   "id": "d373d172",
   "metadata": {},
   "outputs": [],
   "source": []
  },
  {
   "cell_type": "code",
   "execution_count": null,
   "id": "1c4a4bc1",
   "metadata": {},
   "outputs": [],
   "source": []
  },
  {
   "cell_type": "code",
   "execution_count": null,
   "id": "d1955bf8",
   "metadata": {},
   "outputs": [],
   "source": []
  },
  {
   "cell_type": "code",
   "execution_count": null,
   "id": "e401a544",
   "metadata": {},
   "outputs": [],
   "source": []
  },
  {
   "cell_type": "code",
   "execution_count": null,
   "id": "5bb4266b",
   "metadata": {},
   "outputs": [],
   "source": []
  }
 ],
 "metadata": {
  "kernelspec": {
   "display_name": "Python 3 (ipykernel)",
   "language": "python",
   "name": "python3"
  },
  "language_info": {
   "codemirror_mode": {
    "name": "ipython",
    "version": 3
   },
   "file_extension": ".py",
   "mimetype": "text/x-python",
   "name": "python",
   "nbconvert_exporter": "python",
   "pygments_lexer": "ipython3",
   "version": "3.9.13"
  }
 },
 "nbformat": 4,
 "nbformat_minor": 5
}
