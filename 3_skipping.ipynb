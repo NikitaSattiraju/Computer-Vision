{
 "cells": [
  {
   "cell_type": "code",
   "execution_count": 132,
   "id": "acf50352",
   "metadata": {},
   "outputs": [],
   "source": [
    "import cv2\n",
    "import numpy as np"
   ]
  },
  {
   "cell_type": "code",
   "execution_count": 133,
   "id": "d499ba5d",
   "metadata": {},
   "outputs": [
    {
     "data": {
      "text/plain": [
       "True"
      ]
     },
     "execution_count": 133,
     "metadata": {},
     "output_type": "execute_result"
    }
   ],
   "source": [
    "\n",
    "# skipping\n",
    "img1=np.zeros((600,1000,3),np.uint8)\n",
    "img1= cv2.rectangle(img1,(0,500),(999,600),(0,55,0),-1)\n",
    "# Doremon\n",
    "img1=cv2.circle(img1,(500,179),45,(255,255,255),-1)\n",
    "img1=cv2.circle(img1,(500,298),70,(255,255,255),-1)\n",
    "# hands\n",
    "img1=cv2.line(img1,(425,292),(347,292),(0,69,139),15)\n",
    "#R hand\n",
    "img1=cv2.line(img1,(577,291),(658,291),(0,69,139),15)\n",
    "#legs\n",
    "img1=cv2.rectangle(img1,(478,355),(498,430),(255,255,255),-1)\n",
    "img1=cv2.rectangle(img1,(503,355),(523,430),(255,255,255),-1)\n",
    "# balls\n",
    "img1=cv2.circle(img1,(352,290),10,(255,255,255),-1)\n",
    "img1=cv2.circle(img1,(653,290),10,(255,255,255),-1)\n",
    "# rope\n",
    "img1=cv2.line(img1,(346,292),(345,500),(203,192,255),10)\n",
    "img1=cv2.line(img1,(345,500),(650,500),(203,192,255),10)\n",
    "img1=cv2.line(img1,(650,500),(654,290),(203,192,255),10)\n",
    "\n",
    "cv2.imshow(\"img\",img1)\n",
    "cv2.waitKey(0)\n",
    "cv2.destroyAllWindows()\n",
    "#cv2.imwrite(r\"C:\\Users\\Downloads\\skipping\\i1.jpg\",img1)"
   ]
  },
  {
   "cell_type": "code",
   "execution_count": 134,
   "id": "23875efe",
   "metadata": {},
   "outputs": [
    {
     "data": {
      "text/plain": [
       "True"
      ]
     },
     "execution_count": 134,
     "metadata": {},
     "output_type": "execute_result"
    }
   ],
   "source": [
    "img2=np.zeros((600,1000,3),np.uint8)\n",
    "img2= cv2.rectangle(img2,(0,500),(999,600),(0,55,0),-1)\n",
    "# Doremon\n",
    "img2=cv2.circle(img2,(500,250),40,(255,255,255),-1)\n",
    "img2=cv2.circle(img2,(500,363),70,(255,255,255),-1)\n",
    "# hands\n",
    "img2=cv2.line(img2,(422,330),(387,380),(0,69,139),15)\n",
    "img2=cv2.line(img2,(387,380),(353,339),(0,69,139),15)\n",
    "#R hand\n",
    "img2=cv2.line(img2,(582,336),(622,383),(0,69,139),15)\n",
    "img2=cv2.line(img2,(622,383),(651,342),(0,69,139),15)\n",
    "#legs\n",
    "img2=cv2.rectangle(img2,(480,420),(500,500),(255,255,255),-1)\n",
    "img2=cv2.rectangle(img2,(505,420),(525,500),(255,255,255),-1)\n",
    "# balls\n",
    "img2=cv2.circle(img2,(354,335),10,(255,255,255),-1)\n",
    "img2=cv2.circle(img2,(653,331),10,(255,255,255),-1)\n",
    "# rope\n",
    "img2=cv2.line(img2,(352,335),(351,78),(203,192,255),10)\n",
    "img2=cv2.line(img2,(351,78),(654,77),(203,192,255),10)\n",
    "img2=cv2.line(img2,(654,77),(654,331),(203,192,255),10)\n",
    "\n",
    "cv2.imshow(\"img\",img2)\n",
    "cv2.waitKey(0)\n",
    "cv2.destroyAllWindows()\n",
    "#cv2.imwrite(r\"C:\\Users\\Downloads\\skipping\\i2.jpg\",img2)"
   ]
  },
  {
   "cell_type": "code",
   "execution_count": 135,
   "id": "c47d46c0",
   "metadata": {},
   "outputs": [
    {
     "data": {
      "text/plain": [
       "True"
      ]
     },
     "execution_count": 135,
     "metadata": {},
     "output_type": "execute_result"
    }
   ],
   "source": [
    "# skipping\n",
    "img3=np.zeros((600,1000,3),np.uint8)\n",
    "img3= cv2.rectangle(img3,(0,500),(999,600),(0,55,0),-1)\n",
    "# Doremon\n",
    "img3=cv2.circle(img3,(500,179),45,(255,255,255),-1)\n",
    "img3=cv2.circle(img3,(500,298),70,(255,255,255),-1)\n",
    "# hands\n",
    "img3=cv2.line(img3,(425,292),(347,292),(0,69,139),15)\n",
    "#R hand\n",
    "img3=cv2.line(img3,(577,291),(658,291),(0,69,139),15)\n",
    "#legs\n",
    "img3=cv2.rectangle(img3,(478,355),(498,430),(255,255,255),-1)\n",
    "img3=cv2.rectangle(img3,(503,355),(523,430),(255,255,255),-1)\n",
    "# balls\n",
    "img3=cv2.circle(img3,(352,290),10,(255,255,255),-1)\n",
    "img3=cv2.circle(img3,(653,290),10,(255,255,255),-1)\n",
    "# rope\n",
    "img3=cv2.line(img3,(346,292),(345,500),(203,192,255),10)\n",
    "img3=cv2.line(img3,(345,500),(650,500),(203,192,255),10)\n",
    "img3=cv2.line(img3,(650,500),(654,290),(203,192,255),10)\n",
    "\n",
    "cv2.imshow(\"img\",img3)\n",
    "cv2.waitKey(0)\n",
    "cv2.destroyAllWindows()\n",
    "#cv2.imwrite(r\"C:\\Users\\Downloads\\skipping\\i3.jpg\",img3)"
   ]
  },
  {
   "cell_type": "code",
   "execution_count": 136,
   "id": "cc5d34ed",
   "metadata": {},
   "outputs": [
    {
     "data": {
      "text/plain": [
       "True"
      ]
     },
     "execution_count": 136,
     "metadata": {},
     "output_type": "execute_result"
    }
   ],
   "source": [
    "img4=np.zeros((600,1000,3),np.uint8)\n",
    "img4= cv2.rectangle(img4,(0,500),(999,600),(0,55,0),-1)\n",
    "# Doremon\n",
    "img4=cv2.circle(img4,(500,250),40,(255,255,255),-1)\n",
    "img4=cv2.circle(img4,(500,363),70,(255,255,255),-1)\n",
    "# hands\n",
    "img4=cv2.line(img4,(422,330),(387,380),(0,69,139),15)\n",
    "img4=cv2.line(img4,(387,380),(353,339),(0,69,139),15)\n",
    "#R hand\n",
    "img4=cv2.line(img4,(582,336),(622,383),(0,69,139),15)\n",
    "img4=cv2.line(img4,(622,383),(651,342),(0,69,139),15)\n",
    "#legs\n",
    "img4=cv2.rectangle(img4,(480,420),(500,500),(255,255,255),-1)\n",
    "img4=cv2.rectangle(img4,(505,420),(525,500),(255,255,255),-1)\n",
    "# balls\n",
    "img4=cv2.circle(img4,(354,335),10,(255,255,255),-1)\n",
    "img4=cv2.circle(img4,(653,331),10,(255,255,255),-1)\n",
    "# rope\n",
    "img4=cv2.line(img4,(352,335),(351,78),(203,192,255),10)\n",
    "img4=cv2.line(img4,(351,78),(654,77),(203,192,255),10)\n",
    "img4=cv2.line(img4,(654,77),(654,331),(203,192,255),10)\n",
    "\n",
    "cv2.imshow(\"img\",img4)\n",
    "cv2.waitKey(0)\n",
    "cv2.destroyAllWindows()\n",
    "#cv2.imwrite(r\"C:\\Users\\Downloads\\skipping\\i4.jpg\",img4)"
   ]
  },
  {
   "cell_type": "code",
   "execution_count": 137,
   "id": "9157a206",
   "metadata": {},
   "outputs": [
    {
     "data": {
      "text/plain": [
       "True"
      ]
     },
     "execution_count": 137,
     "metadata": {},
     "output_type": "execute_result"
    }
   ],
   "source": [
    "# skipping\n",
    "img5=np.zeros((600,1000,3),np.uint8)\n",
    "img5= cv2.rectangle(img5,(0,500),(999,600),(0,55,0),-1)\n",
    "# Doremon\n",
    "img5=cv2.circle(img5,(500,179),45,(255,255,255),-1)\n",
    "img5=cv2.circle(img5,(500,298),70,(255,255,255),-1)\n",
    "# hands\n",
    "img5=cv2.line(img5,(425,292),(347,292),(0,69,139),15)\n",
    "#R hand\n",
    "img5=cv2.line(img5,(577,291),(658,291),(0,69,139),15)\n",
    "#legs\n",
    "img5=cv2.rectangle(img5,(478,355),(498,430),(255,255,255),-1)\n",
    "img5=cv2.rectangle(img5,(503,355),(523,430),(255,255,255),-1)\n",
    "# balls\n",
    "img5=cv2.circle(img5,(352,290),10,(255,255,255),-1)\n",
    "img5=cv2.circle(img5,(653,290),10,(255,255,255),-1)\n",
    "# rope\n",
    "img5=cv2.line(img5,(346,292),(345,500),(203,192,255),10)\n",
    "img5=cv2.line(img5,(345,500),(650,500),(203,192,255),10)\n",
    "img5=cv2.line(img5,(650,500),(654,290),(203,192,255),10)\n",
    "\n",
    "cv2.imshow(\"img\",img5)\n",
    "cv2.waitKey(0)\n",
    "cv2.destroyAllWindows()\n",
    "#cv2.imwrite(r\"C:\\Users\\Downloads\\skipping\\i5.jpg\",img5)"
   ]
  },
  {
   "cell_type": "code",
   "execution_count": 138,
   "id": "30ddb12d",
   "metadata": {},
   "outputs": [
    {
     "data": {
      "text/plain": [
       "True"
      ]
     },
     "execution_count": 138,
     "metadata": {},
     "output_type": "execute_result"
    }
   ],
   "source": [
    "img6=np.zeros((600,1000,3),np.uint8)\n",
    "img6= cv2.rectangle(img6,(0,500),(999,600),(0,55,0),-1)\n",
    "# Doremon\n",
    "img6=cv2.circle(img6,(500,250),40,(255,255,255),-1)\n",
    "img6=cv2.circle(img6,(500,363),70,(255,255,255),-1)\n",
    "# hands\n",
    "img6=cv2.line(img6,(422,330),(387,380),(0,69,139),15)\n",
    "img6=cv2.line(img6,(387,380),(353,339),(0,69,139),15)\n",
    "#R hand\n",
    "img6=cv2.line(img6,(582,336),(622,383),(0,69,139),15)\n",
    "img6=cv2.line(img6,(622,383),(651,342),(0,69,139),15)\n",
    "#legs\n",
    "img6=cv2.rectangle(img6,(480,420),(500,500),(255,255,255),-1)\n",
    "img6=cv2.rectangle(img6,(505,420),(525,500),(255,255,255),-1)\n",
    "# balls\n",
    "img6=cv2.circle(img6,(354,335),10,(255,255,255),-1)\n",
    "img6=cv2.circle(img6,(653,331),10,(255,255,255),-1)\n",
    "# rope\n",
    "img2=cv2.line(img6,(352,335),(351,78),(203,192,255),10)\n",
    "img2=cv2.line(img6,(351,78),(654,77),(203,192,255),10)\n",
    "img2=cv2.line(img6,(654,77),(654,331),(203,192,255),10)\n",
    "\n",
    "cv2.imshow(\"img\",img6)\n",
    "cv2.waitKey(0)\n",
    "cv2.destroyAllWindows()\n",
    "#cv2.imwrite(r\"C:\\Users\\Downloads\\skipping\\i6.jpg\",img6)"
   ]
  },
  {
   "cell_type": "code",
   "execution_count": 139,
   "id": "c141db8b",
   "metadata": {},
   "outputs": [
    {
     "data": {
      "text/plain": [
       "True"
      ]
     },
     "execution_count": 139,
     "metadata": {},
     "output_type": "execute_result"
    }
   ],
   "source": [
    "img7=np.zeros((600,1000,3),np.uint8)\n",
    "img7= cv2.rectangle(img7,(0,500),(999,600),(0,55,0),-1)\n",
    "# Doremon\n",
    "img7=cv2.circle(img7,(500,179),45,(255,255,255),-1)\n",
    "img7=cv2.circle(img7,(500,298),70,(255,255,255),-1)\n",
    "# hands\n",
    "img7=cv2.line(img7,(425,292),(347,292),(0,69,139),15)\n",
    "#R hand\n",
    "img7=cv2.line(img7,(577,291),(658,291),(0,69,139),15)\n",
    "#legs\n",
    "img7=cv2.rectangle(img7,(478,355),(498,430),(255,255,255),-1)\n",
    "img7=cv2.rectangle(img7,(503,355),(523,430),(255,255,255),-1)\n",
    "# balls\n",
    "img7=cv2.circle(img7,(352,290),10,(255,255,255),-1)\n",
    "img7=cv2.circle(img7,(653,290),10,(255,255,255),-1)\n",
    "# rope\n",
    "img7=cv2.line(img7,(346,292),(345,500),(203,192,255),10)\n",
    "img7=cv2.line(img7,(345,500),(650,500),(203,192,255),10)\n",
    "img7=cv2.line(img7,(650,500),(654,290),(203,192,255),10)\n",
    "\n",
    "cv2.imshow(\"img\",img7)\n",
    "cv2.waitKey(0)\n",
    "cv2.destroyAllWindows()\n",
    "#cv2.imwrite(r\"C:\\Users\\Downloads\\skipping\\i7.jpg\",img7)"
   ]
  },
  {
   "cell_type": "code",
   "execution_count": 140,
   "id": "cbd30b34",
   "metadata": {},
   "outputs": [
    {
     "data": {
      "text/plain": [
       "True"
      ]
     },
     "execution_count": 140,
     "metadata": {},
     "output_type": "execute_result"
    }
   ],
   "source": [
    "img8=np.zeros((600,1000,3),np.uint8)\n",
    "img8= cv2.rectangle(img8,(0,500),(999,600),(0,55,0),-1)\n",
    "# Doremon\n",
    "img8=cv2.circle(img8,(500,250),40,(255,255,255),-1)\n",
    "img8=cv2.circle(img8,(500,363),70,(255,255,255),-1)\n",
    "# hands\n",
    "img8=cv2.line(img8,(422,330),(387,380),(0,69,139),15)\n",
    "img8=cv2.line(img8,(387,380),(353,339),(0,69,139),15)\n",
    "#R hand\n",
    "img8=cv2.line(img8,(582,336),(622,383),(0,69,139),15)\n",
    "img8=cv2.line(img8,(622,383),(651,342),(0,69,139),15)\n",
    "#legs\n",
    "img8=cv2.rectangle(img8,(480,420),(500,500),(255,255,255),-1)\n",
    "img8=cv2.rectangle(img8,(505,420),(525,500),(255,255,255),-1)\n",
    "# balls\n",
    "img8=cv2.circle(img8,(354,335),10,(255,255,255),-1)\n",
    "img8=cv2.circle(img8,(653,331),10,(255,255,255),-1)\n",
    "# rope\n",
    "img8=cv2.line(img8,(352,335),(351,78),(203,192,255),10)\n",
    "img8=cv2.line(img8,(351,78),(654,77),(203,192,255),10)\n",
    "img8=cv2.line(img8,(654,77),(654,331),(203,192,255),10)\n",
    "\n",
    "cv2.imshow(\"img\",img8)\n",
    "cv2.waitKey(0)\n",
    "cv2.destroyAllWindows()\n",
    "#cv2.imwrite(r\"C:\\Users\\Downloads\\skipping\\i8.jpg\",img8)"
   ]
  },
  {
   "cell_type": "code",
   "execution_count": 141,
   "id": "4a28ef96",
   "metadata": {},
   "outputs": [
    {
     "data": {
      "text/plain": [
       "True"
      ]
     },
     "execution_count": 141,
     "metadata": {},
     "output_type": "execute_result"
    }
   ],
   "source": [
    "# skipping\n",
    "img9=np.zeros((600,1000,3),np.uint8)\n",
    "img9= cv2.rectangle(img9,(0,500),(999,600),(0,55,0),-1)\n",
    "# Doremon\n",
    "img9=cv2.circle(img9,(500,179),45,(255,255,255),-1)\n",
    "img9=cv2.circle(img9,(500,298),70,(255,255,255),-1)\n",
    "# hands\n",
    "img9=cv2.line(img9,(425,292),(347,292),(0,69,139),15)\n",
    "#R hand\n",
    "img9=cv2.line(img9,(577,291),(658,291),(0,69,139),15)\n",
    "#legs\n",
    "img9=cv2.rectangle(img9,(478,355),(498,430),(255,255,255),-1)\n",
    "img9=cv2.rectangle(img9,(503,355),(523,430),(255,255,255),-1)\n",
    "# balls\n",
    "img9=cv2.circle(img9,(352,290),10,(255,255,255),-1)\n",
    "img9=cv2.circle(img9,(653,290),10,(255,255,255),-1)\n",
    "# rope\n",
    "img9=cv2.line(img9,(346,292),(345,500),(203,192,255),10)\n",
    "img9=cv2.line(img9,(345,500),(650,500),(203,192,255),10)\n",
    "img9=cv2.line(img9,(650,500),(654,290),(203,192,255),10)\n",
    "\n",
    "cv2.imshow(\"img\",img9)\n",
    "cv2.waitKey(0)\n",
    "cv2.destroyAllWindows()\n",
    "#cv2.imwrite(r\"C:\\Users\\Downloads\\skipping\\i9.jpg\",img9)"
   ]
  },
  {
   "cell_type": "code",
   "execution_count": 142,
   "id": "6083eb08",
   "metadata": {},
   "outputs": [
    {
     "data": {
      "text/plain": [
       "True"
      ]
     },
     "execution_count": 142,
     "metadata": {},
     "output_type": "execute_result"
    }
   ],
   "source": [
    "img10=np.zeros((600,1000,3),np.uint8)\n",
    "img10= cv2.rectangle(img10,(0,500),(999,600),(0,55,0),-1)\n",
    "# Doremon\n",
    "img10=cv2.circle(img10,(500,250),40,(255,255,255),-1)\n",
    "img10=cv2.circle(img10,(500,363),70,(255,255,255),-1)\n",
    "# hands\n",
    "img10=cv2.line(img10,(422,330),(387,380),(0,69,139),15)\n",
    "img10=cv2.line(img10,(387,380),(353,339),(0,69,139),15)\n",
    "#R hand\n",
    "img10=cv2.line(img10,(582,336),(622,383),(0,69,139),15)\n",
    "img10=cv2.line(img10,(622,383),(651,342),(0,69,139),15)\n",
    "#legs\n",
    "img10=cv2.rectangle(img10,(480,420),(500,500),(255,255,255),-1)\n",
    "img10=cv2.rectangle(img10,(505,420),(525,500),(255,255,255),-1)\n",
    "# balls\n",
    "img10=cv2.circle(img10,(354,335),10,(255,255,255),-1)\n",
    "img10=cv2.circle(img10,(653,331),10,(255,255,255),-1)\n",
    "# rope\n",
    "img10=cv2.line(img10,(352,335),(351,78),(203,192,255),10)\n",
    "img10=cv2.line(img10,(351,78),(654,77),(203,192,255),10)\n",
    "img10=cv2.line(img10,(654,77),(654,331),(203,192,255),10)\n",
    "\n",
    "cv2.imshow(\"img\",img10)\n",
    "cv2.waitKey(0)\n",
    "cv2.destroyAllWindows()\n",
    "#cv2.imwrite(r\"C:\\Users\\Downloads\\skipping\\i10.jpg\",img10)"
   ]
  },
  {
   "cell_type": "code",
   "execution_count": 143,
   "id": "1d01c371",
   "metadata": {},
   "outputs": [
    {
     "data": {
      "text/plain": [
       "True"
      ]
     },
     "execution_count": 143,
     "metadata": {},
     "output_type": "execute_result"
    }
   ],
   "source": [
    "img11=np.zeros((600,1000,3),np.uint8)\n",
    "img11= cv2.rectangle(img11,(0,500),(999,600),(0,55,0),-1)\n",
    "# Doremon\n",
    "img11=cv2.circle(img11,(500,179),45,(255,255,255),-1)\n",
    "img11=cv2.circle(img11,(500,298),70,(255,255,255),-1)\n",
    "# hands\n",
    "img11=cv2.line(img11,(425,292),(347,292),(0,69,139),15)\n",
    "#R hand\n",
    "img11=cv2.line(img11,(577,291),(658,291),(0,69,139),15)\n",
    "#legs\n",
    "img11=cv2.rectangle(img11,(478,355),(498,430),(255,255,255),-1)\n",
    "img11=cv2.rectangle(img11,(503,355),(523,430),(255,255,255),-1)\n",
    "# balls\n",
    "img11=cv2.circle(img11,(352,290),10,(255,255,255),-1)\n",
    "img11=cv2.circle(img11,(653,290),10,(255,255,255),-1)\n",
    "# rope\n",
    "img11=cv2.line(img11,(346,292),(345,500),(203,192,255),10)\n",
    "img11=cv2.line(img11,(345,500),(650,500),(203,192,255),10)\n",
    "img11=cv2.line(img11,(650,500),(654,290),(203,192,255),10)\n",
    "\n",
    "cv2.imshow(\"img\",img11)\n",
    "cv2.waitKey(0)\n",
    "cv2.destroyAllWindows()\n",
    "#cv2.imwrite(r\"C:\\Users\\Downloads\\skipping\\i11.jpg\",img11)"
   ]
  },
  {
   "cell_type": "code",
   "execution_count": 144,
   "id": "24377c49",
   "metadata": {},
   "outputs": [
    {
     "data": {
      "text/plain": [
       "True"
      ]
     },
     "execution_count": 144,
     "metadata": {},
     "output_type": "execute_result"
    }
   ],
   "source": [
    "img12=np.zeros((600,1000,3),np.uint8)\n",
    "img12= cv2.rectangle(img12,(0,500),(999,600),(0,55,0),-1)\n",
    "# Doremon\n",
    "img12=cv2.circle(img12,(500,250),40,(255,255,255),-1)\n",
    "img12=cv2.circle(img12,(500,363),70,(255,255,255),-1)\n",
    "# hands\n",
    "img12=cv2.line(img12,(422,330),(387,380),(0,69,139),15)\n",
    "img12=cv2.line(img12,(387,380),(353,339),(0,69,139),15)\n",
    "#R hand\n",
    "img12=cv2.line(img12,(582,336),(622,383),(0,69,139),15)\n",
    "img12=cv2.line(img12,(622,383),(651,342),(0,69,139),15)\n",
    "#legs\n",
    "img12=cv2.rectangle(img12,(480,420),(500,500),(255,255,255),-1)\n",
    "img12=cv2.rectangle(img12,(505,420),(525,500),(255,255,255),-1)\n",
    "# balls\n",
    "img12=cv2.circle(img12,(354,335),10,(255,255,255),-1)\n",
    "img12=cv2.circle(img12,(653,331),10,(255,255,255),-1)\n",
    "# rope\n",
    "img12=cv2.line(img12,(352,335),(351,78),(203,192,255),10)\n",
    "img12=cv2.line(img12,(351,78),(654,77),(203,192,255),10)\n",
    "img12=cv2.line(img12,(654,77),(654,331),(203,192,255),10)\n",
    "\n",
    "cv2.imshow(\"img\",img12)\n",
    "cv2.waitKey(0)\n",
    "cv2.destroyAllWindows()\n",
    "#cv2.imwrite(r\"C:\\Users\\Downloads\\skipping\\i12.jpg\",img12)"
   ]
  },
  {
   "cell_type": "code",
   "execution_count": 145,
   "id": "884f4628",
   "metadata": {},
   "outputs": [
    {
     "data": {
      "text/plain": [
       "True"
      ]
     },
     "execution_count": 145,
     "metadata": {},
     "output_type": "execute_result"
    }
   ],
   "source": [
    "img13=np.zeros((600,1000,3),np.uint8)\n",
    "img13= cv2.rectangle(img13,(0,500),(999,600),(0,55,0),-1)\n",
    "# Doremon\n",
    "img13=cv2.circle(img13,(500,179),45,(255,255,255),-1)\n",
    "img13=cv2.circle(img13,(500,298),70,(255,255,255),-1)\n",
    "# hands\n",
    "img13=cv2.line(img13,(425,292),(347,292),(0,69,139),15)\n",
    "#R hand\n",
    "img13=cv2.line(img13,(577,291),(658,291),(0,69,139),15)\n",
    "#legs\n",
    "img13=cv2.rectangle(img13,(478,355),(498,430),(255,255,255),-1)\n",
    "img13=cv2.rectangle(img13,(503,355),(523,430),(255,255,255),-1)\n",
    "# balls\n",
    "img13=cv2.circle(img13,(352,290),10,(255,255,255),-1)\n",
    "img13=cv2.circle(img13,(653,290),10,(255,255,255),-1)\n",
    "# rope\n",
    "img13=cv2.line(img13,(346,292),(345,500),(203,192,255),10)\n",
    "img13=cv2.line(img13,(345,500),(650,500),(203,192,255),10)\n",
    "img13=cv2.line(img13,(650,500),(654,290),(203,192,255),10)\n",
    "\n",
    "cv2.imshow(\"img\",img13)\n",
    "cv2.waitKey(0)\n",
    "cv2.destroyAllWindows()\n",
    "#cv2.imwrite(r\"C:\\Users\\Downloads\\skipping\\i13.jpg\",img13)"
   ]
  },
  {
   "cell_type": "code",
   "execution_count": 146,
   "id": "2f7c949e",
   "metadata": {},
   "outputs": [
    {
     "data": {
      "text/plain": [
       "True"
      ]
     },
     "execution_count": 146,
     "metadata": {},
     "output_type": "execute_result"
    }
   ],
   "source": [
    "img14=np.zeros((600,1000,3),np.uint8)\n",
    "img14= cv2.rectangle(img14,(0,500),(999,600),(0,55,0),-1)\n",
    "# Doremon\n",
    "img14=cv2.circle(img14,(500,250),40,(255,255,255),-1)\n",
    "img14=cv2.circle(img14,(500,363),70,(255,255,255),-1)\n",
    "# hands\n",
    "img14=cv2.line(img14,(422,330),(387,380),(0,69,139),15)\n",
    "img14=cv2.line(img14,(387,380),(353,339),(0,69,139),15)\n",
    "#R hand\n",
    "img14=cv2.line(img14,(582,336),(622,383),(0,69,139),15)\n",
    "img14=cv2.line(img14,(622,383),(651,342),(0,69,139),15)\n",
    "#legs\n",
    "img14=cv2.rectangle(img14,(480,420),(500,500),(255,255,255),-1)\n",
    "img14=cv2.rectangle(img14,(505,420),(525,500),(255,255,255),-1)\n",
    "# balls\n",
    "img14=cv2.circle(img14,(354,335),10,(255,255,255),-1)\n",
    "img14=cv2.circle(img14,(653,331),10,(255,255,255),-1)\n",
    "# rope\n",
    "img14=cv2.line(img14,(352,335),(351,78),(203,192,255),10)\n",
    "img14=cv2.line(img14,(351,78),(654,77),(203,192,255),10)\n",
    "img14=cv2.line(img14,(654,77),(654,331),(203,192,255),10)\n",
    "\n",
    "cv2.imshow(\"img\",img12)\n",
    "cv2.waitKey(0)\n",
    "cv2.destroyAllWindows()\n",
    "#cv2.imwrite(r\"C:\\Users\\Downloads\\skipping\\i14.jpg\",img14)"
   ]
  },
  {
   "cell_type": "code",
   "execution_count": 147,
   "id": "e1730f3e",
   "metadata": {},
   "outputs": [
    {
     "data": {
      "text/plain": [
       "True"
      ]
     },
     "execution_count": 147,
     "metadata": {},
     "output_type": "execute_result"
    }
   ],
   "source": [
    "img15=np.zeros((600,1000,3),np.uint8)\n",
    "img15= cv2.rectangle(img15,(0,500),(999,600),(0,55,0),-1)\n",
    "# Doremon\n",
    "img15=cv2.circle(img15,(500,179),45,(255,255,255),-1)\n",
    "img15=cv2.circle(img15,(500,298),70,(255,255,255),-1)\n",
    "# hands\n",
    "img15=cv2.line(img15,(425,292),(347,292),(0,69,139),15)\n",
    "#R hand\n",
    "img15=cv2.line(img15,(577,291),(658,291),(0,69,139),15)\n",
    "#legs\n",
    "img15=cv2.rectangle(img15,(478,355),(498,430),(255,255,255),-1)\n",
    "img15=cv2.rectangle(img15,(503,355),(523,430),(255,255,255),-1)\n",
    "# balls\n",
    "img15=cv2.circle(img15,(352,290),10,(255,255,255),-1)\n",
    "img15=cv2.circle(img15,(653,290),10,(255,255,255),-1)\n",
    "# rope\n",
    "img15=cv2.line(img15,(346,292),(345,500),(203,192,255),10)\n",
    "img15=cv2.line(img15,(345,500),(650,500),(203,192,255),10)\n",
    "img15=cv2.line(img15,(650,500),(654,290),(203,192,255),10)\n",
    "\n",
    "cv2.imshow(\"img\",img15)\n",
    "cv2.waitKey(0)\n",
    "cv2.destroyAllWindows()\n",
    "#cv2.imwrite(r\"C:\\Users\\Downloads\\skipping\\i15.jpg\",img15)"
   ]
  },
  {
   "cell_type": "code",
   "execution_count": 148,
   "id": "4c095f65",
   "metadata": {},
   "outputs": [
    {
     "data": {
      "text/plain": [
       "True"
      ]
     },
     "execution_count": 148,
     "metadata": {},
     "output_type": "execute_result"
    }
   ],
   "source": [
    "img16=np.zeros((600,1000,3),np.uint8)\n",
    "img16= cv2.rectangle(img16,(0,500),(999,600),(0,55,0),-1)\n",
    "# Doremon\n",
    "img16=cv2.circle(img16,(500,250),40,(255,255,255),-1)\n",
    "img16=cv2.circle(img16,(500,363),70,(255,255,255),-1)\n",
    "# hands\n",
    "img16=cv2.line(img16,(422,330),(387,380),(0,69,139),15)\n",
    "img16=cv2.line(img16,(387,380),(353,339),(0,69,139),15)\n",
    "#R hand\n",
    "img16=cv2.line(img16,(582,336),(622,383),(0,69,139),15)\n",
    "img16=cv2.line(img16,(622,383),(651,342),(0,69,139),15)\n",
    "#legs\n",
    "img16=cv2.rectangle(img16,(480,420),(500,500),(255,255,255),-1)\n",
    "img16=cv2.rectangle(img16,(505,420),(525,500),(255,255,255),-1)\n",
    "# balls\n",
    "img16=cv2.circle(img16,(354,335),10,(255,255,255),-1)\n",
    "img16=cv2.circle(img16,(653,331),10,(255,255,255),-1)\n",
    "# rope\n",
    "img16=cv2.line(img16,(352,335),(351,78),(203,192,255),10)\n",
    "img16=cv2.line(img16,(351,78),(654,77),(203,192,255),10)\n",
    "img16=cv2.line(img16,(654,77),(654,331),(203,192,255),10)\n",
    "\n",
    "cv2.imshow(\"img\",img16)\n",
    "cv2.waitKey(0)\n",
    "cv2.destroyAllWindows()\n",
    "#cv2.imwrite(r\"C:\\Users\\Downloads\\skipping\\i16.jpg\",img16)"
   ]
  },
  {
   "cell_type": "code",
   "execution_count": 149,
   "id": "71d202f0",
   "metadata": {},
   "outputs": [
    {
     "data": {
      "text/plain": [
       "True"
      ]
     },
     "execution_count": 149,
     "metadata": {},
     "output_type": "execute_result"
    }
   ],
   "source": [
    "img17=np.zeros((600,1000,3),np.uint8)\n",
    "img17= cv2.rectangle(img17,(0,500),(999,600),(0,55,0),-1)\n",
    "# Doremon\n",
    "img17=cv2.circle(img17,(500,179),45,(255,255,255),-1)\n",
    "img17=cv2.circle(img17,(500,298),70,(255,255,255),-1)\n",
    "# hands\n",
    "img17=cv2.line(img17,(425,292),(347,292),(0,69,139),15)\n",
    "#R hand\n",
    "img17=cv2.line(img17,(577,291),(658,291),(0,69,139),15)\n",
    "#legs\n",
    "img17=cv2.rectangle(img17,(478,355),(498,430),(255,255,255),-1)\n",
    "img17=cv2.rectangle(img17,(503,355),(523,430),(255,255,255),-1)\n",
    "# balls\n",
    "img17=cv2.circle(img17,(352,290),10,(255,255,255),-1)\n",
    "img17=cv2.circle(img17,(653,290),10,(255,255,255),-1)\n",
    "# rope\n",
    "img17=cv2.line(img17,(346,292),(345,500),(203,192,255),10)\n",
    "img17=cv2.line(img17,(345,500),(650,500),(203,192,255),10)\n",
    "img17=cv2.line(img17,(650,500),(654,290),(203,192,255),10)\n",
    "\n",
    "cv2.imshow(\"img\",img17)\n",
    "cv2.waitKey(0)\n",
    "cv2.destroyAllWindows()\n",
    "#cv2.imwrite(r\"C:\\Users\\Downloads\\skipping\\i17.jpg\",img17)"
   ]
  },
  {
   "cell_type": "code",
   "execution_count": 150,
   "id": "c3c0aa35",
   "metadata": {},
   "outputs": [
    {
     "data": {
      "text/plain": [
       "True"
      ]
     },
     "execution_count": 150,
     "metadata": {},
     "output_type": "execute_result"
    }
   ],
   "source": [
    "img18=np.zeros((600,1000,3),np.uint8)\n",
    "img18= cv2.rectangle(img18,(0,500),(999,600),(0,55,0),-1)\n",
    "# Doremon\n",
    "img18=cv2.circle(img18,(500,250),40,(255,255,255),-1)\n",
    "img18=cv2.circle(img18,(500,363),70,(255,255,255),-1)\n",
    "# hands\n",
    "img18=cv2.line(img18,(422,330),(387,380),(0,69,139),15)\n",
    "img18=cv2.line(img18,(387,380),(353,339),(0,69,139),15)\n",
    "#R hand\n",
    "img18=cv2.line(img18,(582,336),(622,383),(0,69,139),15)\n",
    "img18=cv2.line(img18,(622,383),(651,342),(0,69,139),15)\n",
    "#legs\n",
    "img18=cv2.rectangle(img18,(480,420),(500,500),(255,255,255),-1)\n",
    "img18=cv2.rectangle(img18,(505,420),(525,500),(255,255,255),-1)\n",
    "# balls\n",
    "img18=cv2.circle(img18,(354,335),10,(255,255,255),-1)\n",
    "img18=cv2.circle(img18,(653,331),10,(255,255,255),-1)\n",
    "# rope\n",
    "img18=cv2.line(img18,(352,335),(351,78),(203,192,255),10)\n",
    "img18=cv2.line(img18,(351,78),(654,77),(203,192,255),10)\n",
    "img18=cv2.line(img18,(654,77),(654,331),(203,192,255),10)\n",
    "\n",
    "cv2.imshow(\"img\",img18)\n",
    "cv2.waitKey(0)\n",
    "cv2.destroyAllWindows()\n",
    "#cv2.imwrite(r\"C:\\Users\\Downloads\\skipping\\i18.jpg\",img18)"
   ]
  },
  {
   "cell_type": "code",
   "execution_count": 151,
   "id": "73b13a11",
   "metadata": {},
   "outputs": [
    {
     "data": {
      "text/plain": [
       "True"
      ]
     },
     "execution_count": 151,
     "metadata": {},
     "output_type": "execute_result"
    }
   ],
   "source": [
    "img19=np.zeros((600,1000,3),np.uint8)\n",
    "img19= cv2.rectangle(img19,(0,500),(999,600),(0,55,0),-1)\n",
    "# Doremon\n",
    "img19=cv2.circle(img19,(500,179),45,(255,255,255),-1)\n",
    "img19=cv2.circle(img19,(500,298),70,(255,255,255),-1)\n",
    "# hands\n",
    "img19=cv2.line(img19,(425,292),(347,292),(0,69,139),15)\n",
    "#R hand\n",
    "img19=cv2.line(img19,(577,291),(658,291),(0,69,139),15)\n",
    "#legs\n",
    "img19=cv2.rectangle(img19,(478,355),(498,430),(255,255,255),-1)\n",
    "img19=cv2.rectangle(img19,(503,355),(523,430),(255,255,255),-1)\n",
    "# balls\n",
    "img19=cv2.circle(img19,(352,290),10,(255,255,255),-1)\n",
    "img19=cv2.circle(img19,(653,290),10,(255,255,255),-1)\n",
    "# rope\n",
    "img19=cv2.line(img19,(346,292),(345,500),(203,192,255),10)\n",
    "img19=cv2.line(img19,(345,500),(650,500),(203,192,255),10)\n",
    "img19=cv2.line(img19,(650,500),(654,290),(203,192,255),10)\n",
    "\n",
    "cv2.imshow(\"img\",img19)\n",
    "cv2.waitKey(0)\n",
    "cv2.destroyAllWindows()\n",
    "#cv2.imwrite(r\"C:\\Users\\Downloads\\skipping\\i19.jpg\",img19)"
   ]
  },
  {
   "cell_type": "code",
   "execution_count": 152,
   "id": "7ecc50ec",
   "metadata": {},
   "outputs": [
    {
     "data": {
      "text/plain": [
       "True"
      ]
     },
     "execution_count": 152,
     "metadata": {},
     "output_type": "execute_result"
    }
   ],
   "source": [
    "img20=np.zeros((600,1000,3),np.uint8)\n",
    "img20= cv2.rectangle(img20,(0,500),(999,600),(0,55,0),-1)\n",
    "# Doremon\n",
    "img20=cv2.circle(img20,(500,250),40,(255,255,255),-1)\n",
    "img20=cv2.circle(img20,(500,363),70,(255,255,255),-1)\n",
    "# hands\n",
    "img20=cv2.line(img20,(422,330),(387,380),(0,69,139),15)\n",
    "img20=cv2.line(img20,(387,380),(353,339),(0,69,139),15)\n",
    "#R hand\n",
    "img20=cv2.line(img20,(582,336),(622,383),(0,69,139),15)\n",
    "img20=cv2.line(img20,(622,383),(651,342),(0,69,139),15)\n",
    "#legs\n",
    "img20=cv2.rectangle(img20,(480,420),(500,500),(255,255,255),-1)\n",
    "img20=cv2.rectangle(img20,(505,420),(525,500),(255,255,255),-1)\n",
    "# balls\n",
    "img20=cv2.circle(img20,(354,335),10,(255,255,255),-1)\n",
    "img20=cv2.circle(img20,(653,331),10,(255,255,255),-1)\n",
    "# rope\n",
    "img20=cv2.line(img20,(352,335),(351,78),(203,192,255),10)\n",
    "img20=cv2.line(img20,(351,78),(654,77),(203,192,255),10)\n",
    "img20=cv2.line(img20,(654,77),(654,331),(203,192,255),10)\n",
    "\n",
    "cv2.imshow(\"img\",img20)\n",
    "cv2.waitKey(0)\n",
    "cv2.destroyAllWindows()\n",
    "#cv2.imwrite(r\"C:\\Users\\Downloads\\skipping\\i20.jpg\",img20)"
   ]
  },
  {
   "cell_type": "code",
   "execution_count": 153,
   "id": "a7549ac5",
   "metadata": {},
   "outputs": [],
   "source": [
    "count=1\n",
    "while True:\n",
    "    imgf=cv2.imread(r\"C:\\Users\\Downloads\\skipping\\i{}.jpg\".format(count))\n",
    "    cv2.imshow(\"gif\",imgf)\n",
    "    if cv2.waitKey(300) & 255 == ord('q'):\n",
    "        break\n",
    "    count=count+1\n",
    "    if count==21:\n",
    "        count=1\n",
    "cv2.destroyAllWindows()"
   ]
  },
  {
   "cell_type": "code",
   "execution_count": null,
   "id": "4d688efa",
   "metadata": {},
   "outputs": [],
   "source": []
  }
 ],
 "metadata": {
  "kernelspec": {
   "display_name": "Python 3 (ipykernel)",
   "language": "python",
   "name": "python3"
  },
  "language_info": {
   "codemirror_mode": {
    "name": "ipython",
    "version": 3
   },
   "file_extension": ".py",
   "mimetype": "text/x-python",
   "name": "python",
   "nbconvert_exporter": "python",
   "pygments_lexer": "ipython3",
   "version": "3.9.13"
  }
 },
 "nbformat": 4,
 "nbformat_minor": 5
}
