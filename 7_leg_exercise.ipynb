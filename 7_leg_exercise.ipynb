{
 "cells": [
  {
   "cell_type": "code",
   "execution_count": 41,
   "id": "e34fd152",
   "metadata": {},
   "outputs": [],
   "source": [
    "import cv2\n",
    "import numpy as np"
   ]
  },
  {
   "cell_type": "code",
   "execution_count": 42,
   "id": "8e9dbb9f",
   "metadata": {},
   "outputs": [],
   "source": [
    "#1\n",
    "#base \n",
    "img1= np.zeros((600,1000,3),np.uint8)\n",
    "img1= cv2.rectangle(img1,(0,500),(999,600),(0,55,0),-1)\n",
    "\n",
    "# face\n",
    "img1=cv2.circle(img1,(40,250),40,(255,255,255),-1)\n",
    "img1=cv2.circle(img1,(40,363),70,(255,255,255),-1)\n",
    "#legs\n",
    "img1=cv2.rectangle(img1,(15,420),(35,500),(255,255,255),-1)\n",
    "img1=cv2.rectangle(img1,(40,420),(60,500),(255,255,255),-1)\n",
    "#hands\n",
    "img1=cv2.rectangle(img1,(35,330),(55,410),(0,69,139),-1) #right hand\n",
    "\n",
    "#dumbles long\n",
    "img1=cv2.line(img1,(15,410),(75,410),(140,160,180),5)\n",
    "img1=cv2.circle(img1,(15,410),15,(140,160,180),-1)\n",
    "\n",
    "img1=cv2.circle(img1,(75,410),15,(140,160,180),-1)\n",
    "cv2.imshow(\"img\",img1)\n",
    "cv2.waitKey()\n",
    "cv2.destroyAllWindows()"
   ]
  },
  {
   "cell_type": "code",
   "execution_count": 43,
   "id": "15c985c2",
   "metadata": {},
   "outputs": [
    {
     "data": {
      "text/plain": [
       "True"
      ]
     },
     "execution_count": 43,
     "metadata": {},
     "output_type": "execute_result"
    }
   ],
   "source": [
    "#cv2.imwrite(r\"C:\\Users\\Downloads\\sit ups\\i1.jpg\",img1)"
   ]
  },
  {
   "cell_type": "code",
   "execution_count": 44,
   "id": "8ed76ccf",
   "metadata": {},
   "outputs": [],
   "source": [
    "#2\n",
    "#base \n",
    "img1= np.zeros((600,1000,3),np.uint8)\n",
    "img2= cv2.rectangle(img1,(0,500),(999,600),(0,55,0),-1)\n",
    "\n",
    "# face\n",
    "img2=cv2.circle(img1,(90,280),40,(255,255,255),-1)\n",
    "img2=cv2.circle(img1,(90,393),70,(255,255,255),-1)\n",
    "#legs\n",
    "img2=cv2.rectangle(img1,(60,440),(80,500),(255,255,255),-1)\n",
    "img2=cv2.rectangle(img1,(0,480),(60,500),(255,255,255),-1)\n",
    "img2=cv2.rectangle(img1,(75,440),(155,460),(255,255,255),-1)\n",
    "img2=cv2.rectangle(img1,(135,460),(155,500),(255,255,255),-1)\n",
    "#hands\n",
    "img2=cv2.rectangle(img1,(85,360),(105,460),(0,69,139),-1) #right hand\n",
    "#dumbles long\n",
    "img2=cv2.line(img1,(65,460),(125,460),(140,160,180),5)\n",
    "img2=cv2.circle(img1,(65,460),15,(140,160,180),-1)\n",
    "\n",
    "img2=cv2.circle(img1,(125,460),15,(140,160,180),-1)\n",
    "cv2.imshow(\"img\",img2)\n",
    "cv2.waitKey()\n",
    "cv2.destroyAllWindows()"
   ]
  },
  {
   "cell_type": "code",
   "execution_count": 45,
   "id": "cb217f97",
   "metadata": {},
   "outputs": [
    {
     "data": {
      "text/plain": [
       "True"
      ]
     },
     "execution_count": 45,
     "metadata": {},
     "output_type": "execute_result"
    }
   ],
   "source": [
    "#cv2.imwrite(r\"C:\\Users\\Downloads\\sit ups\\i2.jpg\",img2)"
   ]
  },
  {
   "cell_type": "code",
   "execution_count": 46,
   "id": "f5d40d34",
   "metadata": {},
   "outputs": [],
   "source": [
    "#3\n",
    "#base \n",
    "img1= np.zeros((600,1000,3),np.uint8)\n",
    "img3= cv2.rectangle(img1,(0,500),(999,600),(0,55,0),-1)\n",
    "\n",
    "# face\n",
    "img3=cv2.circle(img1,(140,250),40,(255,255,255),-1)\n",
    "img3=cv2.circle(img1,(140,363),70,(255,255,255),-1)\n",
    "#legs\n",
    "img3=cv2.rectangle(img1,(115,420),(135,500),(255,255,255),-1)\n",
    "img3=cv2.rectangle(img1,(140,420),(160,500),(255,255,255),-1)\n",
    "#hands\n",
    "img3=cv2.rectangle(img1,(135,330),(155,410),(0,69,139),-1) #right hand\n",
    "#dumbles long\n",
    "img3=cv2.line(img1,(115,410),(175,410),(140,160,180),5)\n",
    "img3=cv2.circle(img1,(115,410),15,(140,160,180),-1)\n",
    "\n",
    "img3=cv2.circle(img1,(175,410),15,(140,160,180),-1)\n",
    "cv2.imshow(\"img\",img3)\n",
    "cv2.waitKey()\n",
    "cv2.destroyAllWindows()"
   ]
  },
  {
   "cell_type": "code",
   "execution_count": 47,
   "id": "945d700f",
   "metadata": {
    "scrolled": true
   },
   "outputs": [
    {
     "data": {
      "text/plain": [
       "True"
      ]
     },
     "execution_count": 47,
     "metadata": {},
     "output_type": "execute_result"
    }
   ],
   "source": [
    "#cv2.imwrite(r\"C:\\Users\\Downloads\\sit ups\\i3.jpg\",img3)"
   ]
  },
  {
   "cell_type": "code",
   "execution_count": 48,
   "id": "76d918f2",
   "metadata": {},
   "outputs": [],
   "source": [
    "#4\n",
    "#base \n",
    "img1= np.zeros((600,1000,3),np.uint8)\n",
    "img4= cv2.rectangle(img1,(0,500),(999,600),(0,55,0),-1)\n",
    "\n",
    "# face\n",
    "img4=cv2.circle(img1,(190,280),40,(255,255,255),-1)\n",
    "img4=cv2.circle(img1,(190,393),70,(255,255,255),-1)\n",
    "#legs\n",
    "img4=cv2.rectangle(img1,(160,440),(180,500),(255,255,255),-1)\n",
    "img4=cv2.rectangle(img1,(100,480),(160,500),(255,255,255),-1)\n",
    "img4=cv2.rectangle(img1,(175,440),(255,460),(255,255,255),-1)\n",
    "img4=cv2.rectangle(img1,(235,460),(255,500),(255,255,255),-1)\n",
    "#hands\n",
    "img4=cv2.rectangle(img1,(185,360),(205,460),(0,69,139),-1) #right hand\n",
    "#dumbles long\n",
    "img4=cv2.line(img1,(165,460),(225,460),(140,160,180),5)\n",
    "img4=cv2.circle(img1,(165,460),15,(140,160,180),-1)\n",
    "\n",
    "img4=cv2.circle(img1,(225,460),15,(140,160,180),-1)\n",
    "cv2.imshow(\"img\",img4)\n",
    "cv2.waitKey()\n",
    "cv2.destroyAllWindows()"
   ]
  },
  {
   "cell_type": "code",
   "execution_count": 49,
   "id": "1f8295ed",
   "metadata": {},
   "outputs": [
    {
     "data": {
      "text/plain": [
       "True"
      ]
     },
     "execution_count": 49,
     "metadata": {},
     "output_type": "execute_result"
    }
   ],
   "source": [
    "#cv2.imwrite(r\"C:\\Users\\Downloads\\sit ups\\i4.jpg\",img4)"
   ]
  },
  {
   "cell_type": "code",
   "execution_count": 50,
   "id": "86c948c3",
   "metadata": {},
   "outputs": [],
   "source": [
    "#5\n",
    "#base \n",
    "img1= np.zeros((600,1000,3),np.uint8)\n",
    "img5= cv2.rectangle(img1,(0,500),(999,600),(0,55,0),-1)\n",
    "\n",
    "# face\n",
    "img5=cv2.circle(img1,(240,250),40,(255,255,255),-1)\n",
    "img5=cv2.circle(img1,(240,363),70,(255,255,255),-1)\n",
    "#legs\n",
    "img5=cv2.rectangle(img1,(215,420),(235,500),(255,255,255),-1)\n",
    "img5=cv2.rectangle(img1,(240,420),(260,500),(255,255,255),-1)\n",
    "#hands\n",
    "img5=cv2.rectangle(img1,(235,330),(255,410),(0,69,139),-1) #right hand\n",
    "#dumbles long\n",
    "img5=cv2.line(img1,(215,410),(275,410),(140,160,180),5)\n",
    "img5=cv2.circle(img1,(215,410),15,(140,160,180),-1)\n",
    "\n",
    "img5=cv2.circle(img1,(275,410),15,(140,160,180),-1)\n",
    "cv2.imshow(\"img\",img5)\n",
    "cv2.waitKey()\n",
    "cv2.destroyAllWindows()"
   ]
  },
  {
   "cell_type": "code",
   "execution_count": 51,
   "id": "262b9d45",
   "metadata": {},
   "outputs": [
    {
     "data": {
      "text/plain": [
       "True"
      ]
     },
     "execution_count": 51,
     "metadata": {},
     "output_type": "execute_result"
    }
   ],
   "source": [
    "#cv2.imwrite(r\"C:\\Users\\Downloads\\sit ups\\i5.jpg\",img5)"
   ]
  },
  {
   "cell_type": "code",
   "execution_count": 52,
   "id": "8746cd26",
   "metadata": {},
   "outputs": [],
   "source": [
    "#6\n",
    "#base \n",
    "img1= np.zeros((600,1000,3),np.uint8)\n",
    "img6= cv2.rectangle(img1,(0,500),(999,600),(0,55,0),-1)\n",
    "\n",
    "# face\n",
    "img6=cv2.circle(img1,(290,280),40,(255,255,255),-1)\n",
    "img6=cv2.circle(img1,(290,393),70,(255,255,255),-1)\n",
    "#legs\n",
    "img6=cv2.rectangle(img1,(260,440),(280,500),(255,255,255),-1)\n",
    "img6=cv2.rectangle(img1,(200,480),(260,500),(255,255,255),-1)\n",
    "img6=cv2.rectangle(img1,(275,440),(355,460),(255,255,255),-1)\n",
    "img6=cv2.rectangle(img1,(335,460),(355,500),(255,255,255),-1)\n",
    "#hands\n",
    "img6=cv2.rectangle(img1,(285,360),(305,460),(0,69,139),-1) #right hand\n",
    "#dumbles long\n",
    "img6=cv2.line(img1,(265,460),(335,460),(140,160,180),5)\n",
    "img6=cv2.circle(img1,(265,460),15,(140,160,180),-1)\n",
    "\n",
    "img6=cv2.circle(img1,(335,460),15,(140,160,180),-1)\n",
    "cv2.imshow(\"img\",img6)\n",
    "cv2.waitKey()\n",
    "cv2.destroyAllWindows()"
   ]
  },
  {
   "cell_type": "code",
   "execution_count": 53,
   "id": "fcedffd9",
   "metadata": {},
   "outputs": [
    {
     "data": {
      "text/plain": [
       "True"
      ]
     },
     "execution_count": 53,
     "metadata": {},
     "output_type": "execute_result"
    }
   ],
   "source": [
    "#cv2.imwrite(r\"C:\\Users\\Downloads\\sit ups\\i6.jpg\",img6)"
   ]
  },
  {
   "cell_type": "code",
   "execution_count": 54,
   "id": "dae5f722",
   "metadata": {},
   "outputs": [],
   "source": [
    "#7\n",
    "#base \n",
    "img1= np.zeros((600,1000,3),np.uint8)\n",
    "img7= cv2.rectangle(img1,(0,500),(999,600),(0,55,0),-1)\n",
    "\n",
    "# face\n",
    "img7=cv2.circle(img1,(340,250),40,(255,255,255),-1)\n",
    "img7=cv2.circle(img1,(340,363),70,(255,255,255),-1)\n",
    "#legs\n",
    "img7=cv2.rectangle(img1,(315,420),(335,500),(255,255,255),-1)\n",
    "img7=cv2.rectangle(img1,(340,420),(360,500),(255,255,255),-1)\n",
    "#hands\n",
    "img7=cv2.rectangle(img1,(335,330),(355,410),(0,69,139),-1) #right hand\n",
    "#dumbles long\n",
    "img7=cv2.line(img1,(315,410),(375,410),(140,160,180),5)\n",
    "img7=cv2.circle(img1,(315,410),15,(140,160,180),-1)\n",
    "\n",
    "img7=cv2.circle(img1,(375,410),15,(140,160,180),-1)\n",
    "cv2.imshow(\"img\",img7)\n",
    "cv2.waitKey()\n",
    "cv2.destroyAllWindows()"
   ]
  },
  {
   "cell_type": "code",
   "execution_count": 55,
   "id": "6c6f335e",
   "metadata": {},
   "outputs": [
    {
     "data": {
      "text/plain": [
       "True"
      ]
     },
     "execution_count": 55,
     "metadata": {},
     "output_type": "execute_result"
    }
   ],
   "source": [
    "#cv2.imwrite(r\"C:\\Users\\Downloads\\sit ups\\i7.jpg\",img7)"
   ]
  },
  {
   "cell_type": "code",
   "execution_count": 56,
   "id": "ee108012",
   "metadata": {},
   "outputs": [],
   "source": [
    "#8\n",
    "#base \n",
    "img1= np.zeros((600,1000,3),np.uint8)\n",
    "img8= cv2.rectangle(img1,(0,500),(999,600),(0,55,0),-1)\n",
    "\n",
    "# face\n",
    "img8=cv2.circle(img1,(390,280),40,(255,255,255),-1)\n",
    "img8=cv2.circle(img1,(390,393),70,(255,255,255),-1)\n",
    "#legs\n",
    "img8=cv2.rectangle(img1,(360,440),(380,500),(255,255,255),-1)\n",
    "img8=cv2.rectangle(img1,(300,480),(360,500),(255,255,255),-1)\n",
    "img8=cv2.rectangle(img1,(375,440),(455,460),(255,255,255),-1)\n",
    "img8=cv2.rectangle(img1,(435,460),(455,500),(255,255,255),-1)\n",
    "#hands\n",
    "img8=cv2.rectangle(img1,(385,360),(405,460),(0,69,139),-1) #right hand\n",
    "#dumbles long\n",
    "img8=cv2.line(img1,(365,460),(425,460),(140,160,180),5)\n",
    "img8=cv2.circle(img1,(365,460),15,(140,160,180),-1)\n",
    "\n",
    "img8=cv2.circle(img1,(425,460),15,(140,160,180),-1)\n",
    "cv2.imshow(\"img\",img8)\n",
    "cv2.waitKey()\n",
    "cv2.destroyAllWindows()"
   ]
  },
  {
   "cell_type": "code",
   "execution_count": 57,
   "id": "ea111037",
   "metadata": {},
   "outputs": [
    {
     "data": {
      "text/plain": [
       "True"
      ]
     },
     "execution_count": 57,
     "metadata": {},
     "output_type": "execute_result"
    }
   ],
   "source": [
    "#cv2.imwrite(r\"C:\\Users\\Downloads\\sit ups\\i8.jpg\",img8)"
   ]
  },
  {
   "cell_type": "code",
   "execution_count": 58,
   "id": "36f34106",
   "metadata": {},
   "outputs": [],
   "source": [
    "#9\n",
    "#base \n",
    "img1= np.zeros((600,1000,3),np.uint8)\n",
    "img9= cv2.rectangle(img1,(0,500),(999,600),(0,55,0),-1)\n",
    "\n",
    "# face\n",
    "img9=cv2.circle(img1,(440,250),40,(255,255,255),-1)\n",
    "img9=cv2.circle(img1,(440,363),70,(255,255,255),-1)\n",
    "#legs\n",
    "img9=cv2.rectangle(img1,(415,420),(435,500),(255,255,255),-1)\n",
    "img9=cv2.rectangle(img1,(440,420),(460,500),(255,255,255),-1)\n",
    "#hands\n",
    "img9=cv2.rectangle(img1,(435,330),(455,410),(0,69,139),-1) #right hand\n",
    "#dumbles long\n",
    "img9=cv2.line(img1,(415,410),(475,410),(140,160,180),5)\n",
    "img9=cv2.circle(img1,(415,410),15,(140,160,180),-1)\n",
    "\n",
    "img9=cv2.circle(img1,(475,410),15,(140,160,180),-1)\n",
    "cv2.imshow(\"img\",img9)\n",
    "cv2.waitKey()\n",
    "cv2.destroyAllWindows()"
   ]
  },
  {
   "cell_type": "code",
   "execution_count": 59,
   "id": "8f1c525d",
   "metadata": {},
   "outputs": [
    {
     "data": {
      "text/plain": [
       "True"
      ]
     },
     "execution_count": 59,
     "metadata": {},
     "output_type": "execute_result"
    }
   ],
   "source": [
    "#cv2.imwrite(r\"C:\\Users\\Downloads\\sit ups\\i9.jpg\",img9)"
   ]
  },
  {
   "cell_type": "code",
   "execution_count": 60,
   "id": "30da2fcf",
   "metadata": {},
   "outputs": [],
   "source": [
    "#10\n",
    "#base \n",
    "img1= np.zeros((600,1000,3),np.uint8)\n",
    "img10= cv2.rectangle(img1,(0,500),(999,600),(0,55,0),-1)\n",
    "\n",
    "# face\n",
    "img10=cv2.circle(img1,(490,280),40,(255,255,255),-1)\n",
    "img10=cv2.circle(img1,(490,393),70,(255,255,255),-1)\n",
    "#legs\n",
    "img10=cv2.rectangle(img1,(460,440),(480,500),(255,255,255),-1)\n",
    "img10=cv2.rectangle(img1,(400,480),(460,500),(255,255,255),-1)\n",
    "img10=cv2.rectangle(img1,(475,440),(555,460),(255,255,255),-1)\n",
    "img10=cv2.rectangle(img1,(535,460),(555,500),(255,255,255),-1)\n",
    "#hands\n",
    "img10=cv2.rectangle(img1,(485,360),(505,460),(0,69,139),-1) #right hand\n",
    "#dumbles long\n",
    "img10=cv2.line(img1,(465,460),(525,460),(140,160,180),5)\n",
    "img10=cv2.circle(img1,(525,460),15,(140,160,180),-1)\n",
    "\n",
    "img10=cv2.circle(img1,(465,460),15,(140,160,180),-1)\n",
    "cv2.imshow(\"img\",img10)\n",
    "cv2.waitKey()\n",
    "cv2.destroyAllWindows()"
   ]
  },
  {
   "cell_type": "code",
   "execution_count": 61,
   "id": "143ed6d6",
   "metadata": {},
   "outputs": [
    {
     "data": {
      "text/plain": [
       "True"
      ]
     },
     "execution_count": 61,
     "metadata": {},
     "output_type": "execute_result"
    }
   ],
   "source": [
    "#cv2.imwrite(r\"C:\\Users\\Downloads\\sit ups\\i10.jpg\",img10)"
   ]
  },
  {
   "cell_type": "code",
   "execution_count": 62,
   "id": "12d6a67f",
   "metadata": {},
   "outputs": [],
   "source": [
    "#11\n",
    "#base \n",
    "img1= np.zeros((600,1000,3),np.uint8)\n",
    "img11= cv2.rectangle(img1,(0,500),(999,600),(0,55,0),-1)\n",
    "\n",
    "# face\n",
    "img11=cv2.circle(img1,(540,250),40,(255,255,255),-1)\n",
    "img11=cv2.circle(img1,(540,363),70,(255,255,255),-1)\n",
    "#legs\n",
    "img11=cv2.rectangle(img1,(515,420),(535,500),(255,255,255),-1)\n",
    "img11=cv2.rectangle(img1,(540,420),(560,500),(255,255,255),-1)\n",
    "#hands\n",
    "img11=cv2.rectangle(img1,(535,330),(555,410),(0,69,139),-1) #right hand\n",
    "#dumbles long\n",
    "img11=cv2.line(img1,(515,410),(575,410),(140,160,180),5)\n",
    "img11=cv2.circle(img1,(515,410),15,(140,160,180),-1)\n",
    "\n",
    "img11=cv2.circle(img1,(575,410),15,(140,160,180),-1)\n",
    "cv2.imshow(\"img\",img11)\n",
    "cv2.waitKey()\n",
    "cv2.destroyAllWindows()"
   ]
  },
  {
   "cell_type": "code",
   "execution_count": 63,
   "id": "4d58720f",
   "metadata": {},
   "outputs": [
    {
     "data": {
      "text/plain": [
       "True"
      ]
     },
     "execution_count": 63,
     "metadata": {},
     "output_type": "execute_result"
    }
   ],
   "source": [
    "#cv2.imwrite(r\"C:\\Users\\Downloads\\sit ups\\i11.jpg\",img11)"
   ]
  },
  {
   "cell_type": "code",
   "execution_count": 64,
   "id": "0f4ec22b",
   "metadata": {},
   "outputs": [],
   "source": [
    "#12\n",
    "#base \n",
    "img1= np.zeros((600,1000,3),np.uint8)\n",
    "img12= cv2.rectangle(img1,(0,500),(999,600),(0,55,0),-1)\n",
    "\n",
    "# face\n",
    "img12=cv2.circle(img1,(590,280),40,(255,255,255),-1)\n",
    "img12=cv2.circle(img1,(590,393),70,(255,255,255),-1)\n",
    "#legs\n",
    "img12=cv2.rectangle(img1,(560,440),(580,500),(255,255,255),-1)\n",
    "img12=cv2.rectangle(img1,(500,480),(560,500),(255,255,255),-1)\n",
    "img12=cv2.rectangle(img1,(575,440),(655,460),(255,255,255),-1)\n",
    "img12=cv2.rectangle(img1,(635,460),(656,500),(255,255,255),-1)\n",
    "#hands\n",
    "img12=cv2.rectangle(img1,(585,360),(605,460),(0,69,139),-1) #right hand\n",
    "#dumbles long\n",
    "img12=cv2.line(img1,(565,460),(625,460),(140,160,180),5)\n",
    "img12=cv2.circle(img1,(565,460),15,(140,160,180),-1)\n",
    "\n",
    "img12=cv2.circle(img1,(625,460),15,(140,160,180),-1)\n",
    "cv2.imshow(\"img\",img12)\n",
    "cv2.waitKey()\n",
    "cv2.destroyAllWindows()"
   ]
  },
  {
   "cell_type": "code",
   "execution_count": 65,
   "id": "a58a61aa",
   "metadata": {},
   "outputs": [
    {
     "data": {
      "text/plain": [
       "True"
      ]
     },
     "execution_count": 65,
     "metadata": {},
     "output_type": "execute_result"
    }
   ],
   "source": [
    "#cv2.imwrite(r\"C:\\Users\\Downloads\\sit ups\\i12.jpg\",img12)"
   ]
  },
  {
   "cell_type": "code",
   "execution_count": 66,
   "id": "74c33513",
   "metadata": {},
   "outputs": [],
   "source": [
    "#13\n",
    "#base \n",
    "img1= np.zeros((600,1000,3),np.uint8)\n",
    "img13= cv2.rectangle(img1,(0,500),(999,600),(0,55,0),-1)\n",
    "\n",
    "# face\n",
    "img13=cv2.circle(img1,(640,250),40,(255,255,255),-1)\n",
    "img13=cv2.circle(img1,(640,363),70,(255,255,255),-1)\n",
    "#legs\n",
    "img13=cv2.rectangle(img1,(615,420),(635,500),(255,255,255),-1)\n",
    "img13=cv2.rectangle(img1,(640,420),(660,500),(255,255,255),-1)\n",
    "#hands\n",
    "img13=cv2.rectangle(img1,(635,330),(655,410),(0,69,139),-1) #right hand\n",
    "#dumbles long\n",
    "img13=cv2.line(img1,(615,410),(675,410),(140,160,180),5)\n",
    "img13=cv2.circle(img1,(615,410),15,(140,160,180),-1)\n",
    "\n",
    "img13=cv2.circle(img1,(675,410),15,(140,160,180),-1)\n",
    "cv2.imshow(\"img\",img13)\n",
    "cv2.waitKey()\n",
    "cv2.destroyAllWindows()"
   ]
  },
  {
   "cell_type": "code",
   "execution_count": 67,
   "id": "9908b551",
   "metadata": {},
   "outputs": [
    {
     "data": {
      "text/plain": [
       "True"
      ]
     },
     "execution_count": 67,
     "metadata": {},
     "output_type": "execute_result"
    }
   ],
   "source": [
    "#cv2.imwrite(r\"C:\\Users\\Downloads\\sit ups\\i13.jpg\",img13)"
   ]
  },
  {
   "cell_type": "code",
   "execution_count": 68,
   "id": "370e1af1",
   "metadata": {},
   "outputs": [],
   "source": [
    "#14\n",
    "#base \n",
    "img1= np.zeros((600,1000,3),np.uint8)\n",
    "img14= cv2.rectangle(img1,(0,500),(999,600),(0,55,0),-1)\n",
    "\n",
    "# face\n",
    "img14=cv2.circle(img1,(690,280),40,(255,255,255),-1)\n",
    "img14=cv2.circle(img1,(690,393),70,(255,255,255),-1)\n",
    "#legs\n",
    "img14=cv2.rectangle(img1,(660,440),(680,500),(255,255,255),-1)\n",
    "img14=cv2.rectangle(img1,(600,480),(660,500),(255,255,255),-1)\n",
    "img14=cv2.rectangle(img1,(675,440),(755,460),(255,255,255),-1)\n",
    "img14=cv2.rectangle(img1,(735,460),(755,500),(255,255,255),-1)\n",
    "#hands\n",
    "img14=cv2.rectangle(img1,(685,360),(705,460),(0,69,139),-1) #right hand\n",
    "#dumbles long\n",
    "img14=cv2.line(img1,(665,460),(735,460),(140,160,180),5)\n",
    "img14=cv2.circle(img1,(665,460),15,(140,160,180),-1)\n",
    "\n",
    "img14=cv2.circle(img1,(735,460),15,(140,160,180),-1)\n",
    "cv2.imshow(\"img\",img14)\n",
    "cv2.waitKey()\n",
    "cv2.destroyAllWindows()"
   ]
  },
  {
   "cell_type": "code",
   "execution_count": 69,
   "id": "956e74c4",
   "metadata": {},
   "outputs": [
    {
     "data": {
      "text/plain": [
       "True"
      ]
     },
     "execution_count": 69,
     "metadata": {},
     "output_type": "execute_result"
    }
   ],
   "source": [
    "#cv2.imwrite(r\"C:\\Users\\Downloads\\sit ups\\i14.jpg\",img14)"
   ]
  },
  {
   "cell_type": "code",
   "execution_count": 70,
   "id": "3f3edce2",
   "metadata": {},
   "outputs": [],
   "source": [
    "#15\n",
    "#base \n",
    "img1= np.zeros((600,1000,3),np.uint8)\n",
    "img15= cv2.rectangle(img1,(0,500),(999,600),(0,55,0),-1)\n",
    "\n",
    "# face\n",
    "img15=cv2.circle(img1,(740,250),40,(255,255,255),-1)\n",
    "img15=cv2.circle(img1,(740,363),70,(255,255,255),-1)\n",
    "#legs\n",
    "img15=cv2.rectangle(img1,(715,420),(735,500),(255,255,255),-1)\n",
    "img15=cv2.rectangle(img1,(740,420),(760,500),(255,255,255),-1)\n",
    "#hands\n",
    "img15=cv2.rectangle(img1,(755,330),(735,410),(0,69,139),-1) #right hand\n",
    "#dumbles long\n",
    "img15=cv2.line(img1,(715,410),(775,410),(140,160,180),5)\n",
    "img15=cv2.circle(img1,(715,410),15,(140,160,180),-1)\n",
    "\n",
    "img15=cv2.circle(img1,(775,410),15,(140,160,180),-1)\n",
    "cv2.imshow(\"img\",img15)\n",
    "cv2.waitKey()\n",
    "cv2.destroyAllWindows()"
   ]
  },
  {
   "cell_type": "code",
   "execution_count": 71,
   "id": "67866c77",
   "metadata": {
    "scrolled": true
   },
   "outputs": [
    {
     "data": {
      "text/plain": [
       "True"
      ]
     },
     "execution_count": 71,
     "metadata": {},
     "output_type": "execute_result"
    }
   ],
   "source": [
    "#cv2.imwrite(r\"C:\\Users\\Downloads\\sit ups\\i15.jpg\",img15)"
   ]
  },
  {
   "cell_type": "code",
   "execution_count": 72,
   "id": "49c1497d",
   "metadata": {},
   "outputs": [],
   "source": [
    "#16\n",
    "#base \n",
    "img1= np.zeros((600,1000,3),np.uint8)\n",
    "img16= cv2.rectangle(img1,(0,500),(999,600),(0,55,0),-1)\n",
    "\n",
    "# face\n",
    "img16=cv2.circle(img1,(790,280),40,(255,255,255),-1)\n",
    "img16=cv2.circle(img1,(790,393),70,(255,255,255),-1)\n",
    "#legs\n",
    "img16=cv2.rectangle(img1,(760,440),(780,500),(255,255,255),-1)\n",
    "img16=cv2.rectangle(img1,(700,480),(760,500),(255,255,255),-1)\n",
    "img16=cv2.rectangle(img1,(775,440),(855,460),(255,255,255),-1)\n",
    "img16=cv2.rectangle(img1,(835,460),(855,500),(255,255,255),-1)\n",
    "#hands\n",
    "img16=cv2.rectangle(img1,(785,360),(805,460),(0,69,139),-1) #right hand\n",
    "#dumbles long\n",
    "img16=cv2.line(img1,(765,460),(835,460),(140,160,180),5)\n",
    "img16=cv2.circle(img1,(765,460),15,(140,160,180),-1)\n",
    "\n",
    "img16=cv2.circle(img1,(835,460),15,(140,160,180),-1)\n",
    "cv2.imshow(\"img\",img16)\n",
    "cv2.waitKey()\n",
    "cv2.destroyAllWindows()"
   ]
  },
  {
   "cell_type": "code",
   "execution_count": 73,
   "id": "ae323434",
   "metadata": {
    "scrolled": true
   },
   "outputs": [
    {
     "data": {
      "text/plain": [
       "True"
      ]
     },
     "execution_count": 73,
     "metadata": {},
     "output_type": "execute_result"
    }
   ],
   "source": [
    "#cv2.imwrite(r\"C:\\Users\\Downloads\\sit ups\\i16.jpg\",img16)"
   ]
  },
  {
   "cell_type": "code",
   "execution_count": 74,
   "id": "2a8f97a4",
   "metadata": {},
   "outputs": [],
   "source": [
    "#15\n",
    "#base \n",
    "img1= np.zeros((600,1000,3),np.uint8)\n",
    "img17= cv2.rectangle(img1,(0,500),(999,600),(0,55,0),-1)\n",
    "\n",
    "# face\n",
    "img17=cv2.circle(img1,(840,250),40,(255,255,255),-1)\n",
    "img17=cv2.circle(img1,(840,363),70,(255,255,255),-1)\n",
    "#legs\n",
    "img17=cv2.rectangle(img1,(815,420),(835,500),(255,255,255),-1)\n",
    "img17=cv2.rectangle(img1,(840,420),(860,500),(255,255,255),-1)\n",
    "#hands\n",
    "img17=cv2.rectangle(img1,(855,330),(835,410),(0,69,139),-1) #right hand\n",
    "#dumbles long\n",
    "img17=cv2.line(img1,(815,410),(875,410),(140,160,180),5)\n",
    "img17=cv2.circle(img1,(815,410),15,(140,160,180),-1)\n",
    "\n",
    "img17=cv2.circle(img1,(875,410),15,(140,160,180),-1)\n",
    "cv2.imshow(\"img\",img17)\n",
    "cv2.waitKey()\n",
    "cv2.destroyAllWindows()"
   ]
  },
  {
   "cell_type": "code",
   "execution_count": 75,
   "id": "2e6d59aa",
   "metadata": {},
   "outputs": [
    {
     "data": {
      "text/plain": [
       "True"
      ]
     },
     "execution_count": 75,
     "metadata": {},
     "output_type": "execute_result"
    }
   ],
   "source": [
    "#cv2.imwrite(r\"C:\\Users\\Downloads\\sit ups\\i17.jpg\",img17)"
   ]
  },
  {
   "cell_type": "code",
   "execution_count": 76,
   "id": "6dd7f477",
   "metadata": {},
   "outputs": [],
   "source": [
    "count=1\n",
    "while True:\n",
    "    imgf=cv2.imread(r\"C:\\Users\\Downloads\\sit ups\\i{}.jpg\".format(count))\n",
    "    cv2.imshow(\"gif\",imgf)\n",
    "    if cv2.waitKey(1000) & 255 ==ord(\"q\"):\n",
    "        break\n",
    "    count=count+1\n",
    "    if count==18:\n",
    "        count=1\n",
    "cv2.destroyAllWindows()"
   ]
  },
  {
   "cell_type": "code",
   "execution_count": null,
   "id": "717cdd17",
   "metadata": {},
   "outputs": [],
   "source": []
  }
 ],
 "metadata": {
  "kernelspec": {
   "display_name": "Python 3 (ipykernel)",
   "language": "python",
   "name": "python3"
  },
  "language_info": {
   "codemirror_mode": {
    "name": "ipython",
    "version": 3
   },
   "file_extension": ".py",
   "mimetype": "text/x-python",
   "name": "python",
   "nbconvert_exporter": "python",
   "pygments_lexer": "ipython3",
   "version": "3.9.13"
  }
 },
 "nbformat": 4,
 "nbformat_minor": 5
}
