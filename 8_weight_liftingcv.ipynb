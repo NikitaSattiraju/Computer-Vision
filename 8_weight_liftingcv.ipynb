{
 "cells": [
  {
   "cell_type": "code",
   "execution_count": 11,
   "id": "28dad56f",
   "metadata": {},
   "outputs": [],
   "source": [
    "#pip install opencv-python"
   ]
  },
  {
   "cell_type": "code",
   "execution_count": 12,
   "id": "7003a5e9",
   "metadata": {},
   "outputs": [],
   "source": [
    "#pip install --upgrade numpy"
   ]
  },
  {
   "cell_type": "code",
   "execution_count": 13,
   "id": "bba5ee5a",
   "metadata": {
    "scrolled": true
   },
   "outputs": [],
   "source": [
    "import cv2"
   ]
  },
  {
   "cell_type": "code",
   "execution_count": 14,
   "id": "943e517b",
   "metadata": {},
   "outputs": [],
   "source": [
    "import numpy as np"
   ]
  },
  {
   "cell_type": "code",
   "execution_count": 15,
   "id": "0cdace7b",
   "metadata": {},
   "outputs": [],
   "source": [
    "img1= np.zeros((600,1000,3),np.uint8)"
   ]
  },
  {
   "cell_type": "code",
   "execution_count": 16,
   "id": "a5f279bb",
   "metadata": {},
   "outputs": [],
   "source": [
    "#1\n",
    "#base \n",
    "img1= np.zeros((600,1000,3),np.uint8)\n",
    "img1= cv2.rectangle(img1,(0,500),(999,600),(0,55,0),-1)\n",
    "\n",
    "# face\n",
    "img1=cv2.circle(img1,(500,250),40,(255,255,255),-1)\n",
    "img1=cv2.circle(img1,(500,363),70,(255,255,255),-1)\n",
    "#legs\n",
    "img1=cv2.rectangle(img1,(480,420),(500,500),(255,255,255),-1)\n",
    "img1=cv2.rectangle(img1,(505,420),(525,500),(255,255,255),-1)\n",
    "#hands\n",
    "img1=cv2.rectangle(img1,(410,330),(430,420),(0,69,139),-1) #lefthand\n",
    "img1=cv2.rectangle(img1,(570,330),(590,420),(0,69,139),-1) #right hand\n",
    "#dumbles long\n",
    "# img1=cv2.line(img1,(330,420),(670,420),(0,255,0),5)\n",
    "#LEFT HAND dumbell\n",
    "img1= cv2.line(img1,(350,420),(650,420),(140,160,180),5)\n",
    "img1=cv2.rectangle(img1,(325,380),(345,460),(0,0,225),-1)\n",
    "img1=cv2.rectangle(img1,(345,390),(355,450),(225,0,0),-1)\n",
    "img1=cv2.rectangle(img1,(315,390),(325,450),(225,0,0),-1)\n",
    "img1=cv2.rectangle(img1,(650,390),(660,450),(225,0,0),-1)\n",
    "img1=cv2.rectangle(img1,(660,380),(680,460),(0,0,225),-1)\n",
    "img1=cv2.rectangle(img1,(680,390),(690,450),(225,0,0),-1)\n",
    "cv2.imshow(\"img\",img1)\n",
    "cv2.waitKey()\n",
    "cv2.destroyAllWindows()"
   ]
  },
  {
   "cell_type": "code",
   "execution_count": 17,
   "id": "b9fbdf9c",
   "metadata": {},
   "outputs": [
    {
     "data": {
      "text/plain": [
       "True"
      ]
     },
     "execution_count": 17,
     "metadata": {},
     "output_type": "execute_result"
    }
   ],
   "source": [
    "#cv2.imwrite(r\"C:\\Users\\Downloads\\weight lifting\\i1.jpg\",img1)"
   ]
  },
  {
   "cell_type": "code",
   "execution_count": 18,
   "id": "3c113637",
   "metadata": {},
   "outputs": [],
   "source": [
    "#2\n",
    "#base \n",
    "img1= np.zeros((600,1000,3),np.uint8)\n",
    "img2= cv2.rectangle(img1,(0,500),(999,600),(0,55,0),-1)\n",
    "\n",
    "# face\n",
    "img2=cv2.circle(img1,(500,250),40,(255,255,255),-1)\n",
    "img2=cv2.circle(img1,(500,363),70,(255,255,255),-1)\n",
    "#legs\n",
    "img2=cv2.rectangle(img1,(480,420),(500,500),(255,255,255),-1)\n",
    "img2=cv2.rectangle(img1,(505,420),(525,500),(255,255,255),-1)\n",
    "#hands\n",
    "img2=cv2.rectangle(img1,(410,330),(430,375),(0,69,139),-1) #lefthand\n",
    "img2=cv2.rectangle(img1,(570,330),(590,375),(0,69,139),-1) #right hand\n",
    "#dumbles long\n",
    "# img1=cv2.line(img1,(330,420),(670,420),(0,255,0),5)\n",
    "#LEFT HAND dumbell\n",
    "img2= cv2.line(img1,(350,375),(650,375),(140,160,180),5)\n",
    "img2=cv2.rectangle(img1,(325,335),(345,415),(0,0,225),-1)\n",
    "img2=cv2.rectangle(img1,(345,345),(355,405),(225,0,0),-1)\n",
    "img2=cv2.rectangle(img1,(315,345),(325,405),(225,0,0),-1)\n",
    "img2=cv2.rectangle(img1,(650,345),(660,405),(225,0,0),-1)\n",
    "img2=cv2.rectangle(img1,(660,335),(680,415),(0,0,225),-1)\n",
    "img2=cv2.rectangle(img1,(680,345),(690,405),(225,0,0),-1)\n",
    "\n",
    "cv2.imshow(\"img\",img2)\n",
    "cv2.waitKey()\n",
    "cv2.destroyAllWindows()"
   ]
  },
  {
   "cell_type": "code",
   "execution_count": 19,
   "id": "a762393a",
   "metadata": {},
   "outputs": [
    {
     "data": {
      "text/plain": [
       "True"
      ]
     },
     "execution_count": 19,
     "metadata": {},
     "output_type": "execute_result"
    }
   ],
   "source": [
    "#cv2.imwrite(r\"C:\\Users\\Downloads\\weight lifting\\i2.jpg\",img2)"
   ]
  },
  {
   "cell_type": "code",
   "execution_count": 20,
   "id": "618df856",
   "metadata": {},
   "outputs": [],
   "source": [
    "3\n",
    "#base \n",
    "img1= np.zeros((600,1000,3),np.uint8)\n",
    "img3= cv2.rectangle(img1,(0,500),(999,600),(0,55,0),-1)\n",
    "\n",
    "# face\n",
    "img3=cv2.circle(img1,(500,250),40,(255,255,255),-1)\n",
    "im3=cv2.circle(img1,(500,363),70,(255,255,255),-1)\n",
    "#legs\n",
    "img3=cv2.rectangle(img1,(480,420),(500,500),(255,255,255),-1)\n",
    "img3=cv2.rectangle(img1,(505,420),(525,500),(255,255,255),-1)\n",
    "#hands\n",
    "img3=cv2.rectangle(img1,(410,250),(430,375),(0,69,139),-1) #lefthand\n",
    "img3=cv2.rectangle(img1,(570,250),(590,375),(0,69,139),-1) #right hand\n",
    "#dumbles long\n",
    "# img1=cv2.line(img1,(330,420),(670,420),(0,255,0),5)\n",
    "#LEFT HAND dumbell\n",
    "img3= cv2.line(img1,(350,250),(650,250),(140,160,180),5)\n",
    "img3=cv2.rectangle(img1,(325,210),(345,290),(0,0,225),-1)\n",
    "img3=cv2.rectangle(img1,(345,220),(355,280),(225,0,0),-1)\n",
    "img3=cv2.rectangle(img1,(315,220),(325,280),(225,0,0),-1)\n",
    "img3=cv2.rectangle(img1,(650,220),(660,280),(225,0,0),-1)\n",
    "img3=cv2.rectangle(img1,(660,210),(680,290),(0,0,225),-1)\n",
    "img3=cv2.rectangle(img1,(680,220),(690,280),(225,0,0),-1)\n",
    "cv2.imshow(\"img\",img3)\n",
    "cv2.waitKey()\n",
    "cv2.destroyAllWindows()"
   ]
  },
  {
   "cell_type": "code",
   "execution_count": 21,
   "id": "84cf79bd",
   "metadata": {},
   "outputs": [
    {
     "data": {
      "text/plain": [
       "True"
      ]
     },
     "execution_count": 21,
     "metadata": {},
     "output_type": "execute_result"
    }
   ],
   "source": [
    "#cv2.imwrite(r\"C:\\Users\\Downloads\\weight lifting\\i3.jpg\",img3)"
   ]
  },
  {
   "cell_type": "code",
   "execution_count": 22,
   "id": "f1a6f2c7",
   "metadata": {},
   "outputs": [],
   "source": [
    "#2\n",
    "#base \n",
    "img1= np.zeros((600,1000,3),np.uint8)\n",
    "img4= cv2.rectangle(img1,(0,500),(999,600),(0,55,0),-1)\n",
    "\n",
    "# face\n",
    "img4=cv2.circle(img1,(500,250),40,(255,255,255),-1)\n",
    "img4=cv2.circle(img1,(500,363),70,(255,255,255),-1)\n",
    "#legs\n",
    "img4=cv2.rectangle(img1,(480,420),(500,500),(255,255,255),-1)\n",
    "img4=cv2.rectangle(img1,(505,420),(525,500),(255,255,255),-1)\n",
    "#hands\n",
    "img4=cv2.rectangle(img1,(410,330),(430,375),(0,69,139),-1) #lefthand\n",
    "img4=cv2.rectangle(img1,(570,330),(590,375),(0,69,139),-1) #right hand\n",
    "#dumbles long\n",
    "# img1=cv2.line(img1,(330,420),(670,420),(0,255,0),5)\n",
    "#LEFT HAND dumbell\n",
    "img4= cv2.line(img1,(350,375),(650,375),(140,160,180),5)\n",
    "img4=cv2.rectangle(img1,(325,335),(345,415),(0,0,225),-1)\n",
    "img4=cv2.rectangle(img1,(345,345),(355,405),(225,0,0),-1)\n",
    "img4=cv2.rectangle(img1,(315,345),(325,405),(225,0,0),-1)\n",
    "img4=cv2.rectangle(img1,(650,345),(660,405),(225,0,0),-1)\n",
    "img4=cv2.rectangle(img1,(660,335),(680,415),(0,0,225),-1)\n",
    "img4=cv2.rectangle(img1,(680,345),(690,405),(225,0,0),-1)\n",
    "\n",
    "cv2.imshow(\"img\",img4)\n",
    "cv2.waitKey()\n",
    "cv2.destroyAllWindows()"
   ]
  },
  {
   "cell_type": "code",
   "execution_count": 23,
   "id": "9b41f581",
   "metadata": {},
   "outputs": [
    {
     "data": {
      "text/plain": [
       "True"
      ]
     },
     "execution_count": 23,
     "metadata": {},
     "output_type": "execute_result"
    }
   ],
   "source": [
    "#cv2.imwrite(r\"C:\\Users\\Downloads\\weight lifting\\i4.jpg\",img4)"
   ]
  },
  {
   "cell_type": "code",
   "execution_count": 24,
   "id": "03d678bd",
   "metadata": {},
   "outputs": [],
   "source": [
    "count=1\n",
    "while True:\n",
    "    imgf=cv2.imread(r\"C:\\Users\\akkid\\Downloads\\weight lifting\\i{}.jpg\".format(count))\n",
    "    cv2.imshow(\"gif\",imgf)\n",
    "    if cv2.waitKey(1000) & 255 ==ord(\"q\"):\n",
    "        break\n",
    "    count=count+1\n",
    "    if count==5:\n",
    "        count=1\n",
    "cv2.destroyAllWindows()"
   ]
  },
  {
   "cell_type": "code",
   "execution_count": null,
   "id": "07b06234",
   "metadata": {},
   "outputs": [],
   "source": []
  }
 ],
 "metadata": {
  "kernelspec": {
   "display_name": "Python 3 (ipykernel)",
   "language": "python",
   "name": "python3"
  },
  "language_info": {
   "codemirror_mode": {
    "name": "ipython",
    "version": 3
   },
   "file_extension": ".py",
   "mimetype": "text/x-python",
   "name": "python",
   "nbconvert_exporter": "python",
   "pygments_lexer": "ipython3",
   "version": "3.9.13"
  }
 },
 "nbformat": 4,
 "nbformat_minor": 5
}
