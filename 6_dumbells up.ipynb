{
 "cells": [
  {
   "cell_type": "code",
   "execution_count": 1,
   "id": "ba8b9779",
   "metadata": {},
   "outputs": [],
   "source": [
    "import cv2"
   ]
  },
  {
   "cell_type": "code",
   "execution_count": 2,
   "id": "4efe8743",
   "metadata": {},
   "outputs": [],
   "source": [
    "import numpy as np"
   ]
  },
  {
   "cell_type": "code",
   "execution_count": 3,
   "id": "5b49638b",
   "metadata": {},
   "outputs": [],
   "source": [
    "img= np.zeros((600,1000,3),np.uint8)"
   ]
  },
  {
   "cell_type": "markdown",
   "id": "7f8e4327",
   "metadata": {},
   "source": [
    "#1\n",
    "#base \n",
    "img= np.zeros((600,1000,3),np.uint8)\n",
    "img1= cv2.rectangle(img,(0,500),(999,600),(0,69,139),-1)\n",
    "\n",
    "# face\n",
    "img1=cv2.circle(img,(500,250),40,(255,255,255),-1)\n",
    "img1=cv2.circle(img,(500,363),70,(255,255,255),-1)\n",
    "#legs\n",
    "img1=cv2.rectangle(img,(480,420),(500,500),(255,255,255),-1)\n",
    "img1=cv2.rectangle(img,(505,420),(525,500),(255,255,255),-1)\n",
    "#LEFT HAND dumbell\n",
    "img1= cv2.line(img,(380,360),(460,360),(0,0,255),5)\n",
    "img1=cv2.circle(img,(380,360),15,(0,0,255),-1)\n",
    "img1=cv2.circle(img,(460,360),15,(0,0,255),-1)\n",
    "#RIGHT HAND dumbell\n",
    "img1= cv2.line(img,(540,360),(620,360),(0,0,255),5)\n",
    "img1=cv2.circle(img,(540,360),15,(0,0,255),-1)\n",
    "img1=cv2.circle(img,(620,360),15,(0,0,255),-1)"
   ]
  },
  {
   "cell_type": "code",
   "execution_count": null,
   "id": "14d5ebe1",
   "metadata": {},
   "outputs": [],
   "source": []
  },
  {
   "cell_type": "code",
   "execution_count": 5,
   "id": "bed35ee9",
   "metadata": {},
   "outputs": [],
   "source": [
    "cv2.imshow(\"img\",img1)\n",
    "cv2.waitKey()\n",
    "cv2.destroyAllWindows()"
   ]
  },
  {
   "cell_type": "code",
   "execution_count": 4,
   "id": "d27e2034",
   "metadata": {},
   "outputs": [
    {
     "data": {
      "text/plain": [
       "True"
      ]
     },
     "execution_count": 4,
     "metadata": {},
     "output_type": "execute_result"
    }
   ],
   "source": [
    "#2\n",
    "#base \n",
    "img= np.zeros((600,1000,3),np.uint8)\n",
    "img2= cv2.rectangle(img,(0,500),(999,600),(0,55,0),-1)\n",
    "\n",
    "# face\n",
    "img2=cv2.circle(img,(500,250),40,(255,255,255),-1)\n",
    "img2=cv2.circle(img,(500,363),70,(255,255,255),-1)\n",
    "#legs\n",
    "img2=cv2.rectangle(img,(480,420),(500,500),(255,255,255),-1)\n",
    "img2=cv2.rectangle(img,(505,420),(525,500),(255,255,255),-1)\n",
    "#HANDS\n",
    "img2= cv2.line(img,(380,368),(435,368),(0,69,139),20)# left hand \n",
    "img2= cv2.line(img,(380,285),(380,365),(0,69,139),20)# left hand\n",
    "#right hand\n",
    "img2= cv2.line(img,(568,368),(625,368),(0,69,139),20)\n",
    "img2= cv2.line(img,(625,368),(625,285),(0,69,139),20)\n",
    "# Left hand dumbell\n",
    "img2= cv2.line(img,(330,280),(435,280),(140,160,180),5)\n",
    "img2=cv2.circle(img,(330,280),15,(140,160,180),-1)\n",
    "img2=cv2.circle(img,(435,280),15,(140,160,180),-1)\n",
    "\n",
    "#RIGHT HAND dumbell\n",
    "img2= cv2.line(img,(570,280),(675,280),(140,160,180),5)\n",
    "img2=cv2.circle(img,(570,280),15,(140,160,180),-1)\n",
    "img2=cv2.circle(img,(675,280),15,(140,160,180),-1)\n",
    "cv2.imwrite(r\"D:\\data science\\Open CV\\CV PROJ\\dumbellsssss\\\\i1.jpg\",img2)"
   ]
  },
  {
   "cell_type": "code",
   "execution_count": null,
   "id": "f15e01d6",
   "metadata": {},
   "outputs": [],
   "source": [
    "cv2.imshow(\"img\",img2)\n",
    "cv2.waitKey()\n",
    "cv2.destroyAllWindows()"
   ]
  },
  {
   "cell_type": "code",
   "execution_count": 5,
   "id": "6b03953b",
   "metadata": {},
   "outputs": [
    {
     "data": {
      "text/plain": [
       "True"
      ]
     },
     "execution_count": 5,
     "metadata": {},
     "output_type": "execute_result"
    }
   ],
   "source": [
    "#3\n",
    "#base \n",
    "img= np.zeros((600,1000,3),np.uint8)\n",
    "img3= cv2.rectangle(img,(0,500),(999,600),(0,55,0),-1)\n",
    "\n",
    "# face\n",
    "img3=cv2.circle(img,(500,250),40,(255,255,255),-1)\n",
    "img3=cv2.circle(img,(500,363),70,(255,255,255),-1)\n",
    "#legs\n",
    "img3=cv2.rectangle(img,(480,420),(500,500),(255,255,255),-1)\n",
    "img3=cv2.rectangle(img,(505,420),(525,500),(255,255,255),-1)\n",
    "#hands\n",
    "img3=cv2.rectangle(img,(410,200),(430,345),(0,69,139),-1) #lefthand\n",
    "img3=cv2.rectangle(img,(570,200),(590,345),(0,69,139),-1) #right hand\n",
    "#Dumbells RIGHT\n",
    "img3= cv2.line(img,(530,200),(635,200),(140,160,180),5)\n",
    "img3=cv2.circle(img,(530,200),15,(140,160,180),-1)\n",
    "img3=cv2.circle(img,(635,200),15,(140,160,180),-1)\n",
    "# dumbells left\n",
    "img3= cv2.line(img,(470,200),(365,200),(140,160,180),5)\n",
    "img3=cv2.circle(img,(470,200),15,(140,160,180),-1)\n",
    "img3=cv2.circle(img,(365,200),15,(140,160,180),-1)\n",
    "cv2.imwrite(r\"D:\\data science\\Open CV\\CV PROJ\\dumbellsssss\\\\i2.jpg\",img3)"
   ]
  },
  {
   "cell_type": "code",
   "execution_count": 9,
   "id": "658de8c7",
   "metadata": {},
   "outputs": [],
   "source": [
    "count=1\n",
    "while True:\n",
    "    imgf=cv2.imread(r\"D:\\data science\\Open CV\\CV PROJ\\dumbellsssss\\i{}.jpg\".format(count))\n",
    "    cv2.imshow(\"gif\",imgf)\n",
    "    if cv2.waitKey(300) & 255 == ord('q'):\n",
    "        break\n",
    "    count=count+1\n",
    "    if count== 11:\n",
    "        count=1\n",
    "cv2.destroyAllWindows()"
   ]
  },
  {
   "cell_type": "code",
   "execution_count": 91,
   "id": "740b2c08",
   "metadata": {},
   "outputs": [],
   "source": [
    "cv2.imshow(\"img\",img3)\n",
    "cv2.waitKey()\n",
    "cv2.destroyAllWindows()"
   ]
  },
  {
   "cell_type": "code",
   "execution_count": null,
   "id": "1997ce12",
   "metadata": {},
   "outputs": [],
   "source": []
  },
  {
   "cell_type": "code",
   "execution_count": null,
   "id": "dadcc927",
   "metadata": {},
   "outputs": [],
   "source": []
  }
 ],
 "metadata": {
  "kernelspec": {
   "display_name": "Python 3 (ipykernel)",
   "language": "python",
   "name": "python3"
  },
  "language_info": {
   "codemirror_mode": {
    "name": "ipython",
    "version": 3
   },
   "file_extension": ".py",
   "mimetype": "text/x-python",
   "name": "python",
   "nbconvert_exporter": "python",
   "pygments_lexer": "ipython3",
   "version": "3.9.13"
  }
 },
 "nbformat": 4,
 "nbformat_minor": 5
}
