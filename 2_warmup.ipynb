{
 "cells": [
  {
   "cell_type": "code",
   "execution_count": 8,
   "id": "373a0ff8",
   "metadata": {},
   "outputs": [],
   "source": [
    "import numpy as np\n",
    "import cv2"
   ]
  },
  {
   "cell_type": "code",
   "execution_count": 9,
   "id": "3ae9f52e",
   "metadata": {},
   "outputs": [],
   "source": [
    "#9\n",
    "#base \n",
    "img1= np.zeros((600,1000,3),np.uint8)\n",
    "img1= cv2.rectangle(img1,(0,500),(999,600),(139,69,0),-1)\n",
    "\n",
    "#face\n",
    "img1=cv2.circle(img1,(440,250),40,(255,255,255),-1)\n",
    "img1=cv2.circle(img1,(440,363),70,(255,255,255),-1)\n",
    "#legs\n",
    "img1=cv2.rectangle(img1,(415,420),(435,500),(255,255,255),-1)\n",
    "img1=cv2.rectangle(img1,(440,420),(460,500),(255,255,255),-1)\n",
    "#hands\n",
    "img1=cv2.rectangle(img1,(353,318),(373,421),(0,69,139),-1)\n",
    "img1=cv2.rectangle(img1,(507,316),(527,421),(0,69,139),-1)\n",
    "\n",
    "        \n",
    "#cv2.imwrite(r\"C:\\Users\\Downloads\\gif running\\i1.jpg\",img1)\n",
    "        \n",
    "cv2.imshow(\"img\",img1)\n",
    "cv2.waitKey()\n",
    "cv2.destroyAllWindows()"
   ]
  },
  {
   "cell_type": "code",
   "execution_count": 10,
   "id": "01fb8b49",
   "metadata": {},
   "outputs": [],
   "source": [
    "img2= np.zeros((600,1000,3),np.uint8)\n",
    "img2= cv2.rectangle(img2,(0,500),(999,600),(139,69,0),-1)\n",
    "\n",
    "#face\n",
    "img2=cv2.circle(img2,(440,250),40,(255,255,255),-1)\n",
    "img2=cv2.circle(img2,(440,363),70,(255,255,255),-1)\n",
    "#legs\n",
    "img2=cv2.line(img2,(423,424),(396,496),(255,255,255),20)\n",
    "img2=cv2.line(img2,(455,433),(486,496),(255,255,255),20)\n",
    "#hands\n",
    "img2=cv2.rectangle(img2,(370,370),(270,350),(0,69,139),-1)\n",
    "img2=cv2.rectangle(img2,(510,370),(620,350),(0,69,139),-1)\n",
    "\n",
    "#cv2.imwrite(r\"C:\\Users\\Downloads\\gif running\\i2.jpg\",img2)\n",
    "        \n",
    "cv2.imshow(\"img\",img2)\n",
    "cv2.waitKey()\n",
    "cv2.destroyAllWindows()        \n"
   ]
  },
  {
   "cell_type": "code",
   "execution_count": 11,
   "id": "29ae8361",
   "metadata": {},
   "outputs": [],
   "source": [
    "img3= np.zeros((600,1000,3),np.uint8)\n",
    "img3= cv2.rectangle(img3,(0,500),(999,600),(139,69,0),-1)\n",
    "\n",
    "#face\n",
    "img3=cv2.circle(img3,(440,250),40,(255,255,255),-1)\n",
    "img3=cv2.circle(img3,(440,363),70,(255,255,255),-1)\n",
    "#legs\n",
    "img3=cv2.rectangle(img3,(415,420),(435,500),(255,255,255),-1)\n",
    "img3=cv2.rectangle(img3,(440,420),(460,500),(255,255,255),-1)\n",
    "#hands\n",
    "img3=cv2.rectangle(img3,(350,370),(370,260),(0,69,139),-1)\n",
    "img3=cv2.rectangle(img3,(509,260),(529,375),(0,69,139),-1)\n",
    "\n",
    "#cv2.imwrite(r\"C:\\Users\\Downloads\\gif running\\i3.jpg\",img3)\n",
    "        \n",
    "cv2.imshow(\"img\",img3)\n",
    "cv2.waitKey()\n",
    "cv2.destroyAllWindows()       \n"
   ]
  },
  {
   "cell_type": "code",
   "execution_count": 12,
   "id": "f056c36a",
   "metadata": {},
   "outputs": [],
   "source": [
    "img4= np.zeros((600,1000,3),np.uint8)\n",
    "img4= cv2.rectangle(img4,(0,500),(999,600),(139,69,0),-1)\n",
    "\n",
    "#face\n",
    "img4=cv2.circle(img4,(440,250),40,(255,255,255),-1)\n",
    "img4=cv2.circle(img4,(440,363),70,(255,255,255),-1)\n",
    "#legs\n",
    "img4=cv2.line(img4,(423,424),(396,496),(255,255,255),20)\n",
    "img4=cv2.line(img4,(455,433),(486,496),(255,255,255),20)\n",
    "#hands\n",
    "img4=cv2.rectangle(img4,(370,370),(270,350),(0,69,139),-1)\n",
    "img4=cv2.rectangle(img4,(510,370),(620,350),(0,69,139),-1)\n",
    "\n",
    "        \n",
    "#cv2.imwrite(r\"C:\\Users\\Downloads\\gif running\\i4.jpg\",img4)\n",
    "\n",
    "cv2.imshow(\"img\",img4)\n",
    "cv2.waitKey()\n",
    "cv2.destroyAllWindows()    \n"
   ]
  },
  {
   "cell_type": "code",
   "execution_count": 13,
   "id": "85840163",
   "metadata": {},
   "outputs": [],
   "source": [
    "img5= np.zeros((600,1000,3),np.uint8)\n",
    "img5= cv2.rectangle(img5,(0,500),(999,600),(139,69,0),-1)\n",
    "\n",
    "#face\n",
    "img5=cv2.circle(img5,(440,250),40,(255,255,255),-1)\n",
    "img5=cv2.circle(img5,(440,363),70,(255,255,255),-1)\n",
    "#legs\n",
    "img5=cv2.rectangle(img5,(415,420),(435,500),(255,255,255),-1)\n",
    "img5=cv2.rectangle(img5,(440,420),(460,500),(255,255,255),-1)\n",
    "#hands\n",
    "img5=cv2.rectangle(img5,(353,318),(373,421),(0,69,139),-1)\n",
    "img5=cv2.rectangle(img5,(507,316),(527,421),(0,69,139),-1)\n",
    "\n",
    "#cv2.imwrite(r\"C:\\Users\\Downloads\\gif running\\i5.jpg\",img5)\n",
    "        \n",
    "cv2.imshow(\"img\",img5)\n",
    "cv2.waitKey()\n",
    "cv2.destroyAllWindows()    \n",
    "        \n"
   ]
  },
  {
   "cell_type": "code",
   "execution_count": 14,
   "id": "5ec986ce",
   "metadata": {},
   "outputs": [],
   "source": [
    "count=1\n",
    "while True:\n",
    "    imgf=cv2.imread(r\"C:\\Users\\Downloads\\gif running\\i{}.jpg\".format(count))\n",
    "    cv2.imshow(\"gif\",imgf)\n",
    "    if cv2.waitKey(300) & 255 == ord('q'):\n",
    "        break\n",
    "    count=count+1\n",
    "    if count==6:\n",
    "        count=1\n",
    "cv2.destroyAllWindows()"
   ]
  }
 ],
 "metadata": {
  "kernelspec": {
   "display_name": "Python 3 (ipykernel)",
   "language": "python",
   "name": "python3"
  },
  "language_info": {
   "codemirror_mode": {
    "name": "ipython",
    "version": 3
   },
   "file_extension": ".py",
   "mimetype": "text/x-python",
   "name": "python",
   "nbconvert_exporter": "python",
   "pygments_lexer": "ipython3",
   "version": "3.9.13"
  }
 },
 "nbformat": 4,
 "nbformat_minor": 5
}
